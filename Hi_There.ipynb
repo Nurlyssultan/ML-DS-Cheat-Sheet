{
  "nbformat": 4,
  "nbformat_minor": 0,
  "metadata": {
    "colab": {
      "provenance": [],
      "toc_visible": true,
      "authorship_tag": "ABX9TyNLGW2mMn7o8NVKc6Ex2MQ4",
      "include_colab_link": true
    },
    "kernelspec": {
      "name": "python3",
      "display_name": "Python 3"
    },
    "language_info": {
      "name": "python"
    }
  },
  "cells": [
    {
      "cell_type": "markdown",
      "metadata": {
        "id": "view-in-github",
        "colab_type": "text"
      },
      "source": [
        "<a href=\"https://colab.research.google.com/github/Nurlyssultan/ML-DS-Cheat-Sheet/blob/main/Hi_There.ipynb\" target=\"_parent\"><img src=\"https://colab.research.google.com/assets/colab-badge.svg\" alt=\"Open In Colab\"/></a>"
      ]
    },
    {
      "cell_type": "code",
      "execution_count": null,
      "metadata": {
        "id": "CtT_Y9TnVCcY"
      },
      "outputs": [],
      "source": [
        "# Hello"
      ]
    },
    {
      "cell_type": "markdown",
      "source": [
        "# Hello"
      ],
      "metadata": {
        "id": "BUYC_XiBVFWf"
      }
    },
    {
      "cell_type": "markdown",
      "source": [
        "## There\n"
      ],
      "metadata": {
        "id": "CzIdOMrQVJ1v"
      }
    },
    {
      "cell_type": "markdown",
      "source": [
        "### HTGTet tert dfg dfg"
      ],
      "metadata": {
        "id": "uDrE0xjLVRml"
      }
    },
    {
      "cell_type": "code",
      "source": [
        "### There is a file"
      ],
      "metadata": {
        "id": "JuO7iE_zVNiM"
      },
      "execution_count": 1,
      "outputs": []
    },
    {
      "cell_type": "code",
      "source": [
        "##"
      ],
      "metadata": {
        "id": "wb-b3ot5VGTi"
      },
      "execution_count": null,
      "outputs": []
    },
    {
      "cell_type": "markdown",
      "source": [
        "# New section"
      ],
      "metadata": {
        "id": "Fmugx6uOVHQo"
      }
    }
  ]
}