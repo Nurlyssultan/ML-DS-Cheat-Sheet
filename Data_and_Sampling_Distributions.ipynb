{
  "nbformat": 4,
  "nbformat_minor": 0,
  "metadata": {
    "colab": {
      "provenance": [],
      "authorship_tag": "ABX9TyP56bG8skBpoqqqvOmiQPFP",
      "include_colab_link": true
    },
    "kernelspec": {
      "name": "python3",
      "display_name": "Python 3"
    },
    "language_info": {
      "name": "python"
    }
  },
  "cells": [
    {
      "cell_type": "markdown",
      "metadata": {
        "id": "view-in-github",
        "colab_type": "text"
      },
      "source": [
        "<a href=\"https://colab.research.google.com/github/Nurlyssultan/ML-DS-Cheat-Sheet/blob/main/Data_and_Sampling_Distributions.ipynb\" target=\"_parent\"><img src=\"https://colab.research.google.com/assets/colab-badge.svg\" alt=\"Open In Colab\"/></a>"
      ]
    },
    {
      "cell_type": "markdown",
      "source": [
        " ## Random Sampling\n",
        " #### A sample is a subset from a larger data set - population;\n",
        " #### A random sampling is a process that represents each member of population at random.\n",
        "\n",
        " #### Bias - systematic error\n",
        " #### Sample bias - misrepresentation of population\n",
        "\n"
      ],
      "metadata": {
        "id": "6wyeIBHD-jd0"
      }
    },
    {
      "cell_type": "markdown",
      "source": [
        "## Standard Error\n",
        "$$SE = \\frac{s}{\\sqrt{n}}$$\n",
        "\n",
        "where:\n",
        "\n",
        "* $SE$ is the standard error of the mean\n",
        "* $s$ is the sample standard deviation\n",
        "* $n$ is the sample size\n",
        "\n",
        "The standard error is a measure of the variability of the sample mean. It is used to estimate the accuracy of the sample mean as an estimate of the population mean.\n",
        "\n",
        "The standard error formula can be derived using the following steps:\n",
        "\n",
        "1. The sample variance is calculated as follows:\n",
        "\n",
        "$$s^2 = \\frac{1}{n-1}\\sum_{i=1}^{n}(x_i - \\bar{x})^2$$\n",
        "\n",
        "where:\n",
        "\n",
        "* $s^2$ is the sample variance\n",
        "* $x_i$ is the $i$th observation in the sample\n",
        "* $\\bar{x}$ is the sample mean\n",
        "\n",
        "2. The sample standard deviation is calculated as follows:\n",
        "\n",
        "$$s = \\sqrt{s^2}$$\n",
        "\n",
        "3. The standard error is calculated as follows:\n",
        "\n",
        "$$SE = \\frac{s}{\\sqrt{n}}$$\n",
        "\n",
        "The standard error is a valuable tool for understanding the accuracy of a sample mean. It can be used to construct confidence intervals for the population mean and to test hypotheses about the population mean."
      ],
      "metadata": {
        "id": "095-jEliN-sl"
      }
    },
    {
      "cell_type": "code",
      "source": [],
      "metadata": {
        "id": "u_5u9GVJ5vb6"
      },
      "execution_count": null,
      "outputs": []
    }
  ]
}