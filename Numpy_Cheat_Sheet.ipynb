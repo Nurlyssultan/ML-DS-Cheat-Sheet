{
  "cells": [
    {
      "cell_type": "markdown",
      "metadata": {
        "id": "view-in-github",
        "colab_type": "text"
      },
      "source": [
        "<a href=\"https://colab.research.google.com/github/Nurlyssultan/ML-DS-Cheat-Sheet/blob/main/Numpy_Cheat_Sheet.ipynb\" target=\"_parent\"><img src=\"https://colab.research.google.com/assets/colab-badge.svg\" alt=\"Open In Colab\"/></a>"
      ]
    },
    {
      "cell_type": "markdown",
      "metadata": {
        "id": "P90pxWIEq97I"
      },
      "source": [
        "# A Quick Introduction to Numerical Data Manipulation with Python and NumPy"
      ]
    },
    {
      "cell_type": "markdown",
      "metadata": {
        "id": "bXSVnTSjq97M"
      },
      "source": [
        "## What is NumPy?\n",
        "\n",
        "[NumPy](https://numpy.org/doc/stable/index.html) stands for numerical Python. It's the backbone of all kinds of scientific and numerical computing in Python.\n"
      ]
    },
    {
      "cell_type": "markdown",
      "metadata": {
        "id": "X8_q20mJq97N"
      },
      "source": [
        "## Why NumPy?\n",
        "\n",
        "You can do numerical calculations using pure Python. In the beginning, you might think Python is fast but once your data gets large, you'll start to notice slow downs.\n",
        "\n",
        "One of the main reasons you use NumPy is because it's fast. Behind the scenes, the code has been optimized to run using C. Which is another programming language, which can do things much faster than Python.\n",
        "\n",
        "The benefit of this being behind the scenes is you don't need to know any C to take advantage of it. You can write your numerical computations in Python using NumPy and get the added speed benefits.\n",
        "\n",
        "If your curious as to what causes this speed benefit, it's a process called vectorization. [Vectorization](https://en.wikipedia.org/wiki/Vectorization) aims to do calculations by avoiding loops as loops can create potential bottlenecks.\n",
        "\n",
        "NumPy achieves vectorization through a process called [broadcasting](https://docs.scipy.org/doc/numpy/user/basics.broadcasting.html#module-numpy.doc.broadcasting)."
      ]
    },
    {
      "cell_type": "markdown",
      "metadata": {
        "id": "uRTzd-guq97P"
      },
      "source": [
        "## 0. Importing NumPy"
      ]
    },
    {
      "cell_type": "code",
      "execution_count": 1,
      "metadata": {
        "colab": {
          "base_uri": "https://localhost:8080/"
        },
        "id": "x_x7onLEq97P",
        "outputId": "55b44ff8-43ce-40f4-aff4-d5ca02c17450"
      },
      "outputs": [
        {
          "output_type": "stream",
          "name": "stdout",
          "text": [
            "1.25.2\n"
          ]
        }
      ],
      "source": [
        "import numpy as np\n",
        "\n",
        "# Check the version\n",
        "print(np.__version__)"
      ]
    },
    {
      "cell_type": "markdown",
      "metadata": {
        "id": "sTJXKmfvq97Q"
      },
      "source": [
        "## 1. DataTypes and attributes\n"
      ]
    },
    {
      "cell_type": "code",
      "execution_count": 2,
      "metadata": {
        "id": "G8UFyKb-q97R"
      },
      "outputs": [],
      "source": [
        "# 1-dimensonal array, also referred to as a vector\n",
        "a1 = np.array([1, 2, 3])\n",
        "\n",
        "# 2-dimensional array, also referred to as matrix\n",
        "a2 = np.array([[1, 2.0, 3.3],\n",
        "               [4, 5, 6.5]])\n",
        "\n",
        "# 3-dimensional array, also referred to as a matrix\n",
        "a3 = np.array([[[1, 2, 3],\n",
        "                [4, 5, 6],\n",
        "                [7, 8, 9]],\n",
        "                [[10, 11, 12],\n",
        "                 [13, 14, 15],\n",
        "                 [16, 17, 18]]])"
      ]
    },
    {
      "cell_type": "code",
      "execution_count": 3,
      "metadata": {
        "colab": {
          "base_uri": "https://localhost:8080/"
        },
        "id": "8W6u5eshq97R",
        "outputId": "98dad8df-b5fd-4c77-81c0-e8cb161845cb"
      },
      "outputs": [
        {
          "output_type": "execute_result",
          "data": {
            "text/plain": [
              "((3,), 1, dtype('int64'), 3, numpy.ndarray)"
            ]
          },
          "metadata": {},
          "execution_count": 3
        }
      ],
      "source": [
        "a1.shape, a1.ndim, a1.dtype, a1.size, type(a1)"
      ]
    },
    {
      "cell_type": "code",
      "execution_count": 4,
      "metadata": {
        "colab": {
          "base_uri": "https://localhost:8080/"
        },
        "id": "y-kL1Pcuq97R",
        "outputId": "b86933bc-f7d6-4759-a566-0a022a644753"
      },
      "outputs": [
        {
          "output_type": "execute_result",
          "data": {
            "text/plain": [
              "((2, 3), 2, dtype('float64'), 6, numpy.ndarray)"
            ]
          },
          "metadata": {},
          "execution_count": 4
        }
      ],
      "source": [
        "a2.shape, a2.ndim, a2.dtype, a2.size, type(a2)"
      ]
    },
    {
      "cell_type": "code",
      "execution_count": 5,
      "metadata": {
        "colab": {
          "base_uri": "https://localhost:8080/"
        },
        "id": "0a1GvJt3q97S",
        "outputId": "9d94a70e-31b5-4ec9-a6b6-742127abca37"
      },
      "outputs": [
        {
          "output_type": "execute_result",
          "data": {
            "text/plain": [
              "((2, 3, 3), 3, dtype('int64'), 18, numpy.ndarray)"
            ]
          },
          "metadata": {},
          "execution_count": 5
        }
      ],
      "source": [
        "a3.shape, a3.ndim, a3.dtype, a3.size, type(a3)"
      ]
    },
    {
      "cell_type": "markdown",
      "metadata": {
        "id": "FX6EP46Qq97T"
      },
      "source": [
        "### Anatomy of an array\n",
        "\n",
        "Key terms:\n",
        "* **Array** - A list of numbers, can be multi-dimensional.\n",
        "* **Scalar** - A single number (e.g. `7`).\n",
        "* **Vector** - A list of numbers with 1-dimension (e.g. `np.array([1, 2, 3])`).\n",
        "* **Matrix** - A (usually) multi-dimensional list of numbers (e.g. `np.array([[1, 2, 3], [4, 5, 6]])`)."
      ]
    },
    {
      "cell_type": "markdown",
      "source": [
        "a2"
      ],
      "metadata": {
        "id": "ciQ-jh8qq97V"
      }
    },
    {
      "cell_type": "markdown",
      "metadata": {
        "id": "MA7fdXRBq97V"
      },
      "source": [
        "## 2. Creating arrays\n",
        "\n",
        "* `np.array()`\n",
        "* `np.ones()`\n",
        "* `np.zeros()`\n",
        "* `np.random.rand(5, 3)`\n",
        "* `np.random.randint(10, size=5)`\n",
        "* `np.random.seed()` - pseudo random numbers"
      ]
    },
    {
      "cell_type": "code",
      "execution_count": 8,
      "metadata": {
        "colab": {
          "base_uri": "https://localhost:8080/"
        },
        "id": "vBDRex9Vq97W",
        "outputId": "b6da9c3d-c221-4fce-a8d4-c8a901bf69d4"
      },
      "outputs": [
        {
          "output_type": "execute_result",
          "data": {
            "text/plain": [
              "array([1, 2, 3])"
            ]
          },
          "metadata": {},
          "execution_count": 8
        }
      ],
      "source": [
        "# Create a simple array\n",
        "simple_array = np.array([1, 2, 3])\n",
        "simple_array"
      ]
    },
    {
      "cell_type": "code",
      "execution_count": 9,
      "metadata": {
        "colab": {
          "base_uri": "https://localhost:8080/"
        },
        "id": "kLNGqgeKq97W",
        "outputId": "867d3a3a-80a5-4b78-e32c-3251a3033f9a"
      },
      "outputs": [
        {
          "output_type": "execute_result",
          "data": {
            "text/plain": [
              "(array([1, 2, 3]), dtype('int64'))"
            ]
          },
          "metadata": {},
          "execution_count": 9
        }
      ],
      "source": [
        "simple_array = np.array((1, 2, 3))\n",
        "simple_array, simple_array.dtype"
      ]
    },
    {
      "cell_type": "code",
      "execution_count": 10,
      "metadata": {
        "colab": {
          "base_uri": "https://localhost:8080/"
        },
        "id": "cEsIc9SHq97X",
        "outputId": "3ba89e0d-e67c-4766-ecd1-d9daf024d3ab"
      },
      "outputs": [
        {
          "output_type": "execute_result",
          "data": {
            "text/plain": [
              "array([[1., 1.],\n",
              "       [1., 1.],\n",
              "       [1., 1.],\n",
              "       [1., 1.],\n",
              "       [1., 1.],\n",
              "       [1., 1.],\n",
              "       [1., 1.],\n",
              "       [1., 1.],\n",
              "       [1., 1.],\n",
              "       [1., 1.]])"
            ]
          },
          "metadata": {},
          "execution_count": 10
        }
      ],
      "source": [
        "# Create an array of ones\n",
        "ones = np.ones((10, 2))\n",
        "ones"
      ]
    },
    {
      "cell_type": "code",
      "execution_count": 11,
      "metadata": {
        "colab": {
          "base_uri": "https://localhost:8080/"
        },
        "id": "qKFWgUeeq97X",
        "outputId": "dd8f3af4-663a-4b11-dc0e-b9c74f90bb80"
      },
      "outputs": [
        {
          "output_type": "execute_result",
          "data": {
            "text/plain": [
              "dtype('float64')"
            ]
          },
          "metadata": {},
          "execution_count": 11
        }
      ],
      "source": [
        "# The default datatype is 'float64'\n",
        "ones.dtype"
      ]
    },
    {
      "cell_type": "code",
      "execution_count": 12,
      "metadata": {
        "colab": {
          "base_uri": "https://localhost:8080/"
        },
        "id": "F--fOzPSq97Y",
        "outputId": "27c73218-cb27-4393-f13f-1eeb684a442b"
      },
      "outputs": [
        {
          "output_type": "execute_result",
          "data": {
            "text/plain": [
              "array([[1, 1],\n",
              "       [1, 1],\n",
              "       [1, 1],\n",
              "       [1, 1],\n",
              "       [1, 1],\n",
              "       [1, 1],\n",
              "       [1, 1],\n",
              "       [1, 1],\n",
              "       [1, 1],\n",
              "       [1, 1]])"
            ]
          },
          "metadata": {},
          "execution_count": 12
        }
      ],
      "source": [
        "# You can change the datatype with .astype()\n",
        "ones.astype(int)"
      ]
    },
    {
      "cell_type": "code",
      "execution_count": 13,
      "metadata": {
        "colab": {
          "base_uri": "https://localhost:8080/"
        },
        "id": "CALEoBNXq97Y",
        "outputId": "de020c4e-60e0-4943-c917-b40f33d69374"
      },
      "outputs": [
        {
          "output_type": "execute_result",
          "data": {
            "text/plain": [
              "array([[[0., 0., 0.],\n",
              "        [0., 0., 0.],\n",
              "        [0., 0., 0.]],\n",
              "\n",
              "       [[0., 0., 0.],\n",
              "        [0., 0., 0.],\n",
              "        [0., 0., 0.]],\n",
              "\n",
              "       [[0., 0., 0.],\n",
              "        [0., 0., 0.],\n",
              "        [0., 0., 0.]],\n",
              "\n",
              "       [[0., 0., 0.],\n",
              "        [0., 0., 0.],\n",
              "        [0., 0., 0.]],\n",
              "\n",
              "       [[0., 0., 0.],\n",
              "        [0., 0., 0.],\n",
              "        [0., 0., 0.]]])"
            ]
          },
          "metadata": {},
          "execution_count": 13
        }
      ],
      "source": [
        "# Create an array of zeros\n",
        "zeros = np.zeros((5, 3, 3))\n",
        "zeros"
      ]
    },
    {
      "cell_type": "code",
      "execution_count": 14,
      "metadata": {
        "colab": {
          "base_uri": "https://localhost:8080/"
        },
        "id": "Px6kD4vaq97Y",
        "outputId": "f7e53051-1d09-431d-f8c0-c1b38bf2ba47"
      },
      "outputs": [
        {
          "output_type": "execute_result",
          "data": {
            "text/plain": [
              "dtype('float64')"
            ]
          },
          "metadata": {},
          "execution_count": 14
        }
      ],
      "source": [
        "zeros.dtype"
      ]
    },
    {
      "cell_type": "code",
      "execution_count": 15,
      "metadata": {
        "colab": {
          "base_uri": "https://localhost:8080/"
        },
        "id": "YGANrtKXq97Y",
        "outputId": "b4dc05e0-97d5-4178-d0f3-56e2b4b3d178"
      },
      "outputs": [
        {
          "output_type": "execute_result",
          "data": {
            "text/plain": [
              "array([0, 2, 4, 6, 8])"
            ]
          },
          "metadata": {},
          "execution_count": 15
        }
      ],
      "source": [
        "# Create an array within a range of values\n",
        "range_array = np.arange(0, 10, 2)\n",
        "range_array"
      ]
    },
    {
      "cell_type": "code",
      "execution_count": 16,
      "metadata": {
        "colab": {
          "base_uri": "https://localhost:8080/"
        },
        "id": "qlJk2xnwq97Y",
        "outputId": "a67a1553-467d-455c-bd6f-bb402b322794"
      },
      "outputs": [
        {
          "output_type": "execute_result",
          "data": {
            "text/plain": [
              "array([[8, 0, 4],\n",
              "       [7, 7, 5],\n",
              "       [2, 7, 2],\n",
              "       [0, 0, 2],\n",
              "       [1, 0, 7]])"
            ]
          },
          "metadata": {},
          "execution_count": 16
        }
      ],
      "source": [
        "# Random array\n",
        "random_array = np.random.randint(10, size=(5, 3))\n",
        "random_array"
      ]
    },
    {
      "cell_type": "code",
      "execution_count": 17,
      "metadata": {
        "colab": {
          "base_uri": "https://localhost:8080/"
        },
        "id": "TfnU9B9oq97Z",
        "outputId": "1f85b173-9c11-4f71-9403-a1575e810d72"
      },
      "outputs": [
        {
          "output_type": "execute_result",
          "data": {
            "text/plain": [
              "array([[0.77289001, 0.55910452, 0.77505403],\n",
              "       [0.96695001, 0.53099171, 0.55587505],\n",
              "       [0.76253041, 0.00344647, 0.43558407],\n",
              "       [0.82501644, 0.57667688, 0.93152114],\n",
              "       [0.01914063, 0.13681395, 0.15061463]])"
            ]
          },
          "metadata": {},
          "execution_count": 17
        }
      ],
      "source": [
        "# Random array of floats (between 0 & 1)\n",
        "np.random.random((5, 3))"
      ]
    },
    {
      "cell_type": "code",
      "execution_count": 18,
      "metadata": {
        "colab": {
          "base_uri": "https://localhost:8080/"
        },
        "id": "aWIIIu-2q97Z",
        "outputId": "b044b6f2-e83a-43f3-ed24-3b9a3506ca60"
      },
      "outputs": [
        {
          "output_type": "execute_result",
          "data": {
            "text/plain": [
              "array([[0.00113812, 0.52734613, 0.59970252],\n",
              "       [0.60831144, 0.16156476, 0.77385713],\n",
              "       [0.37394521, 0.67674385, 0.92764362],\n",
              "       [0.78728415, 0.13483956, 0.72600094],\n",
              "       [0.04392253, 0.56320572, 0.03263898]])"
            ]
          },
          "metadata": {},
          "execution_count": 18
        }
      ],
      "source": [
        "np.random.random((5, 3))"
      ]
    },
    {
      "cell_type": "code",
      "execution_count": 19,
      "metadata": {
        "colab": {
          "base_uri": "https://localhost:8080/"
        },
        "id": "A_Q63Jcuq97Z",
        "outputId": "61d85407-fa32-40da-ddf0-0effc81adb6a"
      },
      "outputs": [
        {
          "output_type": "execute_result",
          "data": {
            "text/plain": [
              "array([[0.02991605, 0.24750135, 0.7125273 ],\n",
              "       [0.69335338, 0.24564803, 0.21402424],\n",
              "       [0.67979309, 0.69611799, 0.11017338],\n",
              "       [0.77582959, 0.17772384, 0.80107197],\n",
              "       [0.26507493, 0.56516986, 0.9495781 ]])"
            ]
          },
          "metadata": {},
          "execution_count": 19
        }
      ],
      "source": [
        "# Random 5x3 array of floats (between 0 & 1), similar to above\n",
        "np.random.rand(5, 3)"
      ]
    },
    {
      "cell_type": "code",
      "execution_count": 21,
      "metadata": {
        "colab": {
          "base_uri": "https://localhost:8080/"
        },
        "id": "vjOiiJzNq97Z",
        "outputId": "88138d63-c6b1-4c66-f0f1-c99ec765fc13"
      },
      "outputs": [
        {
          "output_type": "execute_result",
          "data": {
            "text/plain": [
              "array([[0.62735075, 0.08519877, 0.69435221],\n",
              "       [0.88717293, 0.35061696, 0.95013075],\n",
              "       [0.61963845, 0.42265947, 0.13842524],\n",
              "       [0.44482289, 0.11697494, 0.79559523],\n",
              "       [0.02817484, 0.10305526, 0.30682099]])"
            ]
          },
          "metadata": {},
          "execution_count": 21
        }
      ],
      "source": [
        "np.random.rand(5, 3)"
      ]
    },
    {
      "cell_type": "markdown",
      "metadata": {
        "id": "x7SugqASq97a"
      },
      "source": [
        "## `Numpy Seed`\n",
        "NumPy uses pseudo-random numbers, which means, the numbers look random but aren't really, they're predetermined.\n",
        "\n",
        "\n",
        "To do this, you can use [`np.random.seed()`](https://docs.scipy.org/doc/numpy-1.15.0/reference/generated/numpy.random.seed.html).\n"
      ]
    },
    {
      "cell_type": "code",
      "execution_count": 24,
      "metadata": {
        "colab": {
          "base_uri": "https://localhost:8080/"
        },
        "id": "WEGnxS_hq97a",
        "outputId": "eb023a38-f368-4dfd-b7fd-6498959d05e2"
      },
      "outputs": [
        {
          "output_type": "execute_result",
          "data": {
            "text/plain": [
              "array([[5, 0, 3],\n",
              "       [3, 7, 9],\n",
              "       [3, 5, 2],\n",
              "       [4, 7, 6],\n",
              "       [8, 8, 1]])"
            ]
          },
          "metadata": {},
          "execution_count": 24
        }
      ],
      "source": [
        "# Set random seed to 0\n",
        "np.random.seed(0)\n",
        "\n",
        "# Make 'random' numbers\n",
        "np.random.randint(10, size=(5, 3))"
      ]
    },
    {
      "cell_type": "code",
      "execution_count": 27,
      "metadata": {
        "colab": {
          "base_uri": "https://localhost:8080/"
        },
        "id": "3sAEd8Q5q97a",
        "outputId": "071950c7-a2c2-48e9-e7f2-ac455182b4f5"
      },
      "outputs": [
        {
          "output_type": "execute_result",
          "data": {
            "text/plain": [
              "array([[6, 7, 7],\n",
              "       [8, 1, 5],\n",
              "       [9, 8, 9],\n",
              "       [4, 3, 0],\n",
              "       [3, 5, 0]])"
            ]
          },
          "metadata": {},
          "execution_count": 27
        }
      ],
      "source": [
        "# Make more random numbers\n",
        "np.random.randint(10, size=(5, 3))"
      ]
    },
    {
      "cell_type": "markdown",
      "metadata": {
        "id": "mzBkixUhq97b"
      },
      "source": [
        "Because `np.random.seed()` is set to 0, the random numbers are the same as the cell with `np.random.seed()` set to 0 as well.\n",
        "\n",
        "Setting `np.random.seed()` is not 100% necessary but it's helpful to keep numbers the same throughout your experiments.\n",
        "\n",
        "For example, say you wanted to split your data randomly into training and test sets.\n",
        "\n",
        "Every time you randomly split, you might get different rows in each set.\n",
        "\n",
        "If you shared your work with someone else, they'd get different rows in each set too.\n",
        "\n",
        "Setting `np.random.seed()` ensures there's still randomness, it just makes the randomness repeatable. Hence the 'pseudo-random' numbers."
      ]
    },
    {
      "cell_type": "code",
      "execution_count": 28,
      "metadata": {
        "colab": {
          "base_uri": "https://localhost:8080/",
          "height": 204
        },
        "id": "VlyKlvS3q97b",
        "outputId": "24ab7c2c-8138-461f-90ee-880016313d35"
      },
      "outputs": [
        {
          "output_type": "execute_result",
          "data": {
            "text/plain": [
              "   0  1  2\n",
              "0  5  0  3\n",
              "1  3  7  9\n",
              "2  3  5  2\n",
              "3  4  7  6\n",
              "4  8  8  1"
            ],
            "text/html": [
              "\n",
              "  <div id=\"df-0841b15e-ef1e-464c-995e-33caefb306ca\" class=\"colab-df-container\">\n",
              "    <div>\n",
              "<style scoped>\n",
              "    .dataframe tbody tr th:only-of-type {\n",
              "        vertical-align: middle;\n",
              "    }\n",
              "\n",
              "    .dataframe tbody tr th {\n",
              "        vertical-align: top;\n",
              "    }\n",
              "\n",
              "    .dataframe thead th {\n",
              "        text-align: right;\n",
              "    }\n",
              "</style>\n",
              "<table border=\"1\" class=\"dataframe\">\n",
              "  <thead>\n",
              "    <tr style=\"text-align: right;\">\n",
              "      <th></th>\n",
              "      <th>0</th>\n",
              "      <th>1</th>\n",
              "      <th>2</th>\n",
              "    </tr>\n",
              "  </thead>\n",
              "  <tbody>\n",
              "    <tr>\n",
              "      <th>0</th>\n",
              "      <td>5</td>\n",
              "      <td>0</td>\n",
              "      <td>3</td>\n",
              "    </tr>\n",
              "    <tr>\n",
              "      <th>1</th>\n",
              "      <td>3</td>\n",
              "      <td>7</td>\n",
              "      <td>9</td>\n",
              "    </tr>\n",
              "    <tr>\n",
              "      <th>2</th>\n",
              "      <td>3</td>\n",
              "      <td>5</td>\n",
              "      <td>2</td>\n",
              "    </tr>\n",
              "    <tr>\n",
              "      <th>3</th>\n",
              "      <td>4</td>\n",
              "      <td>7</td>\n",
              "      <td>6</td>\n",
              "    </tr>\n",
              "    <tr>\n",
              "      <th>4</th>\n",
              "      <td>8</td>\n",
              "      <td>8</td>\n",
              "      <td>1</td>\n",
              "    </tr>\n",
              "  </tbody>\n",
              "</table>\n",
              "</div>\n",
              "    <div class=\"colab-df-buttons\">\n",
              "\n",
              "  <div class=\"colab-df-container\">\n",
              "    <button class=\"colab-df-convert\" onclick=\"convertToInteractive('df-0841b15e-ef1e-464c-995e-33caefb306ca')\"\n",
              "            title=\"Convert this dataframe to an interactive table.\"\n",
              "            style=\"display:none;\">\n",
              "\n",
              "  <svg xmlns=\"http://www.w3.org/2000/svg\" height=\"24px\" viewBox=\"0 -960 960 960\">\n",
              "    <path d=\"M120-120v-720h720v720H120Zm60-500h600v-160H180v160Zm220 220h160v-160H400v160Zm0 220h160v-160H400v160ZM180-400h160v-160H180v160Zm440 0h160v-160H620v160ZM180-180h160v-160H180v160Zm440 0h160v-160H620v160Z\"/>\n",
              "  </svg>\n",
              "    </button>\n",
              "\n",
              "  <style>\n",
              "    .colab-df-container {\n",
              "      display:flex;\n",
              "      gap: 12px;\n",
              "    }\n",
              "\n",
              "    .colab-df-convert {\n",
              "      background-color: #E8F0FE;\n",
              "      border: none;\n",
              "      border-radius: 50%;\n",
              "      cursor: pointer;\n",
              "      display: none;\n",
              "      fill: #1967D2;\n",
              "      height: 32px;\n",
              "      padding: 0 0 0 0;\n",
              "      width: 32px;\n",
              "    }\n",
              "\n",
              "    .colab-df-convert:hover {\n",
              "      background-color: #E2EBFA;\n",
              "      box-shadow: 0px 1px 2px rgba(60, 64, 67, 0.3), 0px 1px 3px 1px rgba(60, 64, 67, 0.15);\n",
              "      fill: #174EA6;\n",
              "    }\n",
              "\n",
              "    .colab-df-buttons div {\n",
              "      margin-bottom: 4px;\n",
              "    }\n",
              "\n",
              "    [theme=dark] .colab-df-convert {\n",
              "      background-color: #3B4455;\n",
              "      fill: #D2E3FC;\n",
              "    }\n",
              "\n",
              "    [theme=dark] .colab-df-convert:hover {\n",
              "      background-color: #434B5C;\n",
              "      box-shadow: 0px 1px 3px 1px rgba(0, 0, 0, 0.15);\n",
              "      filter: drop-shadow(0px 1px 2px rgba(0, 0, 0, 0.3));\n",
              "      fill: #FFFFFF;\n",
              "    }\n",
              "  </style>\n",
              "\n",
              "    <script>\n",
              "      const buttonEl =\n",
              "        document.querySelector('#df-0841b15e-ef1e-464c-995e-33caefb306ca button.colab-df-convert');\n",
              "      buttonEl.style.display =\n",
              "        google.colab.kernel.accessAllowed ? 'block' : 'none';\n",
              "\n",
              "      async function convertToInteractive(key) {\n",
              "        const element = document.querySelector('#df-0841b15e-ef1e-464c-995e-33caefb306ca');\n",
              "        const dataTable =\n",
              "          await google.colab.kernel.invokeFunction('convertToInteractive',\n",
              "                                                    [key], {});\n",
              "        if (!dataTable) return;\n",
              "\n",
              "        const docLinkHtml = 'Like what you see? Visit the ' +\n",
              "          '<a target=\"_blank\" href=https://colab.research.google.com/notebooks/data_table.ipynb>data table notebook</a>'\n",
              "          + ' to learn more about interactive tables.';\n",
              "        element.innerHTML = '';\n",
              "        dataTable['output_type'] = 'display_data';\n",
              "        await google.colab.output.renderOutput(dataTable, element);\n",
              "        const docLink = document.createElement('div');\n",
              "        docLink.innerHTML = docLinkHtml;\n",
              "        element.appendChild(docLink);\n",
              "      }\n",
              "    </script>\n",
              "  </div>\n",
              "\n",
              "\n",
              "<div id=\"df-bbbaf799-3012-4acf-aa14-9174c0eeb003\">\n",
              "  <button class=\"colab-df-quickchart\" onclick=\"quickchart('df-bbbaf799-3012-4acf-aa14-9174c0eeb003')\"\n",
              "            title=\"Suggest charts\"\n",
              "            style=\"display:none;\">\n",
              "\n",
              "<svg xmlns=\"http://www.w3.org/2000/svg\" height=\"24px\"viewBox=\"0 0 24 24\"\n",
              "     width=\"24px\">\n",
              "    <g>\n",
              "        <path d=\"M19 3H5c-1.1 0-2 .9-2 2v14c0 1.1.9 2 2 2h14c1.1 0 2-.9 2-2V5c0-1.1-.9-2-2-2zM9 17H7v-7h2v7zm4 0h-2V7h2v10zm4 0h-2v-4h2v4z\"/>\n",
              "    </g>\n",
              "</svg>\n",
              "  </button>\n",
              "\n",
              "<style>\n",
              "  .colab-df-quickchart {\n",
              "      --bg-color: #E8F0FE;\n",
              "      --fill-color: #1967D2;\n",
              "      --hover-bg-color: #E2EBFA;\n",
              "      --hover-fill-color: #174EA6;\n",
              "      --disabled-fill-color: #AAA;\n",
              "      --disabled-bg-color: #DDD;\n",
              "  }\n",
              "\n",
              "  [theme=dark] .colab-df-quickchart {\n",
              "      --bg-color: #3B4455;\n",
              "      --fill-color: #D2E3FC;\n",
              "      --hover-bg-color: #434B5C;\n",
              "      --hover-fill-color: #FFFFFF;\n",
              "      --disabled-bg-color: #3B4455;\n",
              "      --disabled-fill-color: #666;\n",
              "  }\n",
              "\n",
              "  .colab-df-quickchart {\n",
              "    background-color: var(--bg-color);\n",
              "    border: none;\n",
              "    border-radius: 50%;\n",
              "    cursor: pointer;\n",
              "    display: none;\n",
              "    fill: var(--fill-color);\n",
              "    height: 32px;\n",
              "    padding: 0;\n",
              "    width: 32px;\n",
              "  }\n",
              "\n",
              "  .colab-df-quickchart:hover {\n",
              "    background-color: var(--hover-bg-color);\n",
              "    box-shadow: 0 1px 2px rgba(60, 64, 67, 0.3), 0 1px 3px 1px rgba(60, 64, 67, 0.15);\n",
              "    fill: var(--button-hover-fill-color);\n",
              "  }\n",
              "\n",
              "  .colab-df-quickchart-complete:disabled,\n",
              "  .colab-df-quickchart-complete:disabled:hover {\n",
              "    background-color: var(--disabled-bg-color);\n",
              "    fill: var(--disabled-fill-color);\n",
              "    box-shadow: none;\n",
              "  }\n",
              "\n",
              "  .colab-df-spinner {\n",
              "    border: 2px solid var(--fill-color);\n",
              "    border-color: transparent;\n",
              "    border-bottom-color: var(--fill-color);\n",
              "    animation:\n",
              "      spin 1s steps(1) infinite;\n",
              "  }\n",
              "\n",
              "  @keyframes spin {\n",
              "    0% {\n",
              "      border-color: transparent;\n",
              "      border-bottom-color: var(--fill-color);\n",
              "      border-left-color: var(--fill-color);\n",
              "    }\n",
              "    20% {\n",
              "      border-color: transparent;\n",
              "      border-left-color: var(--fill-color);\n",
              "      border-top-color: var(--fill-color);\n",
              "    }\n",
              "    30% {\n",
              "      border-color: transparent;\n",
              "      border-left-color: var(--fill-color);\n",
              "      border-top-color: var(--fill-color);\n",
              "      border-right-color: var(--fill-color);\n",
              "    }\n",
              "    40% {\n",
              "      border-color: transparent;\n",
              "      border-right-color: var(--fill-color);\n",
              "      border-top-color: var(--fill-color);\n",
              "    }\n",
              "    60% {\n",
              "      border-color: transparent;\n",
              "      border-right-color: var(--fill-color);\n",
              "    }\n",
              "    80% {\n",
              "      border-color: transparent;\n",
              "      border-right-color: var(--fill-color);\n",
              "      border-bottom-color: var(--fill-color);\n",
              "    }\n",
              "    90% {\n",
              "      border-color: transparent;\n",
              "      border-bottom-color: var(--fill-color);\n",
              "    }\n",
              "  }\n",
              "</style>\n",
              "\n",
              "  <script>\n",
              "    async function quickchart(key) {\n",
              "      const quickchartButtonEl =\n",
              "        document.querySelector('#' + key + ' button');\n",
              "      quickchartButtonEl.disabled = true;  // To prevent multiple clicks.\n",
              "      quickchartButtonEl.classList.add('colab-df-spinner');\n",
              "      try {\n",
              "        const charts = await google.colab.kernel.invokeFunction(\n",
              "            'suggestCharts', [key], {});\n",
              "      } catch (error) {\n",
              "        console.error('Error during call to suggestCharts:', error);\n",
              "      }\n",
              "      quickchartButtonEl.classList.remove('colab-df-spinner');\n",
              "      quickchartButtonEl.classList.add('colab-df-quickchart-complete');\n",
              "    }\n",
              "    (() => {\n",
              "      let quickchartButtonEl =\n",
              "        document.querySelector('#df-bbbaf799-3012-4acf-aa14-9174c0eeb003 button');\n",
              "      quickchartButtonEl.style.display =\n",
              "        google.colab.kernel.accessAllowed ? 'block' : 'none';\n",
              "    })();\n",
              "  </script>\n",
              "</div>\n",
              "\n",
              "  <div id=\"id_88fbdc39-b807-4489-991e-520a7d39132c\">\n",
              "    <style>\n",
              "      .colab-df-generate {\n",
              "        background-color: #E8F0FE;\n",
              "        border: none;\n",
              "        border-radius: 50%;\n",
              "        cursor: pointer;\n",
              "        display: none;\n",
              "        fill: #1967D2;\n",
              "        height: 32px;\n",
              "        padding: 0 0 0 0;\n",
              "        width: 32px;\n",
              "      }\n",
              "\n",
              "      .colab-df-generate:hover {\n",
              "        background-color: #E2EBFA;\n",
              "        box-shadow: 0px 1px 2px rgba(60, 64, 67, 0.3), 0px 1px 3px 1px rgba(60, 64, 67, 0.15);\n",
              "        fill: #174EA6;\n",
              "      }\n",
              "\n",
              "      [theme=dark] .colab-df-generate {\n",
              "        background-color: #3B4455;\n",
              "        fill: #D2E3FC;\n",
              "      }\n",
              "\n",
              "      [theme=dark] .colab-df-generate:hover {\n",
              "        background-color: #434B5C;\n",
              "        box-shadow: 0px 1px 3px 1px rgba(0, 0, 0, 0.15);\n",
              "        filter: drop-shadow(0px 1px 2px rgba(0, 0, 0, 0.3));\n",
              "        fill: #FFFFFF;\n",
              "      }\n",
              "    </style>\n",
              "    <button class=\"colab-df-generate\" onclick=\"generateWithVariable('df')\"\n",
              "            title=\"Generate code using this dataframe.\"\n",
              "            style=\"display:none;\">\n",
              "\n",
              "  <svg xmlns=\"http://www.w3.org/2000/svg\" height=\"24px\"viewBox=\"0 0 24 24\"\n",
              "       width=\"24px\">\n",
              "    <path d=\"M7,19H8.4L18.45,9,17,7.55,7,17.6ZM5,21V16.75L18.45,3.32a2,2,0,0,1,2.83,0l1.4,1.43a1.91,1.91,0,0,1,.58,1.4,1.91,1.91,0,0,1-.58,1.4L9.25,21ZM18.45,9,17,7.55Zm-12,3A5.31,5.31,0,0,0,4.9,8.1,5.31,5.31,0,0,0,1,6.5,5.31,5.31,0,0,0,4.9,4.9,5.31,5.31,0,0,0,6.5,1,5.31,5.31,0,0,0,8.1,4.9,5.31,5.31,0,0,0,12,6.5,5.46,5.46,0,0,0,6.5,12Z\"/>\n",
              "  </svg>\n",
              "    </button>\n",
              "    <script>\n",
              "      (() => {\n",
              "      const buttonEl =\n",
              "        document.querySelector('#id_88fbdc39-b807-4489-991e-520a7d39132c button.colab-df-generate');\n",
              "      buttonEl.style.display =\n",
              "        google.colab.kernel.accessAllowed ? 'block' : 'none';\n",
              "\n",
              "      buttonEl.onclick = () => {\n",
              "        google.colab.notebook.generateWithVariable('df');\n",
              "      }\n",
              "      })();\n",
              "    </script>\n",
              "  </div>\n",
              "\n",
              "    </div>\n",
              "  </div>\n"
            ],
            "application/vnd.google.colaboratory.intrinsic+json": {
              "type": "dataframe",
              "variable_name": "df",
              "summary": "{\n  \"name\": \"df\",\n  \"rows\": 5,\n  \"fields\": [\n    {\n      \"column\": 0,\n      \"properties\": {\n        \"dtype\": \"number\",\n        \"std\": 2,\n        \"min\": 3,\n        \"max\": 8,\n        \"num_unique_values\": 4,\n        \"samples\": [\n          3,\n          8,\n          5\n        ],\n        \"semantic_type\": \"\",\n        \"description\": \"\"\n      }\n    },\n    {\n      \"column\": 1,\n      \"properties\": {\n        \"dtype\": \"number\",\n        \"std\": 3,\n        \"min\": 0,\n        \"max\": 8,\n        \"num_unique_values\": 4,\n        \"samples\": [\n          7,\n          8,\n          0\n        ],\n        \"semantic_type\": \"\",\n        \"description\": \"\"\n      }\n    },\n    {\n      \"column\": 2,\n      \"properties\": {\n        \"dtype\": \"number\",\n        \"std\": 3,\n        \"min\": 1,\n        \"max\": 9,\n        \"num_unique_values\": 5,\n        \"samples\": [\n          9,\n          1,\n          2\n        ],\n        \"semantic_type\": \"\",\n        \"description\": \"\"\n      }\n    }\n  ]\n}"
            }
          },
          "metadata": {},
          "execution_count": 28
        }
      ],
      "source": [
        "import pandas as pd\n",
        "np.random.seed(0)\n",
        "df = pd.DataFrame(np.random.randint(10, size=(5, 3)))\n",
        "df"
      ]
    },
    {
      "cell_type": "markdown",
      "metadata": {
        "id": "1Sa-uMgAq97c"
      },
      "source": [
        "## 3. Viewing arrays and matrices (indexing)\n",
        "\n",
        "Remember, because arrays and matrices are both `ndarray`'s, they can be viewed in similar ways.\n",
        "\n",
        "Let's check out our 3 arrays again."
      ]
    },
    {
      "cell_type": "code",
      "execution_count": 29,
      "metadata": {
        "colab": {
          "base_uri": "https://localhost:8080/"
        },
        "id": "8NCH6JV6q97c",
        "outputId": "dc4e5b0a-8820-479c-978f-50037ff89cc1"
      },
      "outputs": [
        {
          "output_type": "execute_result",
          "data": {
            "text/plain": [
              "array([1, 2, 3])"
            ]
          },
          "metadata": {},
          "execution_count": 29
        }
      ],
      "source": [
        "a1"
      ]
    },
    {
      "cell_type": "code",
      "execution_count": 30,
      "metadata": {
        "colab": {
          "base_uri": "https://localhost:8080/"
        },
        "id": "Wh7J5hh-q97c",
        "outputId": "856a8ab3-68fc-46a8-a54b-d9911e51893c"
      },
      "outputs": [
        {
          "output_type": "execute_result",
          "data": {
            "text/plain": [
              "array([[1. , 2. , 3.3],\n",
              "       [4. , 5. , 6.5]])"
            ]
          },
          "metadata": {},
          "execution_count": 30
        }
      ],
      "source": [
        "a2"
      ]
    },
    {
      "cell_type": "code",
      "execution_count": 31,
      "metadata": {
        "colab": {
          "base_uri": "https://localhost:8080/"
        },
        "id": "IKt7JF0qq97c",
        "outputId": "4d6b3e0f-fa9a-47e0-dc6d-c06778b8dc74"
      },
      "outputs": [
        {
          "output_type": "execute_result",
          "data": {
            "text/plain": [
              "array([[[ 1,  2,  3],\n",
              "        [ 4,  5,  6],\n",
              "        [ 7,  8,  9]],\n",
              "\n",
              "       [[10, 11, 12],\n",
              "        [13, 14, 15],\n",
              "        [16, 17, 18]]])"
            ]
          },
          "metadata": {},
          "execution_count": 31
        }
      ],
      "source": [
        "a3"
      ]
    },
    {
      "cell_type": "markdown",
      "metadata": {
        "id": "n0yCOmnKq97d"
      },
      "source": [
        "Array shapes are always listed in the format `(row, column, n, n, n...)` where `n` is optional extra dimensions."
      ]
    },
    {
      "cell_type": "code",
      "execution_count": 32,
      "metadata": {
        "colab": {
          "base_uri": "https://localhost:8080/"
        },
        "id": "Q6J-aNPZq97d",
        "outputId": "6d8afc80-9dd6-45a6-9424-ee325a4dbc75"
      },
      "outputs": [
        {
          "output_type": "execute_result",
          "data": {
            "text/plain": [
              "1"
            ]
          },
          "metadata": {},
          "execution_count": 32
        }
      ],
      "source": [
        "a1[0]"
      ]
    },
    {
      "cell_type": "code",
      "execution_count": 33,
      "metadata": {
        "colab": {
          "base_uri": "https://localhost:8080/"
        },
        "id": "y6TY89X8q97d",
        "outputId": "17f31562-5ef1-4b52-c3f4-3af574663475"
      },
      "outputs": [
        {
          "output_type": "execute_result",
          "data": {
            "text/plain": [
              "array([1. , 2. , 3.3])"
            ]
          },
          "metadata": {},
          "execution_count": 33
        }
      ],
      "source": [
        "a2[0]"
      ]
    },
    {
      "cell_type": "code",
      "execution_count": 34,
      "metadata": {
        "colab": {
          "base_uri": "https://localhost:8080/"
        },
        "id": "7zQssmi4q97d",
        "outputId": "bf307fff-d264-46a1-e707-c48f336f5503"
      },
      "outputs": [
        {
          "output_type": "execute_result",
          "data": {
            "text/plain": [
              "array([[1, 2, 3],\n",
              "       [4, 5, 6],\n",
              "       [7, 8, 9]])"
            ]
          },
          "metadata": {},
          "execution_count": 34
        }
      ],
      "source": [
        "a3[0]"
      ]
    },
    {
      "cell_type": "code",
      "execution_count": 35,
      "metadata": {
        "colab": {
          "base_uri": "https://localhost:8080/"
        },
        "id": "NfAL7XHwq97e",
        "outputId": "7f7279d0-93ab-45e7-b9c5-b24148039539"
      },
      "outputs": [
        {
          "output_type": "execute_result",
          "data": {
            "text/plain": [
              "array([4. , 5. , 6.5])"
            ]
          },
          "metadata": {},
          "execution_count": 35
        }
      ],
      "source": [
        "# Get 2nd row (index 1) of a2\n",
        "a2[1]"
      ]
    },
    {
      "cell_type": "code",
      "execution_count": 36,
      "metadata": {
        "colab": {
          "base_uri": "https://localhost:8080/"
        },
        "id": "VhrEJeylq97e",
        "outputId": "2bc906f4-a9e2-469f-d86e-b2bf6bacdb4e"
      },
      "outputs": [
        {
          "output_type": "execute_result",
          "data": {
            "text/plain": [
              "array([[[ 1,  2],\n",
              "        [ 4,  5]],\n",
              "\n",
              "       [[10, 11],\n",
              "        [13, 14]]])"
            ]
          },
          "metadata": {},
          "execution_count": 36
        }
      ],
      "source": [
        "# Get the first 2 values of the first 2 rows of both arrays\n",
        "a3[:2, :2, :2]"
      ]
    },
    {
      "cell_type": "code",
      "execution_count": 37,
      "metadata": {
        "colab": {
          "base_uri": "https://localhost:8080/"
        },
        "id": "3NdwV17Aq97e",
        "outputId": "d2389c05-a588-43f0-cb97-5a5f7b25c836"
      },
      "outputs": [
        {
          "output_type": "execute_result",
          "data": {
            "text/plain": [
              "array([[[[39, 87, 46, 88, 81],\n",
              "         [37, 25, 77, 72,  9],\n",
              "         [20, 80, 69, 79, 47],\n",
              "         [64, 82, 99, 88, 49]],\n",
              "\n",
              "        [[29, 19, 19, 14, 39],\n",
              "         [32, 65,  9, 57, 32],\n",
              "         [31, 74, 23, 35, 75],\n",
              "         [55, 28, 34,  0,  0]],\n",
              "\n",
              "        [[36, 53,  5, 38, 17],\n",
              "         [79,  4, 42, 58, 31],\n",
              "         [ 1, 65, 41, 57, 35],\n",
              "         [11, 46, 82, 91,  0]]],\n",
              "\n",
              "\n",
              "       [[[14, 99, 53, 12, 42],\n",
              "         [84, 75, 68,  6, 68],\n",
              "         [47,  3, 76, 52, 78],\n",
              "         [15, 20, 99, 58, 23]],\n",
              "\n",
              "        [[79, 13, 85, 48, 49],\n",
              "         [69, 41, 35, 64, 95],\n",
              "         [69, 94,  0, 50, 36],\n",
              "         [34, 48, 93,  3, 98]],\n",
              "\n",
              "        [[42, 77, 21, 73,  0],\n",
              "         [10, 43, 58, 23, 59],\n",
              "         [ 2, 98, 62, 35, 94],\n",
              "         [67, 82, 46, 99, 20]]]])"
            ]
          },
          "metadata": {},
          "execution_count": 37
        }
      ],
      "source": [
        "a4 = np.random.randint(100, size=(2, 3, 4, 5))\n",
        "a4"
      ]
    },
    {
      "cell_type": "code",
      "execution_count": 38,
      "metadata": {
        "colab": {
          "base_uri": "https://localhost:8080/"
        },
        "id": "zAkpA_gKq97e",
        "outputId": "e9d2a56c-9d90-4604-95bd-d1f4cea2c55e"
      },
      "outputs": [
        {
          "output_type": "execute_result",
          "data": {
            "text/plain": [
              "(2, 3, 4, 5)"
            ]
          },
          "metadata": {},
          "execution_count": 38
        }
      ],
      "source": [
        "a4.shape"
      ]
    },
    {
      "cell_type": "code",
      "execution_count": 39,
      "metadata": {
        "colab": {
          "base_uri": "https://localhost:8080/"
        },
        "id": "RGo2nNueq97e",
        "outputId": "23ab4ad1-5526-4dba-fcc0-abde324508ea"
      },
      "outputs": [
        {
          "output_type": "execute_result",
          "data": {
            "text/plain": [
              "array([[[[39, 87, 46, 88],\n",
              "         [37, 25, 77, 72],\n",
              "         [20, 80, 69, 79],\n",
              "         [64, 82, 99, 88]],\n",
              "\n",
              "        [[29, 19, 19, 14],\n",
              "         [32, 65,  9, 57],\n",
              "         [31, 74, 23, 35],\n",
              "         [55, 28, 34,  0]],\n",
              "\n",
              "        [[36, 53,  5, 38],\n",
              "         [79,  4, 42, 58],\n",
              "         [ 1, 65, 41, 57],\n",
              "         [11, 46, 82, 91]]],\n",
              "\n",
              "\n",
              "       [[[14, 99, 53, 12],\n",
              "         [84, 75, 68,  6],\n",
              "         [47,  3, 76, 52],\n",
              "         [15, 20, 99, 58]],\n",
              "\n",
              "        [[79, 13, 85, 48],\n",
              "         [69, 41, 35, 64],\n",
              "         [69, 94,  0, 50],\n",
              "         [34, 48, 93,  3]],\n",
              "\n",
              "        [[42, 77, 21, 73],\n",
              "         [10, 43, 58, 23],\n",
              "         [ 2, 98, 62, 35],\n",
              "         [67, 82, 46, 99]]]])"
            ]
          },
          "metadata": {},
          "execution_count": 39
        }
      ],
      "source": [
        "# Get only the first 4 numbers of each single vector\n",
        "a4[:, :, :, :4]"
      ]
    },
    {
      "cell_type": "markdown",
      "metadata": {
        "id": "DiuOMTftq97f"
      },
      "source": [
        "`a4`'s shape is (2, 3, 4, 5), this means it gets displayed like so:\n",
        "* Inner most array = size 5\n",
        "* Next array = size 4\n",
        "* Next array = size 3\n",
        "* Outer most array = size 2"
      ]
    },
    {
      "cell_type": "markdown",
      "metadata": {
        "id": "VKOLS7tQq97f"
      },
      "source": [
        "## 4. Manipulating and comparing arrays\n",
        "* Arithmetic\n",
        "    * `+`, `-`, `*`, `/`, `//`, `**`, `%`\n",
        "    * `np.exp()`\n",
        "    * `np.log()`\n",
        "    * [Dot product](https://www.mathsisfun.com/algebra/matrix-multiplying.html) - `np.dot()`\n",
        "    * Broadcasting\n",
        "* Aggregation\n",
        "    * `np.sum()` - faster than Python's `.sum()` for NumPy arrays\n",
        "    * `np.mean()`\n",
        "    * `np.std()`\n",
        "    * `np.var()`\n",
        "    * `np.min()`\n",
        "    * `np.max()`\n",
        "    * `np.argmin()` - find index of minimum value\n",
        "    * `np.argmax()` - find index of maximum value\n",
        "    * These work on all `ndarray`'s\n",
        "        * `a4.min(axis=0)` -- you can use axis as well\n",
        "* Reshaping\n",
        "    * `np.reshape()`\n",
        "* Transposing\n",
        "    * `a3.T`\n",
        "* Comparison operators\n",
        "    * `>`\n",
        "    * `<`\n",
        "    * `<=`\n",
        "    * `>=`\n",
        "    * `x != 3`\n",
        "    * `x == 3`\n",
        "    * `np.sum(x > 3)`"
      ]
    },
    {
      "cell_type": "markdown",
      "metadata": {
        "id": "DT4Jm09zq97f"
      },
      "source": [
        "### Arithmetic"
      ]
    },
    {
      "cell_type": "code",
      "execution_count": 41,
      "metadata": {
        "colab": {
          "base_uri": "https://localhost:8080/"
        },
        "id": "vAiNPprRq97f",
        "outputId": "462c437d-5599-477f-a8d8-8bee48446c74"
      },
      "outputs": [
        {
          "output_type": "execute_result",
          "data": {
            "text/plain": [
              "array([1, 2, 3])"
            ]
          },
          "metadata": {},
          "execution_count": 41
        }
      ],
      "source": [
        "a1"
      ]
    },
    {
      "cell_type": "code",
      "execution_count": 42,
      "metadata": {
        "colab": {
          "base_uri": "https://localhost:8080/"
        },
        "id": "sDMYJyGKq97f",
        "outputId": "303c39d4-8cfa-4d33-e235-83177c74cd6c"
      },
      "outputs": [
        {
          "output_type": "execute_result",
          "data": {
            "text/plain": [
              "array([1., 1., 1.])"
            ]
          },
          "metadata": {},
          "execution_count": 42
        }
      ],
      "source": [
        "ones = np.ones(3)\n",
        "ones"
      ]
    },
    {
      "cell_type": "code",
      "execution_count": 43,
      "metadata": {
        "colab": {
          "base_uri": "https://localhost:8080/"
        },
        "id": "2Ev5N5iLq97g",
        "outputId": "59f329b2-1633-4513-8d06-e2bef53986c0"
      },
      "outputs": [
        {
          "output_type": "execute_result",
          "data": {
            "text/plain": [
              "array([2., 3., 4.])"
            ]
          },
          "metadata": {},
          "execution_count": 43
        }
      ],
      "source": [
        "# Add two arrays\n",
        "a1 + ones"
      ]
    },
    {
      "cell_type": "code",
      "execution_count": 44,
      "metadata": {
        "colab": {
          "base_uri": "https://localhost:8080/"
        },
        "id": "qkiINxL8q97g",
        "outputId": "7b286343-d6e3-42f9-ac78-af7ea5c46901"
      },
      "outputs": [
        {
          "output_type": "execute_result",
          "data": {
            "text/plain": [
              "array([0., 1., 2.])"
            ]
          },
          "metadata": {},
          "execution_count": 44
        }
      ],
      "source": [
        "# Subtract two arrays\n",
        "a1 - ones"
      ]
    },
    {
      "cell_type": "code",
      "execution_count": 45,
      "metadata": {
        "colab": {
          "base_uri": "https://localhost:8080/"
        },
        "id": "wMJhpraJq97g",
        "outputId": "a68a3264-48b8-44e6-e50c-23a127c7977b"
      },
      "outputs": [
        {
          "output_type": "execute_result",
          "data": {
            "text/plain": [
              "array([1., 2., 3.])"
            ]
          },
          "metadata": {},
          "execution_count": 45
        }
      ],
      "source": [
        "# Multiply two arrays\n",
        "a1 * ones"
      ]
    },
    {
      "cell_type": "code",
      "execution_count": 46,
      "metadata": {
        "colab": {
          "base_uri": "https://localhost:8080/"
        },
        "id": "HiCbfnLgq97g",
        "outputId": "1f880099-5066-41c8-eda1-ff0b55c39764"
      },
      "outputs": [
        {
          "output_type": "execute_result",
          "data": {
            "text/plain": [
              "array([[ 1. ,  4. ,  9.9],\n",
              "       [ 4. , 10. , 19.5]])"
            ]
          },
          "metadata": {},
          "execution_count": 46
        }
      ],
      "source": [
        "# Multiply two arrays\n",
        "a1 * a2"
      ]
    },
    {
      "cell_type": "code",
      "execution_count": 47,
      "metadata": {
        "colab": {
          "base_uri": "https://localhost:8080/"
        },
        "id": "Dj6mxU2_q97g",
        "outputId": "371e3b80-6be2-40a3-f371-db911c72e59e"
      },
      "outputs": [
        {
          "output_type": "execute_result",
          "data": {
            "text/plain": [
              "((3,), (2, 3))"
            ]
          },
          "metadata": {},
          "execution_count": 47
        }
      ],
      "source": [
        "a1.shape, a2.shape"
      ]
    },
    {
      "cell_type": "code",
      "execution_count": 48,
      "metadata": {
        "colab": {
          "base_uri": "https://localhost:8080/",
          "height": 156
        },
        "id": "7wml9J4Pq97g",
        "outputId": "24b6b560-715c-4801-893a-ad0fc75be9a7"
      },
      "outputs": [
        {
          "output_type": "error",
          "ename": "ValueError",
          "evalue": "operands could not be broadcast together with shapes (2,3) (2,3,3) ",
          "traceback": [
            "\u001b[0;31m---------------------------------------------------------------------------\u001b[0m",
            "\u001b[0;31mValueError\u001b[0m                                Traceback (most recent call last)",
            "\u001b[0;32m<ipython-input-48-814b3d27ab26>\u001b[0m in \u001b[0;36m<cell line: 2>\u001b[0;34m()\u001b[0m\n\u001b[1;32m      1\u001b[0m \u001b[0;31m# This will error as the arrays have a different number of dimensions (2, 3) vs. (2, 3, 3)\u001b[0m\u001b[0;34m\u001b[0m\u001b[0;34m\u001b[0m\u001b[0m\n\u001b[0;32m----> 2\u001b[0;31m \u001b[0ma2\u001b[0m \u001b[0;34m*\u001b[0m \u001b[0ma3\u001b[0m\u001b[0;34m\u001b[0m\u001b[0;34m\u001b[0m\u001b[0m\n\u001b[0m",
            "\u001b[0;31mValueError\u001b[0m: operands could not be broadcast together with shapes (2,3) (2,3,3) "
          ]
        }
      ],
      "source": [
        "# This will error as the arrays have a different number of dimensions (2, 3) vs. (2, 3, 3)\n",
        "a2 * a3"
      ]
    },
    {
      "cell_type": "code",
      "execution_count": 49,
      "metadata": {
        "colab": {
          "base_uri": "https://localhost:8080/"
        },
        "id": "4cE6osYXq97h",
        "outputId": "291366ab-d66a-4426-c22f-0a29de0f177b"
      },
      "outputs": [
        {
          "output_type": "execute_result",
          "data": {
            "text/plain": [
              "array([[[ 1,  2,  3],\n",
              "        [ 4,  5,  6],\n",
              "        [ 7,  8,  9]],\n",
              "\n",
              "       [[10, 11, 12],\n",
              "        [13, 14, 15],\n",
              "        [16, 17, 18]]])"
            ]
          },
          "metadata": {},
          "execution_count": 49
        }
      ],
      "source": [
        "a3"
      ]
    },
    {
      "cell_type": "markdown",
      "metadata": {
        "id": "bIZR_WPxq97h"
      },
      "source": [
        "### Broadcasting\n",
        "\n",
        "- What is broadcasting?\n",
        "    - Broadcasting is a feature of NumPy which performs an operation across multiple dimensions of data without replicating the data. This saves time and space. For example, if you have a 3x3 array (A) and want to add a 1x3 array (B), NumPy will add the row of (B) to every row of (A).\n",
        "\n",
        "- Rules of Broadcasting\n",
        "    1. If the two arrays differ in their number of dimensions, the shape of the one with fewer dimensions is padded with ones on its leading (left) side.\n",
        "    2. If the shape of the two arrays does not match in any dimension, the array with shape equal to 1 in that dimension is stretched to match the other shape.\n",
        "    3. If in any dimension the sizes disagree and neither is equal to 1, an error is raised.\n",
        "    \n",
        "    \n",
        "**The broadcasting rule:**\n",
        "In order to broadcast, the size of the trailing axes for both arrays in an operation must be either the same size or one of them must be one."
      ]
    },
    {
      "cell_type": "code",
      "execution_count": 50,
      "metadata": {
        "colab": {
          "base_uri": "https://localhost:8080/"
        },
        "id": "Op_CjUcBq97h",
        "outputId": "77cd11b6-1380-48d6-f837-52c0f0e56663"
      },
      "outputs": [
        {
          "output_type": "execute_result",
          "data": {
            "text/plain": [
              "array([1, 2, 3])"
            ]
          },
          "metadata": {},
          "execution_count": 50
        }
      ],
      "source": [
        "a1"
      ]
    },
    {
      "cell_type": "code",
      "execution_count": 51,
      "metadata": {
        "colab": {
          "base_uri": "https://localhost:8080/"
        },
        "id": "Uv67F8YVq97h",
        "outputId": "0d5145cf-ec91-49c3-baa2-d7ce916a9462"
      },
      "outputs": [
        {
          "output_type": "execute_result",
          "data": {
            "text/plain": [
              "(3,)"
            ]
          },
          "metadata": {},
          "execution_count": 51
        }
      ],
      "source": [
        "a1.shape"
      ]
    },
    {
      "cell_type": "code",
      "execution_count": 52,
      "metadata": {
        "colab": {
          "base_uri": "https://localhost:8080/"
        },
        "id": "9aBn4iLUq97h",
        "outputId": "b230c565-39b4-474f-c883-bc80aca570f9"
      },
      "outputs": [
        {
          "output_type": "execute_result",
          "data": {
            "text/plain": [
              "(2, 3)"
            ]
          },
          "metadata": {},
          "execution_count": 52
        }
      ],
      "source": [
        "a2.shape"
      ]
    },
    {
      "cell_type": "code",
      "execution_count": 53,
      "metadata": {
        "colab": {
          "base_uri": "https://localhost:8080/"
        },
        "id": "mOTCAsGMq97h",
        "outputId": "b1028f98-794f-4093-c904-22f2f4646c02"
      },
      "outputs": [
        {
          "output_type": "execute_result",
          "data": {
            "text/plain": [
              "array([[1. , 2. , 3.3],\n",
              "       [4. , 5. , 6.5]])"
            ]
          },
          "metadata": {},
          "execution_count": 53
        }
      ],
      "source": [
        "a2"
      ]
    },
    {
      "cell_type": "code",
      "execution_count": 54,
      "metadata": {
        "colab": {
          "base_uri": "https://localhost:8080/"
        },
        "id": "SYOj1nMuq97i",
        "outputId": "2e58c921-d5a1-4ba4-a198-6d675caaa4a5"
      },
      "outputs": [
        {
          "output_type": "execute_result",
          "data": {
            "text/plain": [
              "array([[2. , 4. , 6.3],\n",
              "       [5. , 7. , 9.5]])"
            ]
          },
          "metadata": {},
          "execution_count": 54
        }
      ],
      "source": [
        "a1 + a2"
      ]
    },
    {
      "cell_type": "code",
      "execution_count": 55,
      "metadata": {
        "colab": {
          "base_uri": "https://localhost:8080/"
        },
        "id": "OJ7kxx9mq97i",
        "outputId": "41dd1454-b088-4b5b-c88a-31aec5c0eb1c"
      },
      "outputs": [
        {
          "output_type": "execute_result",
          "data": {
            "text/plain": [
              "array([[3. , 4. , 5.3],\n",
              "       [6. , 7. , 8.5]])"
            ]
          },
          "metadata": {},
          "execution_count": 55
        }
      ],
      "source": [
        "a2 + 2"
      ]
    },
    {
      "cell_type": "code",
      "execution_count": 56,
      "metadata": {
        "colab": {
          "base_uri": "https://localhost:8080/",
          "height": 156
        },
        "id": "S1o2JkO7q97i",
        "outputId": "a8dd5682-89aa-4eda-fb33-b00d5cb0936d"
      },
      "outputs": [
        {
          "output_type": "error",
          "ename": "ValueError",
          "evalue": "operands could not be broadcast together with shapes (2,3) (2,3,3) ",
          "traceback": [
            "\u001b[0;31m---------------------------------------------------------------------------\u001b[0m",
            "\u001b[0;31mValueError\u001b[0m                                Traceback (most recent call last)",
            "\u001b[0;32m<ipython-input-56-6a15ffce38e0>\u001b[0m in \u001b[0;36m<cell line: 2>\u001b[0;34m()\u001b[0m\n\u001b[1;32m      1\u001b[0m \u001b[0;31m# Raises an error because there's a shape mismatch (2, 3) vs. (2, 3, 3)\u001b[0m\u001b[0;34m\u001b[0m\u001b[0;34m\u001b[0m\u001b[0m\n\u001b[0;32m----> 2\u001b[0;31m \u001b[0ma2\u001b[0m \u001b[0;34m+\u001b[0m \u001b[0ma3\u001b[0m\u001b[0;34m\u001b[0m\u001b[0;34m\u001b[0m\u001b[0m\n\u001b[0m",
            "\u001b[0;31mValueError\u001b[0m: operands could not be broadcast together with shapes (2,3) (2,3,3) "
          ]
        }
      ],
      "source": [
        "# Raises an error because there's a shape mismatch (2, 3) vs. (2, 3, 3)\n",
        "a2 + a3"
      ]
    },
    {
      "cell_type": "code",
      "execution_count": 57,
      "metadata": {
        "colab": {
          "base_uri": "https://localhost:8080/"
        },
        "id": "S3NLRhj1q97i",
        "outputId": "4a80174a-0f04-4ffa-8e68-858481b1a95f"
      },
      "outputs": [
        {
          "output_type": "execute_result",
          "data": {
            "text/plain": [
              "array([1., 2., 3.])"
            ]
          },
          "metadata": {},
          "execution_count": 57
        }
      ],
      "source": [
        "# Divide two arrays\n",
        "a1 / ones"
      ]
    },
    {
      "cell_type": "code",
      "execution_count": 58,
      "metadata": {
        "colab": {
          "base_uri": "https://localhost:8080/"
        },
        "id": "K1i80cGuq97i",
        "outputId": "b995e70e-be27-4199-98ac-afc3a2d9d94a"
      },
      "outputs": [
        {
          "output_type": "execute_result",
          "data": {
            "text/plain": [
              "array([[1., 1., 1.],\n",
              "       [4., 2., 2.]])"
            ]
          },
          "metadata": {},
          "execution_count": 58
        }
      ],
      "source": [
        "# Divide using floor division\n",
        "a2 // a1"
      ]
    },
    {
      "cell_type": "code",
      "execution_count": 59,
      "metadata": {
        "colab": {
          "base_uri": "https://localhost:8080/"
        },
        "id": "y7oEPjh9q97i",
        "outputId": "09ece664-a4e7-4c4e-8663-0d25022fc7a5"
      },
      "outputs": [
        {
          "output_type": "execute_result",
          "data": {
            "text/plain": [
              "array([1, 4, 9])"
            ]
          },
          "metadata": {},
          "execution_count": 59
        }
      ],
      "source": [
        "# Take an array to a power\n",
        "a1 ** 2"
      ]
    },
    {
      "cell_type": "code",
      "execution_count": 60,
      "metadata": {
        "colab": {
          "base_uri": "https://localhost:8080/"
        },
        "id": "BqRmO36Bq97i",
        "outputId": "78d40a22-5dad-464a-cd6c-e5df3fd17555"
      },
      "outputs": [
        {
          "output_type": "execute_result",
          "data": {
            "text/plain": [
              "array([1, 4, 9])"
            ]
          },
          "metadata": {},
          "execution_count": 60
        }
      ],
      "source": [
        "# You can also use np.square()\n",
        "np.square(a1)"
      ]
    },
    {
      "cell_type": "code",
      "execution_count": 61,
      "metadata": {
        "colab": {
          "base_uri": "https://localhost:8080/"
        },
        "id": "slRsJsrfq97j",
        "outputId": "c938054a-0c5e-47ec-d0ba-e2d2c6c32c73"
      },
      "outputs": [
        {
          "output_type": "execute_result",
          "data": {
            "text/plain": [
              "array([1, 0, 1])"
            ]
          },
          "metadata": {},
          "execution_count": 61
        }
      ],
      "source": [
        "# Modulus divide (what's the remainder)\n",
        "a1 % 2"
      ]
    },
    {
      "cell_type": "markdown",
      "metadata": {
        "id": "4YL88G0Yq97j"
      },
      "source": [
        "You can also find the log or exponential of an array using `np.log()` and `np.exp()`."
      ]
    },
    {
      "cell_type": "code",
      "execution_count": 62,
      "metadata": {
        "colab": {
          "base_uri": "https://localhost:8080/"
        },
        "id": "K1-5OBGWq97j",
        "outputId": "cfbc1149-be6d-4480-d451-99fdbd506084"
      },
      "outputs": [
        {
          "output_type": "execute_result",
          "data": {
            "text/plain": [
              "array([0.        , 0.69314718, 1.09861229])"
            ]
          },
          "metadata": {},
          "execution_count": 62
        }
      ],
      "source": [
        "# Find the log of an array\n",
        "np.log(a1)"
      ]
    },
    {
      "cell_type": "code",
      "execution_count": 63,
      "metadata": {
        "colab": {
          "base_uri": "https://localhost:8080/"
        },
        "id": "lqUnKJFRq97j",
        "outputId": "0c98df4a-bb5a-4cdf-9c21-6c23c5ab3390"
      },
      "outputs": [
        {
          "output_type": "execute_result",
          "data": {
            "text/plain": [
              "array([ 2.71828183,  7.3890561 , 20.08553692])"
            ]
          },
          "metadata": {},
          "execution_count": 63
        }
      ],
      "source": [
        "# Find the exponential of an array\n",
        "np.exp(a1)"
      ]
    },
    {
      "cell_type": "markdown",
      "metadata": {
        "id": "gq0DK7z0q97j"
      },
      "source": [
        "### Aggregation\n",
        "\n",
        "Aggregation - bringing things together, doing a similar thing on a number of things."
      ]
    },
    {
      "cell_type": "code",
      "execution_count": 64,
      "metadata": {
        "colab": {
          "base_uri": "https://localhost:8080/"
        },
        "id": "jWqmCW0uq97j",
        "outputId": "ab675f75-2d58-4efd-9aaa-12f98c1378eb"
      },
      "outputs": [
        {
          "output_type": "execute_result",
          "data": {
            "text/plain": [
              "6"
            ]
          },
          "metadata": {},
          "execution_count": 64
        }
      ],
      "source": [
        "sum(a1)"
      ]
    },
    {
      "cell_type": "code",
      "execution_count": 65,
      "metadata": {
        "colab": {
          "base_uri": "https://localhost:8080/"
        },
        "id": "EzKaAfYWq97k",
        "outputId": "f538a448-875c-4c50-8d3c-a40bd3746754"
      },
      "outputs": [
        {
          "output_type": "execute_result",
          "data": {
            "text/plain": [
              "6"
            ]
          },
          "metadata": {},
          "execution_count": 65
        }
      ],
      "source": [
        "np.sum(a1)"
      ]
    },
    {
      "cell_type": "markdown",
      "metadata": {
        "id": "vOikvW5Zq97k"
      },
      "source": [
        "**Tip:** Use NumPy's `np.sum()` on NumPy arrays and Python's `sum()` on Python `list`s."
      ]
    },
    {
      "cell_type": "code",
      "execution_count": 66,
      "metadata": {
        "colab": {
          "base_uri": "https://localhost:8080/"
        },
        "id": "2g4j5D3Uq97k",
        "outputId": "a0a7194f-d560-4c61-9a4b-e8ad4d7cdb2b"
      },
      "outputs": [
        {
          "output_type": "execute_result",
          "data": {
            "text/plain": [
              "(100000, numpy.ndarray)"
            ]
          },
          "metadata": {},
          "execution_count": 66
        }
      ],
      "source": [
        "massive_array = np.random.random(100000)\n",
        "massive_array.size, type(massive_array)"
      ]
    },
    {
      "cell_type": "code",
      "execution_count": 67,
      "metadata": {
        "colab": {
          "base_uri": "https://localhost:8080/"
        },
        "id": "ga-YUd9Iq97k",
        "outputId": "ab9e7d94-23f2-426a-d16f-a1a0752b6a6b"
      },
      "outputs": [
        {
          "output_type": "stream",
          "name": "stdout",
          "text": [
            "11.6 ms ± 3.05 ms per loop (mean ± std. dev. of 7 runs, 100 loops each)\n",
            "39.9 µs ± 909 ns per loop (mean ± std. dev. of 7 runs, 10000 loops each)\n"
          ]
        }
      ],
      "source": [
        "%timeit sum(massive_array) # Python sum()\n",
        "%timeit np.sum(massive_array) # NumPy np.sum()"
      ]
    },
    {
      "cell_type": "markdown",
      "metadata": {
        "id": "KEX4zAllq97k"
      },
      "source": [
        "Notice `np.sum()` is faster on the Numpy array (`numpy.ndarray`) than Python's `sum()`.\n",
        "\n",
        "Now let's try it out on a Python list."
      ]
    },
    {
      "cell_type": "code",
      "execution_count": 68,
      "metadata": {
        "colab": {
          "base_uri": "https://localhost:8080/"
        },
        "id": "jebgP8EZq97k",
        "outputId": "9bb8862e-9def-4df2-dd27-5c5a20f5fc92"
      },
      "outputs": [
        {
          "output_type": "execute_result",
          "data": {
            "text/plain": [
              "(100000, list)"
            ]
          },
          "metadata": {},
          "execution_count": 68
        }
      ],
      "source": [
        "import random\n",
        "massive_list = [random.randint(0, 10) for i in range(100000)]\n",
        "len(massive_list), type(massive_list)"
      ]
    },
    {
      "cell_type": "code",
      "execution_count": 69,
      "metadata": {
        "colab": {
          "base_uri": "https://localhost:8080/"
        },
        "id": "uU4TlIaeq97l",
        "outputId": "4b32d469-cb76-4cba-d794-8d4dca622127"
      },
      "outputs": [
        {
          "output_type": "execute_result",
          "data": {
            "text/plain": [
              "[5, 2, 0, 8, 0, 2, 3, 3, 0, 8]"
            ]
          },
          "metadata": {},
          "execution_count": 69
        }
      ],
      "source": [
        "massive_list[:10]"
      ]
    },
    {
      "cell_type": "code",
      "execution_count": 70,
      "metadata": {
        "colab": {
          "base_uri": "https://localhost:8080/"
        },
        "id": "Ef9fN_aWq97l",
        "outputId": "3e34ced3-3a60-417f-8a80-71ee31b3e251"
      },
      "outputs": [
        {
          "output_type": "stream",
          "name": "stdout",
          "text": [
            "734 µs ± 14.8 µs per loop (mean ± std. dev. of 7 runs, 1000 loops each)\n",
            "6.93 ms ± 1.94 ms per loop (mean ± std. dev. of 7 runs, 100 loops each)\n"
          ]
        }
      ],
      "source": [
        "%timeit sum(massive_list)\n",
        "%timeit np.sum(massive_list)"
      ]
    },
    {
      "cell_type": "markdown",
      "metadata": {
        "id": "kEA1MGviq97l"
      },
      "source": [
        "NumPy's `np.sum()` is still fast but Python's `sum()` is faster on Python `list`s."
      ]
    },
    {
      "cell_type": "code",
      "execution_count": 71,
      "metadata": {
        "colab": {
          "base_uri": "https://localhost:8080/"
        },
        "id": "WFW8PiOcq97l",
        "outputId": "b60b22e1-0240-4a4b-f473-f986e5db55e5"
      },
      "outputs": [
        {
          "output_type": "execute_result",
          "data": {
            "text/plain": [
              "array([[1. , 2. , 3.3],\n",
              "       [4. , 5. , 6.5]])"
            ]
          },
          "metadata": {},
          "execution_count": 71
        }
      ],
      "source": [
        "a2"
      ]
    },
    {
      "cell_type": "code",
      "execution_count": 72,
      "metadata": {
        "colab": {
          "base_uri": "https://localhost:8080/"
        },
        "id": "NfdyfFTAq97l",
        "outputId": "e8dcc033-c3dc-4ec1-ad68-abdc480d24f2"
      },
      "outputs": [
        {
          "output_type": "execute_result",
          "data": {
            "text/plain": [
              "3.6333333333333333"
            ]
          },
          "metadata": {},
          "execution_count": 72
        }
      ],
      "source": [
        "# Find the mean\n",
        "np.mean(a2)"
      ]
    },
    {
      "cell_type": "code",
      "execution_count": 73,
      "metadata": {
        "colab": {
          "base_uri": "https://localhost:8080/"
        },
        "id": "J2BBWWJ0q97l",
        "outputId": "d973f2b1-4c6d-463b-87ed-86bcbfac8264"
      },
      "outputs": [
        {
          "output_type": "execute_result",
          "data": {
            "text/plain": [
              "6.5"
            ]
          },
          "metadata": {},
          "execution_count": 73
        }
      ],
      "source": [
        "# Find the max\n",
        "np.max(a2)"
      ]
    },
    {
      "cell_type": "code",
      "execution_count": 74,
      "metadata": {
        "colab": {
          "base_uri": "https://localhost:8080/"
        },
        "id": "lmPK9nDSq97l",
        "outputId": "21a98d2d-7cd1-4234-c10f-58b5d4797a06"
      },
      "outputs": [
        {
          "output_type": "execute_result",
          "data": {
            "text/plain": [
              "1.0"
            ]
          },
          "metadata": {},
          "execution_count": 74
        }
      ],
      "source": [
        "# Find the min\n",
        "np.min(a2)"
      ]
    },
    {
      "cell_type": "code",
      "execution_count": 75,
      "metadata": {
        "colab": {
          "base_uri": "https://localhost:8080/"
        },
        "id": "Wn466TEGq97l",
        "outputId": "0751ec7f-8e19-492c-c88f-56bf93fddb95"
      },
      "outputs": [
        {
          "output_type": "execute_result",
          "data": {
            "text/plain": [
              "1.8226964152656422"
            ]
          },
          "metadata": {},
          "execution_count": 75
        }
      ],
      "source": [
        "# Find the standard deviation\n",
        "np.std(a2)"
      ]
    },
    {
      "cell_type": "code",
      "execution_count": 76,
      "metadata": {
        "colab": {
          "base_uri": "https://localhost:8080/"
        },
        "id": "EzC2TbyGq97m",
        "outputId": "bc8ce7c0-a264-4786-d313-e10990cb367b"
      },
      "outputs": [
        {
          "output_type": "execute_result",
          "data": {
            "text/plain": [
              "3.3222222222222224"
            ]
          },
          "metadata": {},
          "execution_count": 76
        }
      ],
      "source": [
        "# Find the variance\n",
        "np.var(a2)"
      ]
    },
    {
      "cell_type": "code",
      "execution_count": 77,
      "metadata": {
        "colab": {
          "base_uri": "https://localhost:8080/"
        },
        "id": "9o8kesNkq97m",
        "outputId": "94e4369a-7af5-4bd9-ca14-241495ff0e51"
      },
      "outputs": [
        {
          "output_type": "execute_result",
          "data": {
            "text/plain": [
              "1.8226964152656422"
            ]
          },
          "metadata": {},
          "execution_count": 77
        }
      ],
      "source": [
        "# The standard deviation is the square root of the variance\n",
        "np.sqrt(np.var(a2))"
      ]
    },
    {
      "cell_type": "code",
      "source": [
        "# The unique values of an array\n",
        "np.unique(a2)"
      ],
      "metadata": {
        "colab": {
          "base_uri": "https://localhost:8080/"
        },
        "id": "r4WSLjIRubLr",
        "outputId": "014c32a7-8512-4615-a8a6-fe991cf2ebbf"
      },
      "execution_count": 78,
      "outputs": [
        {
          "output_type": "execute_result",
          "data": {
            "text/plain": [
              "array([1. , 2. , 3.3, 4. , 5. , 6.5])"
            ]
          },
          "metadata": {},
          "execution_count": 78
        }
      ]
    },
    {
      "cell_type": "markdown",
      "metadata": {
        "id": "dlNW9WXNq97m"
      },
      "source": [
        "**What's mean?**\n",
        "\n",
        "Mean is the same as average. You can find the average of a set of numbers by adding them up and dividing them by how many there are.\n",
        "\n",
        "**What's standard deviation?**\n",
        "\n",
        "[Standard deviation](https://www.mathsisfun.com/data/standard-deviation.html) is a measure of how spread out numbers are.\n",
        "\n",
        "**What's variance?**\n",
        "\n",
        "The [variance](https://www.mathsisfun.com/data/standard-deviation.html) is the averaged squared differences of the mean."
      ]
    },
    {
      "cell_type": "code",
      "execution_count": 79,
      "metadata": {
        "colab": {
          "base_uri": "https://localhost:8080/"
        },
        "id": "Q1AkQ4M8q97m",
        "outputId": "2f52975d-805b-40ff-d097-558863ee4aba"
      },
      "outputs": [
        {
          "output_type": "execute_result",
          "data": {
            "text/plain": [
              "(4296133.472222221, 8.0)"
            ]
          },
          "metadata": {},
          "execution_count": 79
        }
      ],
      "source": [
        "# Demo of variance\n",
        "high_var_array = np.array([1, 100, 200, 300, 4000, 5000])\n",
        "low_var_array = np.array([2, 4, 6, 8, 10])\n",
        "\n",
        "np.var(high_var_array), np.var(low_var_array)"
      ]
    },
    {
      "cell_type": "code",
      "execution_count": 80,
      "metadata": {
        "colab": {
          "base_uri": "https://localhost:8080/"
        },
        "id": "JZofD9F6q97m",
        "outputId": "d641e037-2b79-4c82-ca51-fbdbedc9b5f6"
      },
      "outputs": [
        {
          "output_type": "execute_result",
          "data": {
            "text/plain": [
              "(2072.711623024829, 2.8284271247461903)"
            ]
          },
          "metadata": {},
          "execution_count": 80
        }
      ],
      "source": [
        "np.std(high_var_array), np.std(low_var_array)"
      ]
    },
    {
      "cell_type": "code",
      "execution_count": 81,
      "metadata": {
        "colab": {
          "base_uri": "https://localhost:8080/"
        },
        "id": "s4ZgwEC9q97n",
        "outputId": "1f3c6c31-ee43-451f-f7c1-3d088e16580a"
      },
      "outputs": [
        {
          "output_type": "execute_result",
          "data": {
            "text/plain": [
              "2072.711623024829"
            ]
          },
          "metadata": {},
          "execution_count": 81
        }
      ],
      "source": [
        "# The standard deviation is the square root of the variance\n",
        "np.sqrt(np.var(high_var_array))"
      ]
    },
    {
      "cell_type": "code",
      "source": [
        "np.mean(low_var_array), np.mean(high_var_array)"
      ],
      "metadata": {
        "colab": {
          "base_uri": "https://localhost:8080/"
        },
        "id": "_xGp8zMmu3wV",
        "outputId": "eb5abacd-e032-4362-a0ca-c755cfd8310a"
      },
      "execution_count": 82,
      "outputs": [
        {
          "output_type": "execute_result",
          "data": {
            "text/plain": [
              "(6.0, 1600.1666666666667)"
            ]
          },
          "metadata": {},
          "execution_count": 82
        }
      ]
    },
    {
      "cell_type": "markdown",
      "metadata": {
        "id": "mgWfAnHoq97n"
      },
      "source": [
        "### Reshaping"
      ]
    },
    {
      "cell_type": "code",
      "execution_count": 83,
      "metadata": {
        "colab": {
          "base_uri": "https://localhost:8080/"
        },
        "id": "LZxmn2buq97n",
        "outputId": "f750e0d7-9e78-439d-c286-90999285d9ca"
      },
      "outputs": [
        {
          "output_type": "execute_result",
          "data": {
            "text/plain": [
              "array([[1. , 2. , 3.3],\n",
              "       [4. , 5. , 6.5]])"
            ]
          },
          "metadata": {},
          "execution_count": 83
        }
      ],
      "source": [
        "a2"
      ]
    },
    {
      "cell_type": "code",
      "execution_count": 84,
      "metadata": {
        "colab": {
          "base_uri": "https://localhost:8080/"
        },
        "id": "vx7_mkE0q97n",
        "outputId": "832f899b-a27f-4a06-cdc2-7fbcde6b2334"
      },
      "outputs": [
        {
          "output_type": "execute_result",
          "data": {
            "text/plain": [
              "(2, 3)"
            ]
          },
          "metadata": {},
          "execution_count": 84
        }
      ],
      "source": [
        "a2.shape"
      ]
    },
    {
      "cell_type": "code",
      "execution_count": 85,
      "metadata": {
        "colab": {
          "base_uri": "https://localhost:8080/",
          "height": 139
        },
        "id": "sCrjd3Ehq97n",
        "outputId": "6c740a77-a71f-46d0-c897-d19e6980ff57"
      },
      "outputs": [
        {
          "output_type": "error",
          "ename": "ValueError",
          "evalue": "operands could not be broadcast together with shapes (2,3) (2,3,3) ",
          "traceback": [
            "\u001b[0;31m---------------------------------------------------------------------------\u001b[0m",
            "\u001b[0;31mValueError\u001b[0m                                Traceback (most recent call last)",
            "\u001b[0;32m<ipython-input-85-7e0cfe75ff3f>\u001b[0m in \u001b[0;36m<cell line: 1>\u001b[0;34m()\u001b[0m\n\u001b[0;32m----> 1\u001b[0;31m \u001b[0ma2\u001b[0m \u001b[0;34m+\u001b[0m \u001b[0ma3\u001b[0m\u001b[0;34m\u001b[0m\u001b[0;34m\u001b[0m\u001b[0m\n\u001b[0m",
            "\u001b[0;31mValueError\u001b[0m: operands could not be broadcast together with shapes (2,3) (2,3,3) "
          ]
        }
      ],
      "source": [
        "a2 + a3"
      ]
    },
    {
      "cell_type": "code",
      "execution_count": 86,
      "metadata": {
        "colab": {
          "base_uri": "https://localhost:8080/"
        },
        "id": "nuZbsenHq97n",
        "outputId": "c2dc240d-b099-4a72-9b66-b69cd72ae765"
      },
      "outputs": [
        {
          "output_type": "execute_result",
          "data": {
            "text/plain": [
              "array([[[1. ],\n",
              "        [2. ],\n",
              "        [3.3]],\n",
              "\n",
              "       [[4. ],\n",
              "        [5. ],\n",
              "        [6.5]]])"
            ]
          },
          "metadata": {},
          "execution_count": 86
        }
      ],
      "source": [
        "a2.reshape(2, 3, 1)"
      ]
    },
    {
      "cell_type": "code",
      "execution_count": 87,
      "metadata": {
        "colab": {
          "base_uri": "https://localhost:8080/"
        },
        "id": "OdnbqW-fq97o",
        "outputId": "bdc301d8-79a8-43fe-e534-a0fb7794f3c9"
      },
      "outputs": [
        {
          "output_type": "execute_result",
          "data": {
            "text/plain": [
              "array([[[ 2. ,  3. ,  4. ],\n",
              "        [ 6. ,  7. ,  8. ],\n",
              "        [10.3, 11.3, 12.3]],\n",
              "\n",
              "       [[14. , 15. , 16. ],\n",
              "        [18. , 19. , 20. ],\n",
              "        [22.5, 23.5, 24.5]]])"
            ]
          },
          "metadata": {},
          "execution_count": 87
        }
      ],
      "source": [
        "a2.reshape(2, 3, 1) + a3"
      ]
    },
    {
      "cell_type": "markdown",
      "metadata": {
        "id": "aNg_loLNq97o"
      },
      "source": [
        "### Transpose\n",
        "\n",
        "A tranpose reverses the order of the axes.\n",
        "\n",
        "For example, an array with shape `(2, 3)` becomes `(3, 2)`."
      ]
    },
    {
      "cell_type": "code",
      "execution_count": 88,
      "metadata": {
        "colab": {
          "base_uri": "https://localhost:8080/"
        },
        "id": "c2Mwkngfq97o",
        "outputId": "533d7bc7-f160-431c-aa81-6cfdbf8e9002"
      },
      "outputs": [
        {
          "output_type": "execute_result",
          "data": {
            "text/plain": [
              "(2, 3)"
            ]
          },
          "metadata": {},
          "execution_count": 88
        }
      ],
      "source": [
        "a2.shape"
      ]
    },
    {
      "cell_type": "code",
      "execution_count": 89,
      "metadata": {
        "colab": {
          "base_uri": "https://localhost:8080/"
        },
        "id": "6QAvAjbhq97o",
        "outputId": "5612b5b2-29f6-4141-f832-f2afacb62951"
      },
      "outputs": [
        {
          "output_type": "execute_result",
          "data": {
            "text/plain": [
              "array([[1. , 4. ],\n",
              "       [2. , 5. ],\n",
              "       [3.3, 6.5]])"
            ]
          },
          "metadata": {},
          "execution_count": 89
        }
      ],
      "source": [
        "a2.T"
      ]
    },
    {
      "cell_type": "code",
      "execution_count": 90,
      "metadata": {
        "colab": {
          "base_uri": "https://localhost:8080/"
        },
        "id": "I8795_g5q97o",
        "outputId": "93c30103-d466-4760-8577-c07ded843e41"
      },
      "outputs": [
        {
          "output_type": "execute_result",
          "data": {
            "text/plain": [
              "array([[1. , 4. ],\n",
              "       [2. , 5. ],\n",
              "       [3.3, 6.5]])"
            ]
          },
          "metadata": {},
          "execution_count": 90
        }
      ],
      "source": [
        "a2.transpose()"
      ]
    },
    {
      "cell_type": "code",
      "execution_count": 91,
      "metadata": {
        "colab": {
          "base_uri": "https://localhost:8080/"
        },
        "id": "FenaEsdJq97o",
        "outputId": "081dcb22-51dd-4862-ed1b-f2864705dcd9"
      },
      "outputs": [
        {
          "output_type": "execute_result",
          "data": {
            "text/plain": [
              "(3, 2)"
            ]
          },
          "metadata": {},
          "execution_count": 91
        }
      ],
      "source": [
        "a2.T.shape"
      ]
    },
    {
      "cell_type": "markdown",
      "metadata": {
        "id": "iH302CGIq97o"
      },
      "source": [
        "For larger arrays, the default value of a tranpose is to swap the first and last axes.\n",
        "\n",
        "For example, `(5, 3, 3)` -> `(3, 3, 5)`."
      ]
    },
    {
      "cell_type": "code",
      "execution_count": 92,
      "metadata": {
        "colab": {
          "base_uri": "https://localhost:8080/"
        },
        "id": "NZWhfaWEq97o",
        "outputId": "e5e2a781-d056-482e-ea6a-86c69b9d48dc"
      },
      "outputs": [
        {
          "output_type": "execute_result",
          "data": {
            "text/plain": [
              "array([[[0.93403976, 0.44815431, 0.65217734],\n",
              "        [0.17761123, 0.30906708, 0.98105221],\n",
              "        [0.6965136 , 0.97409949, 0.46277196]],\n",
              "\n",
              "       [[0.37507357, 0.83906482, 0.56186619],\n",
              "        [0.51873391, 0.76998937, 0.66149819],\n",
              "        [0.57913005, 0.5433098 , 0.76886136]],\n",
              "\n",
              "       [[0.97085988, 0.30496649, 0.67530963],\n",
              "        [0.22337143, 0.74435904, 0.48892904],\n",
              "        [0.38805839, 0.88669099, 0.73350055]],\n",
              "\n",
              "       [[0.53682108, 0.86580175, 0.14591431],\n",
              "        [0.89764846, 0.87863886, 0.76680462],\n",
              "        [0.39979513, 0.24851335, 0.03043538]],\n",
              "\n",
              "       [[0.77255815, 0.73953937, 0.54434284],\n",
              "        [0.82291795, 0.97261967, 0.9903615 ],\n",
              "        [0.6358931 , 0.15307913, 0.31523468]]])"
            ]
          },
          "metadata": {},
          "execution_count": 92
        }
      ],
      "source": [
        "matrix = np.random.random(size=(5, 3, 3))\n",
        "matrix"
      ]
    },
    {
      "cell_type": "code",
      "execution_count": 93,
      "metadata": {
        "colab": {
          "base_uri": "https://localhost:8080/"
        },
        "id": "CfCwX49Rq97o",
        "outputId": "66258489-9b1b-4e2b-e10d-8c36a06d74c1"
      },
      "outputs": [
        {
          "output_type": "execute_result",
          "data": {
            "text/plain": [
              "(5, 3, 3)"
            ]
          },
          "metadata": {},
          "execution_count": 93
        }
      ],
      "source": [
        "matrix.shape"
      ]
    },
    {
      "cell_type": "code",
      "execution_count": 94,
      "metadata": {
        "colab": {
          "base_uri": "https://localhost:8080/"
        },
        "id": "dXr9-fosq97p",
        "outputId": "d3b088b8-6e49-4555-8177-c457aea6c4f9"
      },
      "outputs": [
        {
          "output_type": "execute_result",
          "data": {
            "text/plain": [
              "array([[[0.93403976, 0.37507357, 0.97085988, 0.53682108, 0.77255815],\n",
              "        [0.17761123, 0.51873391, 0.22337143, 0.89764846, 0.82291795],\n",
              "        [0.6965136 , 0.57913005, 0.38805839, 0.39979513, 0.6358931 ]],\n",
              "\n",
              "       [[0.44815431, 0.83906482, 0.30496649, 0.86580175, 0.73953937],\n",
              "        [0.30906708, 0.76998937, 0.74435904, 0.87863886, 0.97261967],\n",
              "        [0.97409949, 0.5433098 , 0.88669099, 0.24851335, 0.15307913]],\n",
              "\n",
              "       [[0.65217734, 0.56186619, 0.67530963, 0.14591431, 0.54434284],\n",
              "        [0.98105221, 0.66149819, 0.48892904, 0.76680462, 0.9903615 ],\n",
              "        [0.46277196, 0.76886136, 0.73350055, 0.03043538, 0.31523468]]])"
            ]
          },
          "metadata": {},
          "execution_count": 94
        }
      ],
      "source": [
        "matrix.T"
      ]
    },
    {
      "cell_type": "code",
      "execution_count": 95,
      "metadata": {
        "colab": {
          "base_uri": "https://localhost:8080/"
        },
        "id": "WWNFuQbiq97p",
        "outputId": "c8567546-53b0-45d1-b180-47e77a968973"
      },
      "outputs": [
        {
          "output_type": "execute_result",
          "data": {
            "text/plain": [
              "(3, 3, 5)"
            ]
          },
          "metadata": {},
          "execution_count": 95
        }
      ],
      "source": [
        "matrix.T.shape"
      ]
    },
    {
      "cell_type": "code",
      "execution_count": 96,
      "metadata": {
        "colab": {
          "base_uri": "https://localhost:8080/"
        },
        "id": "sigaGX-Nq97p",
        "outputId": "29d4030a-8ade-49c4-a473-d040b63dec38"
      },
      "outputs": [
        {
          "output_type": "execute_result",
          "data": {
            "text/plain": [
              "True"
            ]
          },
          "metadata": {},
          "execution_count": 96
        }
      ],
      "source": [
        "# Check to see if the reverse shape is same as tranpose shape\n",
        "matrix.T.shape == matrix.shape[::-1]"
      ]
    },
    {
      "cell_type": "code",
      "execution_count": 97,
      "metadata": {
        "colab": {
          "base_uri": "https://localhost:8080/"
        },
        "id": "Oaap92_Kq97p",
        "outputId": "370cb670-9494-4289-f763-b18bfec1e30f"
      },
      "outputs": [
        {
          "output_type": "execute_result",
          "data": {
            "text/plain": [
              "array([[[ True,  True,  True,  True,  True],\n",
              "        [ True,  True,  True,  True,  True],\n",
              "        [ True,  True,  True,  True,  True]],\n",
              "\n",
              "       [[ True,  True,  True,  True,  True],\n",
              "        [ True,  True,  True,  True,  True],\n",
              "        [ True,  True,  True,  True,  True]],\n",
              "\n",
              "       [[ True,  True,  True,  True,  True],\n",
              "        [ True,  True,  True,  True,  True],\n",
              "        [ True,  True,  True,  True,  True]]])"
            ]
          },
          "metadata": {},
          "execution_count": 97
        }
      ],
      "source": [
        "# Check to see if the first and last axes are swapped\n",
        "matrix.T == matrix.swapaxes(0, -1) # swap first (0) and last (-1) axes"
      ]
    },
    {
      "cell_type": "markdown",
      "metadata": {
        "id": "BqzbDR3mq97p"
      },
      "source": [
        "You can see more advanced forms of tranposing in the NumPy documentation under [`numpy.transpose`](https://numpy.org/doc/stable/reference/generated/numpy.transpose.html)."
      ]
    },
    {
      "cell_type": "markdown",
      "metadata": {
        "id": "XSl0qcIIq97p"
      },
      "source": [
        "### Dot product\n",
        "\n",
        "The main two rules for dot product to remember are:\n",
        "\n",
        "1. The **inner dimensions** must match:\n",
        "  * `(3, 2) @ (3, 2)` won't work\n",
        "  * `(2, 3) @ (3, 2)` will work\n",
        "  * `(3, 2) @ (2, 3)` will work\n",
        "  \n",
        "2. The resulting matrix has the shape of the **outer dimensions**:\n",
        " * `(2, 3) @ (3, 2)` -> `(2, 2)`\n",
        " * `(3, 2) @ (2, 3)` -> `(3, 3)`\n",
        "\n",
        "**Note:** In NumPy, `np.dot()` and `@` can be used to acheive the same result for 1-2 dimension arrays. However, their behaviour begins to differ at arrays with 3+ dimensions."
      ]
    },
    {
      "cell_type": "code",
      "execution_count": 98,
      "metadata": {
        "colab": {
          "base_uri": "https://localhost:8080/"
        },
        "id": "FMTScKffq97p",
        "outputId": "a85bff7b-f542-40b5-82f7-a0381b04e5c7"
      },
      "outputs": [
        {
          "output_type": "execute_result",
          "data": {
            "text/plain": [
              "((3, 3), (3, 2))"
            ]
          },
          "metadata": {},
          "execution_count": 98
        }
      ],
      "source": [
        "np.random.seed(0)\n",
        "mat1 = np.random.randint(10, size=(3, 3))\n",
        "mat2 = np.random.randint(10, size=(3, 2))\n",
        "\n",
        "mat1.shape, mat2.shape"
      ]
    },
    {
      "cell_type": "code",
      "execution_count": 99,
      "metadata": {
        "colab": {
          "base_uri": "https://localhost:8080/"
        },
        "id": "NpcPjnBIq97p",
        "outputId": "a82f3c29-78a2-41ef-d19b-8cf95ae3d6d8"
      },
      "outputs": [
        {
          "output_type": "execute_result",
          "data": {
            "text/plain": [
              "array([[5, 0, 3],\n",
              "       [3, 7, 9],\n",
              "       [3, 5, 2]])"
            ]
          },
          "metadata": {},
          "execution_count": 99
        }
      ],
      "source": [
        "mat1"
      ]
    },
    {
      "cell_type": "code",
      "execution_count": 100,
      "metadata": {
        "colab": {
          "base_uri": "https://localhost:8080/"
        },
        "id": "RHiD3abOq97p",
        "outputId": "f7d08222-bc90-431d-e21a-72a0e762dd6e"
      },
      "outputs": [
        {
          "output_type": "execute_result",
          "data": {
            "text/plain": [
              "array([[4, 7],\n",
              "       [6, 8],\n",
              "       [8, 1]])"
            ]
          },
          "metadata": {},
          "execution_count": 100
        }
      ],
      "source": [
        "mat2"
      ]
    },
    {
      "cell_type": "code",
      "execution_count": 101,
      "metadata": {
        "colab": {
          "base_uri": "https://localhost:8080/"
        },
        "id": "MT12fkwUq97p",
        "outputId": "43505e01-3cff-40d3-ff49-031cf48718ae"
      },
      "outputs": [
        {
          "output_type": "execute_result",
          "data": {
            "text/plain": [
              "array([[ 44,  38],\n",
              "       [126,  86],\n",
              "       [ 58,  63]])"
            ]
          },
          "metadata": {},
          "execution_count": 101
        }
      ],
      "source": [
        "np.dot(mat1, mat2)"
      ]
    },
    {
      "cell_type": "code",
      "execution_count": 102,
      "metadata": {
        "colab": {
          "base_uri": "https://localhost:8080/"
        },
        "id": "UTOK3dhKq97q",
        "outputId": "f5d85207-a3aa-4e6d-bd77-ca28287136b1"
      },
      "outputs": [
        {
          "output_type": "execute_result",
          "data": {
            "text/plain": [
              "array([[ 44,  38],\n",
              "       [126,  86],\n",
              "       [ 58,  63]])"
            ]
          },
          "metadata": {},
          "execution_count": 102
        }
      ],
      "source": [
        "# Can also achieve np.dot() with \"@\"\n",
        "# (however, they may behave differently at 3D+ arrays)\n",
        "mat1 @ mat2"
      ]
    },
    {
      "cell_type": "code",
      "execution_count": 103,
      "metadata": {
        "colab": {
          "base_uri": "https://localhost:8080/"
        },
        "id": "zMNAQ5pXq97q",
        "outputId": "c7f5b5b9-b760-4983-be4e-b5ef76d85a9e"
      },
      "outputs": [
        {
          "output_type": "execute_result",
          "data": {
            "text/plain": [
              "array([[5, 0, 3],\n",
              "       [3, 7, 9],\n",
              "       [3, 5, 2],\n",
              "       [4, 7, 6]])"
            ]
          },
          "metadata": {},
          "execution_count": 103
        }
      ],
      "source": [
        "np.random.seed(0)\n",
        "mat3 = np.random.randint(10, size=(4,3))\n",
        "mat4 = np.random.randint(10, size=(4,3))\n",
        "mat3"
      ]
    },
    {
      "cell_type": "code",
      "execution_count": 104,
      "metadata": {
        "colab": {
          "base_uri": "https://localhost:8080/"
        },
        "id": "czd2_9ukq97q",
        "outputId": "3a6787d9-69d8-4b73-f628-0e538cad3a91"
      },
      "outputs": [
        {
          "output_type": "execute_result",
          "data": {
            "text/plain": [
              "array([[8, 8, 1],\n",
              "       [6, 7, 7],\n",
              "       [8, 1, 5],\n",
              "       [9, 8, 9]])"
            ]
          },
          "metadata": {},
          "execution_count": 104
        }
      ],
      "source": [
        "mat4"
      ]
    },
    {
      "cell_type": "code",
      "execution_count": 105,
      "metadata": {
        "colab": {
          "base_uri": "https://localhost:8080/",
          "height": 156
        },
        "id": "yOF64e9Fq97q",
        "outputId": "0e7ca0ee-b5ce-4f34-9c71-5b2335a73457"
      },
      "outputs": [
        {
          "output_type": "error",
          "ename": "ValueError",
          "evalue": "shapes (4,3) and (4,3) not aligned: 3 (dim 1) != 4 (dim 0)",
          "traceback": [
            "\u001b[0;31m---------------------------------------------------------------------------\u001b[0m",
            "\u001b[0;31mValueError\u001b[0m                                Traceback (most recent call last)",
            "\u001b[0;32m<ipython-input-105-6d3f9d8821c2>\u001b[0m in \u001b[0;36m<cell line: 2>\u001b[0;34m()\u001b[0m\n\u001b[1;32m      1\u001b[0m \u001b[0;31m# This will fail as the inner dimensions of the matrices do not match\u001b[0m\u001b[0;34m\u001b[0m\u001b[0;34m\u001b[0m\u001b[0m\n\u001b[0;32m----> 2\u001b[0;31m \u001b[0mnp\u001b[0m\u001b[0;34m.\u001b[0m\u001b[0mdot\u001b[0m\u001b[0;34m(\u001b[0m\u001b[0mmat3\u001b[0m\u001b[0;34m,\u001b[0m \u001b[0mmat4\u001b[0m\u001b[0;34m)\u001b[0m\u001b[0;34m\u001b[0m\u001b[0;34m\u001b[0m\u001b[0m\n\u001b[0m",
            "\u001b[0;31mValueError\u001b[0m: shapes (4,3) and (4,3) not aligned: 3 (dim 1) != 4 (dim 0)"
          ]
        }
      ],
      "source": [
        "# This will fail as the inner dimensions of the matrices do not match\n",
        "np.dot(mat3, mat4)"
      ]
    },
    {
      "cell_type": "code",
      "execution_count": 106,
      "metadata": {
        "colab": {
          "base_uri": "https://localhost:8080/"
        },
        "id": "t-o0ZOokq97q",
        "outputId": "824df7c5-7510-431c-a5c8-d2074db8af4a"
      },
      "outputs": [
        {
          "output_type": "execute_result",
          "data": {
            "text/plain": [
              "(3, 4)"
            ]
          },
          "metadata": {},
          "execution_count": 106
        }
      ],
      "source": [
        "mat3.T.shape"
      ]
    },
    {
      "cell_type": "code",
      "execution_count": 107,
      "metadata": {
        "colab": {
          "base_uri": "https://localhost:8080/"
        },
        "id": "PYpYHqEjq97q",
        "outputId": "6c5561f7-472b-4eb3-80ff-696d74d42f6e"
      },
      "outputs": [
        {
          "output_type": "execute_result",
          "data": {
            "text/plain": [
              "array([[118,  96,  77],\n",
              "       [145, 110, 137],\n",
              "       [148, 137, 130]])"
            ]
          },
          "metadata": {},
          "execution_count": 107
        }
      ],
      "source": [
        "# Dot product\n",
        "np.dot(mat3.T, mat4)"
      ]
    },
    {
      "cell_type": "code",
      "execution_count": 108,
      "metadata": {
        "colab": {
          "base_uri": "https://localhost:8080/"
        },
        "id": "9_ZmfZWlq97q",
        "outputId": "881dfde2-7fd3-4051-b889-25bd0ed49894"
      },
      "outputs": [
        {
          "output_type": "execute_result",
          "data": {
            "text/plain": [
              "array([[40,  0,  3],\n",
              "       [18, 49, 63],\n",
              "       [24,  5, 10],\n",
              "       [36, 56, 54]])"
            ]
          },
          "metadata": {},
          "execution_count": 108
        }
      ],
      "source": [
        "# Element-wise multiplication, also known as Hadamard product\n",
        "mat3 * mat4"
      ]
    },
    {
      "cell_type": "markdown",
      "metadata": {
        "id": "B5NIXN0cq97s"
      },
      "source": [
        "### Comparison operators\n",
        "\n",
        "Finding out if one array is larger, smaller or equal to another."
      ]
    },
    {
      "cell_type": "code",
      "execution_count": 109,
      "metadata": {
        "colab": {
          "base_uri": "https://localhost:8080/"
        },
        "id": "Qk3yh1aQq97s",
        "outputId": "6712cab7-c3b7-489e-f422-ea6383093807"
      },
      "outputs": [
        {
          "output_type": "execute_result",
          "data": {
            "text/plain": [
              "array([1, 2, 3])"
            ]
          },
          "metadata": {},
          "execution_count": 109
        }
      ],
      "source": [
        "a1"
      ]
    },
    {
      "cell_type": "code",
      "execution_count": 110,
      "metadata": {
        "colab": {
          "base_uri": "https://localhost:8080/"
        },
        "id": "WE23Bnvlq97s",
        "outputId": "cd89928a-51ff-4c54-b834-f3b49712ab75"
      },
      "outputs": [
        {
          "output_type": "execute_result",
          "data": {
            "text/plain": [
              "array([[1. , 2. , 3.3],\n",
              "       [4. , 5. , 6.5]])"
            ]
          },
          "metadata": {},
          "execution_count": 110
        }
      ],
      "source": [
        "a2"
      ]
    },
    {
      "cell_type": "code",
      "execution_count": 111,
      "metadata": {
        "colab": {
          "base_uri": "https://localhost:8080/"
        },
        "id": "m0ebqd6Zq97s",
        "outputId": "59920a1c-cf2b-4556-8645-509e9fa56067"
      },
      "outputs": [
        {
          "output_type": "execute_result",
          "data": {
            "text/plain": [
              "array([[False, False, False],\n",
              "       [False, False, False]])"
            ]
          },
          "metadata": {},
          "execution_count": 111
        }
      ],
      "source": [
        "a1 > a2"
      ]
    },
    {
      "cell_type": "code",
      "execution_count": 112,
      "metadata": {
        "colab": {
          "base_uri": "https://localhost:8080/"
        },
        "id": "4wsUcgZEq97s",
        "outputId": "b4932993-9bcd-4880-8943-f382c87a5120"
      },
      "outputs": [
        {
          "output_type": "execute_result",
          "data": {
            "text/plain": [
              "array([[ True,  True, False],\n",
              "       [False, False, False]])"
            ]
          },
          "metadata": {},
          "execution_count": 112
        }
      ],
      "source": [
        "a1 >= a2"
      ]
    },
    {
      "cell_type": "code",
      "execution_count": 113,
      "metadata": {
        "colab": {
          "base_uri": "https://localhost:8080/"
        },
        "id": "nIOfEHz1q97s",
        "outputId": "7978c5cc-3d26-4eb1-abc6-9a6b7438e3fa"
      },
      "outputs": [
        {
          "output_type": "execute_result",
          "data": {
            "text/plain": [
              "array([False, False, False])"
            ]
          },
          "metadata": {},
          "execution_count": 113
        }
      ],
      "source": [
        "a1 > 5"
      ]
    },
    {
      "cell_type": "code",
      "execution_count": 114,
      "metadata": {
        "colab": {
          "base_uri": "https://localhost:8080/"
        },
        "id": "QSOlnAqpq97s",
        "outputId": "f12b4920-e250-49c0-8411-6bb00ce7c486"
      },
      "outputs": [
        {
          "output_type": "execute_result",
          "data": {
            "text/plain": [
              "array([ True,  True,  True])"
            ]
          },
          "metadata": {},
          "execution_count": 114
        }
      ],
      "source": [
        "a1 == a1"
      ]
    },
    {
      "cell_type": "code",
      "execution_count": 115,
      "metadata": {
        "colab": {
          "base_uri": "https://localhost:8080/"
        },
        "id": "uk1iR5Cvq97t",
        "outputId": "aad4222b-8100-4283-b824-d09b86b69018"
      },
      "outputs": [
        {
          "output_type": "execute_result",
          "data": {
            "text/plain": [
              "array([[ True,  True, False],\n",
              "       [False, False, False]])"
            ]
          },
          "metadata": {},
          "execution_count": 115
        }
      ],
      "source": [
        "a1 == a2"
      ]
    },
    {
      "cell_type": "markdown",
      "metadata": {
        "id": "vza78YEIq97t"
      },
      "source": [
        "## 5. Sorting arrays\n",
        "\n",
        "* [`np.sort()`](https://numpy.org/doc/stable/reference/generated/numpy.sort.html) - sort values in a specified dimension of an array.\n",
        "* [`np.argsort()`](https://numpy.org/doc/stable/reference/generated/numpy.argsort.html) - return the indices to sort the array on a given axis.\n",
        "* [`np.argmax()`](https://numpy.org/doc/stable/reference/generated/numpy.argmax.html) - return the index/indicies which gives the highest value(s) along an axis.\n",
        "* [`np.argmin()`](https://numpy.org/doc/stable/reference/generated/numpy.argmin.html) - return the index/indices which gives the lowest value(s) along an axis."
      ]
    },
    {
      "cell_type": "code",
      "execution_count": 121,
      "metadata": {
        "colab": {
          "base_uri": "https://localhost:8080/"
        },
        "id": "YXqVcXkQq97t",
        "outputId": "705dcc00-974b-46f2-c6d0-1a4570bbacd0"
      },
      "outputs": [
        {
          "output_type": "execute_result",
          "data": {
            "text/plain": [
              "array([[8, 0, 4],\n",
              "       [7, 7, 5],\n",
              "       [2, 7, 2],\n",
              "       [0, 0, 2],\n",
              "       [1, 0, 7]])"
            ]
          },
          "metadata": {},
          "execution_count": 121
        }
      ],
      "source": [
        "random_array"
      ]
    },
    {
      "cell_type": "code",
      "execution_count": 122,
      "metadata": {
        "colab": {
          "base_uri": "https://localhost:8080/"
        },
        "id": "Lkm0Z6nFq97t",
        "outputId": "3be88ed1-21bd-4cec-fca4-d0d6591c051f"
      },
      "outputs": [
        {
          "output_type": "execute_result",
          "data": {
            "text/plain": [
              "array([[0, 4, 8],\n",
              "       [5, 7, 7],\n",
              "       [2, 2, 7],\n",
              "       [0, 0, 2],\n",
              "       [0, 1, 7]])"
            ]
          },
          "metadata": {},
          "execution_count": 122
        }
      ],
      "source": [
        "np.sort(random_array)"
      ]
    },
    {
      "cell_type": "code",
      "execution_count": 143,
      "metadata": {
        "colab": {
          "base_uri": "https://localhost:8080/"
        },
        "id": "BGPrrKkCq97t",
        "outputId": "020cfd45-63ef-4cc3-ba0a-6266bae97ec6"
      },
      "outputs": [
        {
          "output_type": "execute_result",
          "data": {
            "text/plain": [
              "array([[1, 2, 0],\n",
              "       [2, 0, 1],\n",
              "       [0, 2, 1],\n",
              "       [0, 1, 2],\n",
              "       [1, 0, 2]])"
            ]
          },
          "metadata": {},
          "execution_count": 143
        }
      ],
      "source": [
        "np.argsort(random_array)"
      ]
    },
    {
      "cell_type": "code",
      "execution_count": 144,
      "metadata": {
        "id": "q7xqTEzKq97t"
      },
      "outputs": [],
      "source": [
        "a1 = np.array([34,1,24,5,45,424])"
      ]
    },
    {
      "cell_type": "code",
      "execution_count": 145,
      "metadata": {
        "colab": {
          "base_uri": "https://localhost:8080/"
        },
        "id": "iowB5zn8q97t",
        "outputId": "47de3bc5-39a3-443a-c2ee-af92298bd5a8"
      },
      "outputs": [
        {
          "output_type": "execute_result",
          "data": {
            "text/plain": [
              "array([1, 3, 2, 0, 4, 5])"
            ]
          },
          "metadata": {},
          "execution_count": 145
        }
      ],
      "source": [
        "# Return the indices that would sort an array\n",
        "np.argsort(a1,axis=0)"
      ]
    },
    {
      "cell_type": "code",
      "execution_count": 146,
      "metadata": {
        "colab": {
          "base_uri": "https://localhost:8080/"
        },
        "id": "wJFzPC0rq97t",
        "outputId": "345483ea-145e-407e-8a39-6fcfe5b6b800"
      },
      "outputs": [
        {
          "output_type": "execute_result",
          "data": {
            "text/plain": [
              "1"
            ]
          },
          "metadata": {},
          "execution_count": 146
        }
      ],
      "source": [
        "# No axis\n",
        "np.argmin(a1)"
      ]
    },
    {
      "cell_type": "code",
      "source": [
        "np.argmax(a1)"
      ],
      "metadata": {
        "colab": {
          "base_uri": "https://localhost:8080/"
        },
        "id": "kc-s2lZBybID",
        "outputId": "fcae58f0-e5ec-4343-8e47-4cab10177b47"
      },
      "execution_count": 148,
      "outputs": [
        {
          "output_type": "execute_result",
          "data": {
            "text/plain": [
              "5"
            ]
          },
          "metadata": {},
          "execution_count": 148
        }
      ]
    },
    {
      "cell_type": "code",
      "execution_count": 149,
      "metadata": {
        "colab": {
          "base_uri": "https://localhost:8080/"
        },
        "id": "1aPpo1Qhq97t",
        "outputId": "b5d1b884-56da-4af0-e8d8-52ebcbc2e021"
      },
      "outputs": [
        {
          "output_type": "execute_result",
          "data": {
            "text/plain": [
              "array([[8, 0, 4],\n",
              "       [7, 7, 5],\n",
              "       [2, 7, 2],\n",
              "       [0, 0, 2],\n",
              "       [1, 0, 7]])"
            ]
          },
          "metadata": {},
          "execution_count": 149
        }
      ],
      "source": [
        "random_array"
      ]
    },
    {
      "cell_type": "code",
      "execution_count": 150,
      "metadata": {
        "colab": {
          "base_uri": "https://localhost:8080/"
        },
        "id": "AtD_6OcKq97t",
        "outputId": "2675011e-e602-436d-de41-496903d61015"
      },
      "outputs": [
        {
          "output_type": "execute_result",
          "data": {
            "text/plain": [
              "array([0, 0, 1, 2, 2])"
            ]
          },
          "metadata": {},
          "execution_count": 150
        }
      ],
      "source": [
        "# Down the vertical\n",
        "np.argmax(random_array, axis=1)"
      ]
    },
    {
      "cell_type": "code",
      "execution_count": 151,
      "metadata": {
        "colab": {
          "base_uri": "https://localhost:8080/"
        },
        "id": "wxCyhpiLq97u",
        "outputId": "e151881e-1eaf-41ae-c725-f378f94043f1"
      },
      "outputs": [
        {
          "output_type": "execute_result",
          "data": {
            "text/plain": [
              "array([3, 0, 2])"
            ]
          },
          "metadata": {},
          "execution_count": 151
        }
      ],
      "source": [
        "# Across the horizontal\n",
        "np.argmin(random_array, axis=0)"
      ]
    }
  ],
  "metadata": {
    "kernelspec": {
      "display_name": "Python 3 (ipykernel)",
      "language": "python",
      "name": "python3"
    },
    "language_info": {
      "codemirror_mode": {
        "name": "ipython",
        "version": 3
      },
      "file_extension": ".py",
      "mimetype": "text/x-python",
      "name": "python",
      "nbconvert_exporter": "python",
      "pygments_lexer": "ipython3",
      "version": "3.9.13"
    },
    "colab": {
      "provenance": [],
      "toc_visible": true,
      "include_colab_link": true
    }
  },
  "nbformat": 4,
  "nbformat_minor": 0
}