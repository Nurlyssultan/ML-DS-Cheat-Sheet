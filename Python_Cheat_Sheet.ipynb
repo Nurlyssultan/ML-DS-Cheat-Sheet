{
  "cells": [
    {
      "cell_type": "markdown",
      "metadata": {
        "id": "view-in-github",
        "colab_type": "text"
      },
      "source": [
        "<a href=\"https://colab.research.google.com/github/Nurlyssultan/ML-DS-Cheat-Sheet/blob/main/Python_Cheat_Sheet.ipynb\" target=\"_parent\"><img src=\"https://colab.research.google.com/assets/colab-badge.svg\" alt=\"Open In Colab\"/></a>"
      ]
    },
    {
      "cell_type": "markdown",
      "metadata": {
        "id": "lGNHy6kdVsu8"
      },
      "source": [
        "# Python Cheat Sheet\n",
        "### Python was named for the British comedy troupe Monty Python."
      ]
    },
    {
      "cell_type": "markdown",
      "source": [
        "# Installation Python in Apple Macbook\n",
        "## Installing Homebrew\n",
        "#### `/usr/bin/ruby -e \"$(curl -fsSL https://raw.githubusercontent.com/Homebrew/install/master/install)\"`\n",
        "\n",
        "##Install Python\n",
        "`brew install python`\n",
        "\n",
        "`brew install openssl readline sqlite3 xz zlib`\n",
        "\n",
        "`brew install pyenv`\n",
        "\n",
        "`python versions`\n",
        "\n",
        "#### `install latest`\n",
        "#### `pyenv install 3.11.1`\n",
        "#### `pyenv global 3.11.1`\n",
        "#### `pyenv versions`\n",
        "#### `close terminal`\n",
        "#### `python`\n",
        "#### `pipenv --python 3.11.1 install`"
      ],
      "metadata": {
        "id": "FqSA1nnAWpSM"
      }
    },
    {
      "cell_type": "markdown",
      "source": [
        "# Virtual environment\n",
        "\n",
        "## Installation virtual environment to pc (Macbook) -> `venv`\n",
        "\n",
        "`python3 -m pip install virtualenv`\n",
        "\n",
        "## Creation of venv and activation by Terminal\n",
        "\n",
        "### Choose a location for your virtual environment. This can be any directory on your computer.\n",
        "\n",
        "`mkdir new-python-project`\n",
        "`cd new-python-project`\n",
        "\n",
        "### Creating a python file\n",
        "`touch run.py`\n",
        "\n",
        "### Creating a venv in project directory\n",
        "`python3 -m venv my_venv`\n",
        "\n",
        "### Activate your virtual environment\n",
        "`source my_venv/bin/activate`\n",
        "\n",
        "### Deactivate your virtual environment\n",
        "`deactivate`\n",
        "\n",
        "### Checking the version of python and pip\n",
        "#### `which python`\n",
        "#### `which pip`\n",
        "\n",
        "### Running of a python file\n",
        "`python run.py`\n",
        "\n",
        "###  Copies all packages currently installed into the file\n",
        "#### `pip freeze > requirements.txt`\n",
        "#### `pip install -r requirements.txt`\n",
        "\n",
        "### Working with Git -> Python project\n",
        "#### `git clone https://github.com/username/your-awesome-code.git`\n",
        "#### `cd your-awesome-code`\n",
        "#### `source venv/bin/activate`\n",
        "#### `pip install -r requirements.txt`\n",
        "#### `python run.py`\n"
      ],
      "metadata": {
        "id": "PjakUGYeXm1L"
      }
    },
    {
      "cell_type": "markdown",
      "source": [
        "# Numbers\n",
        "## Python's main types for Numbers is int and float (or integers and floating point numbers)"
      ],
      "metadata": {
        "id": "HhGqpSVodAVK"
      }
    },
    {
      "cell_type": "code",
      "execution_count": 1,
      "metadata": {
        "colab": {
          "base_uri": "https://localhost:8080/"
        },
        "id": "M0caUiPfVsvE",
        "outputId": "f5d115e0-3447-4502-ff9c-82e04c8fd9e5"
      },
      "outputs": [
        {
          "output_type": "execute_result",
          "data": {
            "text/plain": [
              "float"
            ]
          },
          "metadata": {},
          "execution_count": 1
        }
      ],
      "source": [
        "type(None)# NoneType\n",
        "type(1)   # int\n",
        "type(-10) # int\n",
        "type(0)   # int\n",
        "type(0.0) # float\n",
        "type(2.2) # float\n",
        "type(4E2) # float - 4*10 to the power of 2"
      ]
    },
    {
      "cell_type": "code",
      "execution_count": 2,
      "metadata": {
        "colab": {
          "base_uri": "https://localhost:8080/"
        },
        "id": "bpHHFmSSVsvF",
        "outputId": "c6c14cff-5e26-4404-a281-f9a3b200d1fd"
      },
      "outputs": [
        {
          "output_type": "execute_result",
          "data": {
            "text/plain": [
              "8"
            ]
          },
          "metadata": {},
          "execution_count": 2
        }
      ],
      "source": [
        "# Arithmetic\n",
        "10 + 3  # 13\n",
        "10 - 3  # 7\n",
        "10 * 3  # 30\n",
        "10 ** 3 # 1000\n",
        "10 / 3  # 3.3333333333333335\n",
        "10 // 3 # 3 --> floor division - no decimals and returns an int\n",
        "10 % 3  # 1 --> modulo operator - return the reminder. Good for deciding if number is even or odd\n",
        "2 ** 3  # 8 --> power"
      ]
    },
    {
      "cell_type": "code",
      "execution_count": 3,
      "metadata": {
        "colab": {
          "base_uri": "https://localhost:8080/"
        },
        "id": "SpkZrekGVsvG",
        "outputId": "c514936d-e9af-4afe-c426-13c974eba250"
      },
      "outputs": [
        {
          "output_type": "execute_result",
          "data": {
            "text/plain": [
              "512"
            ]
          },
          "metadata": {},
          "execution_count": 3
        }
      ],
      "source": [
        "# Basic Functions\n",
        "pow(5, 2)      # 25 --> like doing 5**2\n",
        "abs(-50)       # 50\n",
        "round(5.46)    # 5\n",
        "round(5.468, 2)# 5.47 --> round to nth digit\n",
        "bin(512)       # '0b1000000000' -->  binary format\n",
        "hex(512)       # '0x200' --> hexadecimal format\n",
        "int(0x200)     # back to int format"
      ]
    },
    {
      "cell_type": "code",
      "execution_count": 4,
      "metadata": {
        "colab": {
          "base_uri": "https://localhost:8080/"
        },
        "id": "tHJV3qdKVsvG",
        "outputId": "490f6031-d443-429f-8e8d-e3aa1d05dc7f"
      },
      "outputs": [
        {
          "name": "stdout",
          "output_type": "stream",
          "text": [
            "How old are you?27\n",
            "What is the value of pi?3.14\n"
          ]
        },
        {
          "output_type": "execute_result",
          "data": {
            "text/plain": [
              "3.14"
            ]
          },
          "metadata": {},
          "execution_count": 4
        }
      ],
      "source": [
        "# Converting Strings to Numbers\n",
        "age = input(\"How old are you?\")\n",
        "age = int(age)\n",
        "pi = input(\"What is the value of pi?\")\n",
        "pi = float(pi)\n",
        "pi"
      ]
    },
    {
      "cell_type": "code",
      "execution_count": 5,
      "metadata": {
        "id": "MSQw9hJ_VsvG"
      },
      "outputs": [],
      "source": [
        "ac, bc = 14, '24'\n",
        "ab = bb = '25'"
      ]
    },
    {
      "cell_type": "markdown",
      "metadata": {
        "id": "vJcsm3BMVsvH"
      },
      "source": [
        "# Strings\n",
        "\n",
        "### strings in python are stored as sequences of letters in memory"
      ]
    },
    {
      "cell_type": "code",
      "execution_count": 10,
      "metadata": {
        "colab": {
          "base_uri": "https://localhost:8080/",
          "height": 69
        },
        "id": "HCuDRdXyVsvH",
        "outputId": "0ba5cd03-b84b-46f9-816c-2ed77aa712c0"
      },
      "outputs": [
        {
          "output_type": "stream",
          "name": "stdout",
          "text": [
            "123456\n",
            "7890\n"
          ]
        },
        {
          "output_type": "execute_result",
          "data": {
            "text/plain": [
              "'**********'"
            ],
            "application/vnd.google.colaboratory.intrinsic+json": {
              "type": "string"
            }
          },
          "metadata": {},
          "execution_count": 10
        }
      ],
      "source": [
        "type('Hellloooooo') # str\n",
        "\n",
        "'I\\'m thirsty' # special character\n",
        "\"I'm thirsty\"\n",
        "\"\\n\" # new line\n",
        "\"\\t\" # adds a tab\n",
        "\n",
        "print('123456\\n7890')\n",
        "\n",
        "'Hey you!'[4] # y\n",
        "name = 'Nurlyssultan'\n",
        "name[4]     # y\n",
        "# Slicing creates a substring from extracting elements from string\n",
        "name[:]     # Nurlyssultan\n",
        "name[1:]    # urlyssultan\n",
        "name[:1]    # N\n",
        "name[-1]    # n\n",
        "name[::1]   # Nurlyssultan\n",
        "name[::-1]  # natlussylruN\n",
        "name[0:10:2]# Nrysl\n",
        "# : is called slicing and has the format [ start : end : step ]\n",
        "\n",
        "'Hi there ' + 'Timmy' # 'Hi there Timmy' --> This is called string concatenation\n",
        "'*'*10 # **********"
      ]
    },
    {
      "cell_type": "code",
      "execution_count": 11,
      "metadata": {
        "colab": {
          "base_uri": "https://localhost:8080/"
        },
        "id": "gASXZ0sCVsvI",
        "outputId": "7cc6aafb-c824-48d3-e1a6-622a3515c8c3"
      },
      "outputs": [
        {
          "output_type": "execute_result",
          "data": {
            "text/plain": [
              "True"
            ]
          },
          "metadata": {},
          "execution_count": 11
        }
      ],
      "source": [
        "# Basic Functions\n",
        "len('turtle') # 6\n",
        "\n",
        "# Basic Methods\n",
        "'  I am alone '.strip()               # 'I am alone' --> Strips all whitespace characters from both ends.\n",
        "'On an island'.strip('d')             # 'On an islan' --> # Strips all passed characters from both ends.\n",
        "'but life is good!'.split()           # ['but', 'life', 'is', 'good!']\n",
        "'Help me'.replace('me', 'you')        # 'Help you' --> Replaces first with second param\n",
        "'Need to make fire'.startswith('Need')# True\n",
        "'and cook rice'.endswith('rice')      # True\n",
        "'still there?'.upper()                # STILL THERE?\n",
        "'HELLO?!'.lower()                     # hello?!\n",
        "'ok, I am done.'.capitalize()         # 'Ok, I am done.'\n",
        "'oh hi there'.count('e')              # 2\n",
        "'bye bye'.index('e')                  # 2\n",
        "'oh hi there'.find('i')               # 4 --> returns the starting index position of the first occurrence\n",
        "'oh hi there'.find('a')               # -1\n",
        "'oh hi therea'.index('a')             # Raises ValueError\n",
        "'hello World'.upper()                 #'HELLO WORLD'\n",
        "\"123\".isdigit()                       # True  check str for all chars are digits\n",
        "'hello world'.capitalize()            #'Hello world'\n",
        "'abcd'.isalpha()                      #False  #check str for all chars are letters\n",
        "'a ' in 'Aa '                         # Condition statement use"
      ]
    },
    {
      "cell_type": "code",
      "execution_count": 12,
      "metadata": {
        "colab": {
          "base_uri": "https://localhost:8080/"
        },
        "id": "FEa27bzLVsvI",
        "outputId": "fa748ce9-bdb5-4473-ffdc-d3aad429dd9c"
      },
      "outputs": [
        {
          "output_type": "stream",
          "name": "stdout",
          "text": [
            "Hello there Andrei and Sunny\n",
            "Hello there Andrei and Sunny\n",
            "Hello there Andrei and Sunny\n",
            "Hello World asd bsd\n",
            "The result is 10111.5650\n"
          ]
        }
      ],
      "source": [
        "# String Formatting\n",
        "name1 = 'Andrei'\n",
        "name2 = 'Sunny'\n",
        "print(f'Hello there {name1} and {name2}')       # Hello there Andrei and Sunny - Newer way to do things as of python 3.6\n",
        "print('Hello there {} and {}'.format(name1, name2))# Hello there Andrei and Sunny\n",
        "print('Hello there %s and %s' %(name1, name2))  # Hello there Andrei and Sunny --> you can also use %d, %f, %r for integers, floats, string representations of objects respectively\n",
        "print('Hello World {a} {b}'.format(a='asd',b='bsd'))\n",
        "result = 10111.564971751\n",
        "print('The result is {r:1.4f}'.format(r=result))"
      ]
    },
    {
      "cell_type": "code",
      "execution_count": 15,
      "metadata": {
        "colab": {
          "base_uri": "https://localhost:8080/"
        },
        "id": "M9jsqgC7VsvI",
        "outputId": "83b93304-f8e2-4759-a2b1-05227f1e66a8"
      },
      "outputs": [
        {
          "output_type": "stream",
          "name": "stdout",
          "text": [
            "True\n"
          ]
        }
      ],
      "source": [
        "# Palindrome check\n",
        "word = 'reviver'\n",
        "p = bool(word.find(word[::-1]) + 1)\n",
        "print(p) # True"
      ]
    },
    {
      "cell_type": "markdown",
      "source": [
        "# Mutable vs immutable objects"
      ],
      "metadata": {
        "id": "S2RnDd1pe_9b"
      }
    },
    {
      "cell_type": "code",
      "execution_count": 16,
      "metadata": {
        "colab": {
          "base_uri": "https://localhost:8080/"
        },
        "id": "MDbLYoAXVsvJ",
        "outputId": "464b384e-83d7-483c-a524-21c892527e34"
      },
      "outputs": [
        {
          "output_type": "stream",
          "name": "stdout",
          "text": [
            "List vs Tuples\n",
            "(1, 2, 3)\n",
            "138035720286976\n",
            "138035719964544\n",
            "138036008754992\n",
            "138035719964544\n",
            "int\n",
            "138036149651056\n",
            "138036149651088\n",
            "String\n",
            "138036148457712\n",
            "138036148457712\n",
            "True\n",
            "138035736009712\n",
            "138036148457712\n",
            "False\n"
          ]
        }
      ],
      "source": [
        "# identity - id - never changes one it has been created, objects address in memory of RAM\n",
        "# the is operator compares the identity of two objects\n",
        "# mutable objects: list, dictionary, set and user-defined classes\n",
        "# immutable objects: int, float, decimal, bool,string,tuple and range\n",
        "# List vs Tuples\n",
        "print('List vs Tuples')\n",
        "t = (1,2,3) # t[0] = 0 won't work because it is ummutable\n",
        "s = [1,2,3]\n",
        "print(t)\n",
        "print(id(t))\n",
        "print(id(s))\n",
        "t += (4,5)\n",
        "s += [4,5]\n",
        "print(id(t))\n",
        "print(id(s))\n",
        "# int\n",
        "print('int')\n",
        "i = 45\n",
        "print(id(i))\n",
        "i += 1\n",
        "print(id(i))\n",
        "# String\n",
        "print('String')\n",
        "text = 'abc'\n",
        "text2 = \"abc\"\n",
        "print(id(text))\n",
        "print(id(text2))\n",
        "print(text is text2)\n",
        "text += 'd'\n",
        "print(id(text))\n",
        "print(id(text2))\n",
        "print(text is text2)"
      ]
    },
    {
      "cell_type": "markdown",
      "metadata": {
        "id": "vM3ywF7nVsvJ"
      },
      "source": [
        "### Boolean\n",
        "### True or False. Used in a lot of comparison and logical operations in Python"
      ]
    },
    {
      "cell_type": "code",
      "execution_count": 17,
      "metadata": {
        "colab": {
          "base_uri": "https://localhost:8080/"
        },
        "id": "isYuHJ_ZVsvJ",
        "outputId": "55348460-3e72-4622-81f5-4d1e46943bac"
      },
      "outputs": [
        {
          "output_type": "stream",
          "name": "stdout",
          "text": [
            "False\n",
            "False\n",
            "False\n",
            "False\n",
            "False\n",
            "False\n",
            "False\n",
            "False\n",
            "False\n",
            "False\n"
          ]
        }
      ],
      "source": [
        "bool(True)\n",
        "bool(False)\n",
        "#Falsy\n",
        "# all of the below evaluate to False. Everything else will evaluate to True in Python.\n",
        "print(bool(None))\n",
        "print(bool(False))\n",
        "print(bool(0))\n",
        "print(bool(0.0))\n",
        "print(bool([]))\n",
        "print(bool({}))\n",
        "print(bool(()))\n",
        "print(bool(''))\n",
        "print(bool(range(0)))\n",
        "print(bool(set()))\n",
        "\n",
        "# See Logical Operators and Comparison Operators section for more on booleans."
      ]
    },
    {
      "cell_type": "code",
      "execution_count": 18,
      "metadata": {
        "colab": {
          "base_uri": "https://localhost:8080/"
        },
        "id": "tR9lC7rOVsvK",
        "outputId": "277c9f75-fbec-48d2-c496-8a194ac11425"
      },
      "outputs": [
        {
          "output_type": "stream",
          "name": "stdout",
          "text": [
            "found\n",
            "1\n"
          ]
        }
      ],
      "source": [
        "### Checking the presence of the 'word' in string object\n",
        "x = 'Hello'\n",
        "if 'ell' in x:\n",
        "    print('found')\n",
        "print(x.find('ell'))"
      ]
    },
    {
      "cell_type": "markdown",
      "metadata": {
        "id": "Ang_GNeCVsvK"
      },
      "source": [
        "### Lists\n",
        "\n",
        "### Unlike strings, lists are mutable sequences in python"
      ]
    },
    {
      "cell_type": "code",
      "execution_count": null,
      "metadata": {
        "id": "voL_L_BMVsvK",
        "outputId": "e299d9d9-00e7-4194-c8d7-9d1d30ace301"
      },
      "outputs": [
        {
          "data": {
            "text/plain": [
              "[1, '3']"
            ]
          },
          "execution_count": 16,
          "metadata": {},
          "output_type": "execute_result"
        }
      ],
      "source": [
        "my_list = [1, 2, '3', True]# We assume this list won't mutate for each example below\n",
        "len(my_list)               # 4\n",
        "my_list.index('3')         # 2\n",
        "my_list.count(2)           # 1 --> count how many times 2 appears\n",
        "\n",
        "my_list[3]                 # True\n",
        "my_list[1:]                # [2, '3', True]\n",
        "my_list[:1]                # [1]\n",
        "my_list[-1]                # True\n",
        "my_list[::1]               # [1, 2, '3', True]\n",
        "my_list[::-1]              # [True, '3', 2, 1]\n",
        "my_list[0:3:2]             # [1, '3']\n",
        "\n",
        "# : is called slicing and has the format [ start : end : step ]"
      ]
    },
    {
      "cell_type": "code",
      "execution_count": null,
      "metadata": {
        "id": "pCj4cbj-VsvK",
        "outputId": "20315440-d6af-4518-91de-bd7a38a6e8ae"
      },
      "outputs": [
        {
          "data": {
            "text/plain": [
              "'Hello There G'"
            ]
          },
          "execution_count": 18,
          "metadata": {},
          "output_type": "execute_result"
        }
      ],
      "source": [
        "# Add to List\n",
        "my_list * 2                # [1, 2, '3', True, 1, 2, '3', True]\n",
        "my_list + [100]            # [1, 2, '3', True, 100] --> doesn't mutate original list, creates new one\n",
        "my_list.append(100)        # None --> Mutates original list to [1, 2, '3', True, 100]          # Or: <list> += [<el>]\n",
        "my_list.extend([100, 200]) # None --> Mutates original list to [1, 2, '3', True, 100, 200]\n",
        "my_list.insert(2, '!!!')   # None -->  [1, 2, '!!!', '3', True] - Inserts item at index and moves the rest to the right.\n",
        "\n",
        "' '.join(['Hello','There','G'])# 'Hello There' --> Joins elements using string as separator."
      ]
    },
    {
      "cell_type": "code",
      "execution_count": null,
      "metadata": {
        "id": "bL-Wc7iLVsvL",
        "outputId": "0e8ece64-1f00-4bec-8eee-be90ca01b78e"
      },
      "outputs": [
        {
          "data": {
            "text/plain": [
              "['apples', 'pears', 'oranges']"
            ]
          },
          "execution_count": 19,
          "metadata": {},
          "output_type": "execute_result"
        }
      ],
      "source": [
        "# Copy a List\n",
        "basket = ['apples', 'pears', 'oranges']\n",
        "new_basket = basket.copy()\n",
        "new_basket2 = basket[:]\n",
        "new_basket2"
      ]
    },
    {
      "cell_type": "code",
      "execution_count": null,
      "metadata": {
        "id": "4tfV_DzHVsvL"
      },
      "outputs": [],
      "source": [
        "# Remove from List\n",
        "[1,2,3].pop()    # 3 --> mutates original list, default index in the pop method is -1 (the last item)\n",
        "[1,2,3].pop(1)   # 2 --> mutates original list\n",
        "[1,2,3].remove(2)# None --> [1,3] Removes first occurrence of item or raises ValueError.\n",
        "[1,2,3].clear()  # None --> mutates original list and removes all items: []\n",
        "del [1,2,3][0]   # None --> removes item on index 0 or raises IndexError"
      ]
    },
    {
      "cell_type": "code",
      "execution_count": null,
      "metadata": {
        "id": "QWFWbC0RVsvL",
        "outputId": "1839b6d8-725d-419c-b639-22d87813449d"
      },
      "outputs": [
        {
          "data": {
            "text/plain": [
              "[3, 5, 2, 1]"
            ]
          },
          "execution_count": 21,
          "metadata": {},
          "output_type": "execute_result"
        }
      ],
      "source": [
        "# Ordering\n",
        "[1,2,5,3].sort()         # None --> Mutates list to [1, 2, 3, 5]\n",
        "[1,2,5,3].sort(reverse=True) # None --> Mutates list to [5, 3, 2, 1]\n",
        "[1,2,5,3].reverse()      # None --> Mutates list to [3, 5, 2, 1]\n",
        "sorted([1,2,5,3])        # [1, 2, 3, 5] --> new list created\n",
        "my_list = [(4,1),(2,4),(2,5),(1,6),(8,9)]\n",
        "sorted(my_list,key=lambda x: int(x[0])) # [(1, 6), (2, 4), (2, 5), (4, 1), (8, 9)] --> sort the list by 1st (0th index) value of the tuple\n",
        "list(reversed([1,2,5,3]))# [3, 5, 2, 1] --> reversed() returns an iterator"
      ]
    },
    {
      "cell_type": "code",
      "execution_count": null,
      "metadata": {
        "id": "tHiAPIkLVsvL",
        "outputId": "48fbea50-aa63-43d1-a4d1-f94dde1ae08a"
      },
      "outputs": [
        {
          "data": {
            "text/plain": [
              "15"
            ]
          },
          "execution_count": 22,
          "metadata": {},
          "output_type": "execute_result"
        }
      ],
      "source": [
        "# Useful operations\n",
        "1 in [1,2,5,3]  # True\n",
        "min([1,2,3,4,5])# 1\n",
        "max([1,2,3,4,5])# 5\n",
        "sum([1,2,3,4,5])# 15"
      ]
    },
    {
      "cell_type": "code",
      "execution_count": null,
      "metadata": {
        "id": "ak65Ts2LVsvM",
        "outputId": "34cc388e-ad22-465e-933f-43ee368bae4f"
      },
      "outputs": [
        {
          "name": "stdout",
          "output_type": "stream",
          "text": [
            "63\n",
            "10\n"
          ]
        }
      ],
      "source": [
        "# Get First and Last element of a list\n",
        "mList = [63, 21, 30, 14, 35, 26, 77, 18, 49, 10]\n",
        "first, *x, last = mList\n",
        "print(first) #63\n",
        "print(last) #10"
      ]
    },
    {
      "cell_type": "code",
      "execution_count": null,
      "metadata": {
        "id": "dstx06spVsvM",
        "outputId": "209b06df-41d2-4b0c-ae80-2ac088e2e455"
      },
      "outputs": [
        {
          "name": "stdout",
          "output_type": "stream",
          "text": [
            "1 2 3 4 5 "
          ]
        }
      ],
      "source": [
        "for i in [1,2,3,4,5]:\n",
        "    print(i, end=' ')"
      ]
    },
    {
      "cell_type": "code",
      "execution_count": null,
      "metadata": {
        "id": "QxcyrcdUVsvM",
        "outputId": "de317732-a226-475a-9b03-f20ca7dfc4f0"
      },
      "outputs": [
        {
          "name": "stdout",
          "output_type": "stream",
          "text": [
            "1\n",
            "2\n",
            "3\n",
            "4\n",
            "5\n",
            "6\n"
          ]
        },
        {
          "data": {
            "text/plain": [
              "[(1, 4), (2, 5), (3, 6)]"
            ]
          },
          "execution_count": 25,
          "metadata": {},
          "output_type": "execute_result"
        }
      ],
      "source": [
        "# Matrix\n",
        "matrix = [[1,2,3], [4,5,6], [7,8,9]]\n",
        "matrix[2][0] # 7 --> Grab first first of the third item in the matrix object\n",
        "\n",
        "# Looping through a matrix by rows:\n",
        "mx = [[1,2,3],[4,5,6]]\n",
        "for row in range(len(mx)):\n",
        "\tfor col in range(len(mx[0])):\n",
        "\t\tprint(mx[row][col]) # 1 2 3 4 5 6\n",
        "\n",
        "# Transform into a list:\n",
        "[mx[row][col] for row in range(len(mx)) for col in range(len(mx[0]))] # [1,2,3,4,5,6]\n",
        "\n",
        "# Combine columns with zip and *:\n",
        "[x for x in zip(*mx)] # [(1, 3), (2, 4)]"
      ]
    },
    {
      "cell_type": "code",
      "execution_count": null,
      "metadata": {
        "id": "hyNws0T1VsvM",
        "outputId": "babfb74c-8c20-40d5-f7b3-fda1dd1c0a90"
      },
      "outputs": [
        {
          "data": {
            "text/plain": [
              "[0, 'ODD', 2, 'ODD', 4, 'ODD', 6, 'ODD', 8, 'ODD']"
            ]
          },
          "execution_count": 26,
          "metadata": {},
          "output_type": "execute_result"
        }
      ],
      "source": [
        "# List Comprehensions\n",
        "# new_list[<action> for <item> in <iterator> if <some condition>]\n",
        "# <list> = [i+1 for i in range(10)]         # [1, 2, ..., 10]\n",
        "# <set>  = {i for i in range(10) if i > 5}  # {6, 7, 8, 9}\n",
        "# <iter> = (i+5 for i in range(10))         # (5, 6, ..., 14)\n",
        "# <dict> = {i: i*2 for i in range(10)}      # {0: 0, 1: 2, ..., 9: 18}\n",
        "a = [i for i in 'hello']                  # ['h', 'e', 'l', 'l', '0']\n",
        "b = [i*2 for i in [1,2,3]]                # [2, 4, 6]\n",
        "c = [i for i in range(0,10) if i % 2 == 0]# [0, 2, 4, 6, 8]\n",
        "# List Comprehension = a way to create a new list with less syntax can mimic certain lambda functions, easier to read\n",
        "listd = [0, 1, 2, 3, 4, 5]\n",
        "listr = [listElement for listElement in listd]\n",
        "listm = [charElement.upper() for charElement in 'word']\n",
        "listr = [num for num in range(0,10) if num % 2 == 0]\n",
        "listm = [ num if num % 2 == 0 else 'ODD' for num in range(0,10)]\n",
        "listm"
      ]
    },
    {
      "cell_type": "code",
      "execution_count": null,
      "metadata": {
        "id": "L3Nsho1CVsvN"
      },
      "outputs": [],
      "source": [
        "# Advanced Functions\n",
        "list_of_chars = list('Helloooo')                                   # ['H', 'e', 'l', 'l', 'o', 'o', 'o', 'o']\n",
        "sum_of_elements = sum([1,2,3,4,5])                                 # 15\n",
        "element_sum = [sum(pair) for pair in zip([1,2,3],[4,5,6])]         # [5, 7, 9]\n",
        "sorted_by_second = sorted(['hi','you','man'], key=lambda el: el[1])# ['man', 'hi', 'you']\n",
        "sorted_by_key = sorted([\n",
        "                       {'name': 'Bina', 'age': 30},\n",
        "                       {'name':'Andy', 'age': 18},\n",
        "                       {'name': 'Zoey', 'age': 55}],\n",
        "                       key=lambda el: (el['name']))# [{'name': 'Andy', 'age': 18}, {'name': 'Bina', 'age': 30}, {'name': 'Zoey', 'age': 55}]"
      ]
    },
    {
      "cell_type": "markdown",
      "metadata": {
        "id": "9mN6sKuxVsvN"
      },
      "source": [
        "### Dictionaries\n",
        "\n",
        "#### Also known as mappings or hash tables. They are key value pairs that are guaranteed to retain order of insertion starting from Python 3.7"
      ]
    },
    {
      "cell_type": "code",
      "execution_count": null,
      "metadata": {
        "id": "sATzidcOVsvN"
      },
      "outputs": [],
      "source": [
        "my_dict = {'name': 'Andrei Neagoie', 'age': 30, 'magic_power': False}\n",
        "my_dict['name']                      # Andrei Neagoie\n",
        "len(my_dict)                         # 3\n",
        "list(my_dict.keys())                 # ['name', 'age', 'magic_power']\n",
        "list(my_dict.values())               # ['Andrei Neagoie', 30, False]\n",
        "list(my_dict.items())                # [('name', 'Andrei Neagoie'), ('age', 30), ('magic_power', False)]\n",
        "my_dict['favourite_snack'] = 'Grapes'# {'name': 'Andrei Neagoie', 'age': 30, 'magic_power': False, 'favourite_snack': 'Grapes'}\n",
        "my_dict.get('age')                   # 30 --> Returns None if key does not exist.\n",
        "my_dict.get('ages', 0 )              # 0 --> Returns default (2nd param) if key is not found\n",
        "\n",
        "#Remove key\n",
        "del my_dict['name']\n",
        "my_dict.pop('name', None)"
      ]
    },
    {
      "cell_type": "code",
      "execution_count": null,
      "metadata": {
        "id": "iqDR6N0dVsvO"
      },
      "outputs": [],
      "source": [
        "my_dict.update({'cool': True})                                         # {'name': 'Andrei Neagoie', 'age': 30, 'magic_power': False, 'favourite_snack': 'Grapes', 'cool': True}\n",
        "{**my_dict, **{'cool': True} }                                         # {'name': 'Andrei Neagoie', 'age': 30, 'magic_power': False, 'favourite_snack': 'Grapes', 'cool': True}\n",
        "new_dict = dict([['name','Andrei'],['age',32],['magic_power',False]])  # Creates a dict from collection of key-value pairs.\n",
        "new_dict = dict(zip(['name','age','magic_power'],['Andrei',32, False]))# Creates a dict from two collections.\n",
        "new_dict = my_dict.pop('favourite_snack')"
      ]
    },
    {
      "cell_type": "code",
      "execution_count": null,
      "metadata": {
        "id": "Cc0whRUPVsvO",
        "outputId": "9affdc47-d856-4b04-ab63-f46260cc90fd"
      },
      "outputs": [
        {
          "data": {
            "text/plain": [
              "{'name': 'Andrei', 'age': 32}"
            ]
          },
          "execution_count": 30,
          "metadata": {},
          "output_type": "execute_result"
        }
      ],
      "source": [
        "# Dictionary Comprehension\n",
        "new_dict = dict([['name','Andrei'],['age',32],['magic_power',False]])\n",
        "new_dict = {key: value for key, value in new_dict.items() if key == 'age' or key == 'name'} # {'name': 'Andrei', 'age': 32} --> Filter dict by keys\n",
        "new_dict"
      ]
    },
    {
      "cell_type": "markdown",
      "metadata": {
        "id": "EmcV9mHHVsvP"
      },
      "source": [
        "### Tuples\n",
        "\n",
        "#### Like lists, but they are used for immutable thing (that don't change)"
      ]
    },
    {
      "cell_type": "code",
      "execution_count": null,
      "metadata": {
        "id": "Q17ixwRxVsvP",
        "outputId": "bb0bca08-9004-4980-8a07-3df734a4d7db"
      },
      "outputs": [
        {
          "data": {
            "text/plain": [
              "'grapes'"
            ]
          },
          "execution_count": 31,
          "metadata": {},
          "output_type": "execute_result"
        }
      ],
      "source": [
        "my_tuple = ('apple','grapes','mango', 'grapes')\n",
        "apple, grapes, mango, grapes = my_tuple# Tuple unpacking\n",
        "len(my_tuple)                          # 4\n",
        "my_tuple[2]                            # mango\n",
        "my_tuple[-1]                           # 'grapes'"
      ]
    },
    {
      "cell_type": "code",
      "execution_count": null,
      "metadata": {
        "id": "vq4RJrERVsvQ",
        "outputId": "ded700f2-73d6-4545-ee61-40a52909f981"
      },
      "outputs": [
        {
          "ename": "TypeError",
          "evalue": "'tuple' object does not support item assignment",
          "output_type": "error",
          "traceback": [
            "\u001b[0;31m---------------------------------------------------------------------------\u001b[0m",
            "\u001b[0;31mTypeError\u001b[0m                                 Traceback (most recent call last)",
            "\u001b[0;32m/var/folders/d9/4p0nby3n6xx82h_3151pqhk00000gn/T/ipykernel_11153/1005103889.py\u001b[0m in \u001b[0;36m<module>\u001b[0;34m\u001b[0m\n\u001b[1;32m      1\u001b[0m \u001b[0;31m# Immutability\u001b[0m\u001b[0;34m\u001b[0m\u001b[0;34m\u001b[0m\u001b[0m\n\u001b[0;32m----> 2\u001b[0;31m \u001b[0mmy_tuple\u001b[0m\u001b[0;34m[\u001b[0m\u001b[0;36m1\u001b[0m\u001b[0;34m]\u001b[0m \u001b[0;34m=\u001b[0m \u001b[0;34m'donuts'\u001b[0m  \u001b[0;31m# TypeError\u001b[0m\u001b[0;34m\u001b[0m\u001b[0;34m\u001b[0m\u001b[0m\n\u001b[0m\u001b[1;32m      3\u001b[0m \u001b[0mmy_tuple\u001b[0m\u001b[0;34m.\u001b[0m\u001b[0mappend\u001b[0m\u001b[0;34m(\u001b[0m\u001b[0;34m'candy'\u001b[0m\u001b[0;34m)\u001b[0m\u001b[0;31m# AttributeError\u001b[0m\u001b[0;34m\u001b[0m\u001b[0;34m\u001b[0m\u001b[0m\n",
            "\u001b[0;31mTypeError\u001b[0m: 'tuple' object does not support item assignment"
          ]
        }
      ],
      "source": [
        "# Immutability\n",
        "my_tuple[1] = 'donuts'  # TypeError\n",
        "my_tuple.append('candy')# AttributeError"
      ]
    },
    {
      "cell_type": "code",
      "execution_count": null,
      "metadata": {
        "id": "x6YXkEAUVsvQ",
        "outputId": "31b0e90f-7078-44af-d124-45d4f278bd96"
      },
      "outputs": [
        {
          "data": {
            "text/plain": [
              "2"
            ]
          },
          "execution_count": 33,
          "metadata": {},
          "output_type": "execute_result"
        }
      ],
      "source": [
        "# Methods\n",
        "my_tuple.index('grapes') # 1\n",
        "my_tuple.count('grapes') # 2"
      ]
    },
    {
      "cell_type": "code",
      "execution_count": null,
      "metadata": {
        "id": "FHppVEZ5VsvR",
        "outputId": "17a9057b-19c0-4b84-ee56-13735288560f"
      },
      "outputs": [
        {
          "data": {
            "text/plain": [
              "[(1, 4), (2, 5), (3, 6)]"
            ]
          },
          "execution_count": 34,
          "metadata": {},
          "output_type": "execute_result"
        }
      ],
      "source": [
        "# Zip\n",
        "list(zip([1,2,3], [4,5,6])) # [(1, 4), (2, 5), (3, 6)]"
      ]
    },
    {
      "cell_type": "code",
      "execution_count": null,
      "metadata": {
        "id": "DR49RrbWVsvR",
        "outputId": "73cff884-890d-4c6f-b582-73884dbde5eb"
      },
      "outputs": [
        {
          "data": {
            "text/plain": [
              "[(1, 3, 5, 7), (2, 4, 6, 8)]"
            ]
          },
          "execution_count": 35,
          "metadata": {},
          "output_type": "execute_result"
        }
      ],
      "source": [
        "# unzip\n",
        "z = [(1, 2), (3, 4), (5, 6), (7, 8)] # Some output of zip() function\n",
        "unzip = lambda z: list(zip(*z))\n",
        "unzip(z)"
      ]
    },
    {
      "cell_type": "markdown",
      "metadata": {
        "id": "MSjLFU5cVsvS"
      },
      "source": [
        "### Sets\n",
        "\n",
        "#### Unordered collection of unique elements."
      ]
    },
    {
      "cell_type": "code",
      "execution_count": null,
      "metadata": {
        "id": "rDN30IgfVsvS"
      },
      "outputs": [],
      "source": [
        "my_set = set()\n",
        "my_set.add(1)  # {1}\n",
        "my_set.add(100)# {1, 100}\n",
        "my_set.add(100)# {1, 100} --> no duplicates!"
      ]
    },
    {
      "cell_type": "code",
      "execution_count": null,
      "metadata": {
        "id": "zvdh0LRcVsvS"
      },
      "outputs": [],
      "source": [
        "new_list = [1,2,3,3,3,4,4,5,6,1]\n",
        "set(new_list)           # {1, 2, 3, 4, 5, 6}\n",
        "\n",
        "my_set.remove(100)      # {1} --> Raises KeyError if element not found\n",
        "my_set.discard(100)     # {1} --> Doesn't raise an error if element not found\n",
        "my_set.clear()          # {}\n",
        "new_set = {1,2,3}.copy()# {1,2,3}"
      ]
    },
    {
      "cell_type": "code",
      "execution_count": null,
      "metadata": {
        "id": "gxiMUi4OVsvS",
        "outputId": "9e80e1d7-c08a-4287-a7e6-7a6f838e5207"
      },
      "outputs": [
        {
          "data": {
            "text/plain": [
              "False"
            ]
          },
          "execution_count": 38,
          "metadata": {},
          "output_type": "execute_result"
        }
      ],
      "source": [
        "set1 = {1,2,3}\n",
        "set2 = {3,4,5}\n",
        "set3 = set1.union(set2)               # {1,2,3,4,5}\n",
        "set4 = set1.intersection(set2)        # {3}\n",
        "set5 = set1.difference(set2)          # {1, 2}\n",
        "set6 = set1.symmetric_difference(set2)# {1, 2, 4, 5}\n",
        "set1.issubset(set2)                   # False\n",
        "set1.issuperset(set2)                 # False\n",
        "set1.isdisjoint(set2)                 # False --> return True if two sets have a null intersection."
      ]
    },
    {
      "cell_type": "raw",
      "metadata": {
        "id": "M-ZHIMPYVsvT"
      },
      "source": [
        "# Comparison Operators\n",
        "==                   # equal values\n",
        "!=                   # not equal\n",
        ">                    # left operand is greater than right operand\n",
        "<                    # left operand is less than right operand\n",
        ">=                   # left operand is greater than or equal to right operand\n",
        "<=                   # left operand is less than or equal to right operand\n",
        "<element> is <element> # check if two operands refer to same object in memory"
      ]
    },
    {
      "cell_type": "raw",
      "metadata": {
        "id": "ppdusUGaVsvT"
      },
      "source": [
        "# Logical Operators\n",
        "1 < 2 and 4 > 1 # True\n",
        "1 > 3 or 4 > 1  # True\n",
        "1 is not 4      # True\n",
        "not True        # False\n",
        "1 not in [2,3,4]# True\n",
        "\n",
        "if <condition that evaluates to boolean>:\n",
        "  # perform action1\n",
        "elif <condition that evaluates to boolean>:\n",
        "  # perform action2\n",
        "else:\n",
        "  # perform action3"
      ]
    },
    {
      "cell_type": "code",
      "execution_count": null,
      "metadata": {
        "id": "aNHisLs7VsvT",
        "outputId": "c73756df-9279-4ff2-8ad2-77caf220e066"
      },
      "outputs": [
        {
          "name": "stdout",
          "output_type": "stream",
          "text": [
            "1\n",
            "2\n",
            "3\n",
            "1\n",
            "2\n",
            "3\n",
            "(1, 2)\n",
            "(3, 4)\n",
            "(5, 6)\n",
            "1\n",
            "2\n",
            "3\n",
            "0\n",
            "1\n",
            "1\n",
            "2\n",
            "2\n",
            "3\n",
            "a\n",
            "1\n",
            "b\n",
            "2\n",
            "c\n",
            "3\n",
            "0\n",
            "1\n",
            "2\n",
            "3\n",
            "4\n"
          ]
        }
      ],
      "source": [
        "# Loops\n",
        "my_list = [1,2,3]\n",
        "my_tuple = (1,2,3)\n",
        "my_list2 = [(1,2), (3,4), (5,6)]\n",
        "my_dict = {'a': 1, 'b': 2, 'c': 3}\n",
        "\n",
        "for num in my_list:\n",
        "    print(num) # 1, 2, 3\n",
        "\n",
        "for num in my_tuple:\n",
        "    print(num) # 1, 2, 3\n",
        "\n",
        "for num in my_list2:\n",
        "    print(num) # (1,2), (3,4), (5,6)\n",
        "\n",
        "for num in '123':\n",
        "    print(num) # 1, 2, 3\n",
        "\n",
        "for idx,value in enumerate(my_list):\n",
        "    print(idx) # get the index of the item\n",
        "    print(value) # get the value\n",
        "\n",
        "for k,v in my_dict.items(): # Dictionary Unpacking\n",
        "    print(k) # 'a', 'b', 'c'\n",
        "    print(v) # 1, 2, 3\n",
        "\n",
        "i = 0\n",
        "while i < 5:\n",
        "    print(i)\n",
        "    i = i + 1\n",
        "\n",
        "# while <condition that evaluates to boolean>:\n",
        "  # action\n",
        "  # if <condition that evaluates to boolean>:\n",
        "    # break # break out of while loop\n",
        "  # if <condition that evaluates to boolean>:\n",
        "    # continue # continue to the next line in the block"
      ]
    },
    {
      "cell_type": "code",
      "execution_count": null,
      "metadata": {
        "id": "1Ms1-IkdVsvT",
        "outputId": "740e1a12-869f-4a80-b055-a92a35dd7f72"
      },
      "outputs": [
        {
          "name": "stdin",
          "output_type": "stream",
          "text": [
            "What should I do? w\n"
          ]
        },
        {
          "name": "stdout",
          "output_type": "stream",
          "text": [
            "True\n"
          ]
        },
        {
          "name": "stdin",
          "output_type": "stream",
          "text": [
            "What should I do? quit\n"
          ]
        }
      ],
      "source": [
        "# waiting until user quits with walrus\n",
        "msg = ''\n",
        "while msg := input('What should I do?') != 'quit':\n",
        "    print(msg)"
      ]
    },
    {
      "cell_type": "code",
      "execution_count": null,
      "metadata": {
        "id": "TsEW42IvVsvT",
        "outputId": "6168e6ef-42de-46be-e803-393368a3d6df"
      },
      "outputs": [
        {
          "data": {
            "text/plain": [
              "[0, 2, 4, 6, 8]"
            ]
          },
          "execution_count": 41,
          "metadata": {},
          "output_type": "execute_result"
        }
      ],
      "source": [
        "#Range\n",
        "range(10)          # range(0, 10) --> 0 to 9\n",
        "range(1,10)        # range(1, 10)\n",
        "list(range(0,10,2))# [0, 2, 4, 6, 8]"
      ]
    },
    {
      "cell_type": "code",
      "execution_count": null,
      "metadata": {
        "id": "VFADOKQZVsvU",
        "outputId": "ba88ff91-2588-48e6-bb9e-54f9efd2b9d4"
      },
      "outputs": [
        {
          "data": {
            "text/plain": [
              "[0, 6, 12, 18]"
            ]
          },
          "execution_count": 46,
          "metadata": {},
          "output_type": "execute_result"
        }
      ],
      "source": [
        "asd = [i for i in range(21)]\n",
        "asd[::6]"
      ]
    },
    {
      "cell_type": "code",
      "execution_count": null,
      "metadata": {
        "id": "5xcv7MvIVsvU",
        "outputId": "6b6f4271-b60a-4459-fb15-d743706592d5"
      },
      "outputs": [
        {
          "name": "stdout",
          "output_type": "stream",
          "text": [
            "0, h\n",
            "1, e\n",
            "2, l\n",
            "3, l\n",
            "4, o\n",
            "5, o\n"
          ]
        }
      ],
      "source": [
        "#Enumerate\n",
        "for i, el in enumerate('helloo'):\n",
        "    print(f'{i}, {el}')\n",
        "# 0, h\n",
        "# 1, e\n",
        "# 2, l\n",
        "# 3, l\n",
        "# 4, o\n",
        "# 5, o"
      ]
    },
    {
      "cell_type": "code",
      "execution_count": null,
      "metadata": {
        "id": "26FWfEsCVsvU",
        "outputId": "6ee14307-1f8f-4225-e61d-f67274d39873"
      },
      "outputs": [
        {
          "data": {
            "text/plain": [
              "('blue', 3)"
            ]
          },
          "execution_count": 48,
          "metadata": {},
          "output_type": "execute_result"
        }
      ],
      "source": [
        "#Counter\n",
        "from collections import Counter\n",
        "colors = ['red', 'blue', 'yellow', 'blue', 'red', 'blue']\n",
        "counter = Counter(colors)# Counter({'blue': 3, 'red': 2, 'yellow': 1})\n",
        "counter.most_common()[0] # ('blue', 3)"
      ]
    },
    {
      "cell_type": "markdown",
      "metadata": {
        "id": "lgjDafygVsvU"
      },
      "source": [
        "### Named Tuple\n",
        "\n",
        "#### * Tuple is an immutable and hashable list.\n",
        "#### * Named tuple is its subclass with named elements."
      ]
    },
    {
      "cell_type": "code",
      "execution_count": null,
      "metadata": {
        "id": "uSO_IiWDVsvU",
        "outputId": "3bb17388-bbc8-4bdf-814e-fc713b652574"
      },
      "outputs": [
        {
          "data": {
            "text/plain": [
              "('x', 'y')"
            ]
          },
          "execution_count": 49,
          "metadata": {},
          "output_type": "execute_result"
        }
      ],
      "source": [
        "from collections import namedtuple\n",
        "Point = namedtuple('Point', 'x y')\n",
        "p = Point(1, y=2)# Point(x=1, y=2)\n",
        "p[0]             # 1\n",
        "p.x              # 1\n",
        "getattr(p, 'y')  # 2\n",
        "p._fields        # Or: Point._fields #('x', 'y')"
      ]
    },
    {
      "cell_type": "code",
      "execution_count": null,
      "metadata": {
        "id": "gPLyJEILVsvV",
        "outputId": "e49db89f-a89e-4e26-ba07-63eb2feaf41d"
      },
      "outputs": [
        {
          "data": {
            "text/plain": [
              "'187'"
            ]
          },
          "execution_count": 50,
          "metadata": {},
          "output_type": "execute_result"
        }
      ],
      "source": [
        "from collections import namedtuple\n",
        "Person = namedtuple('Person', 'name height')\n",
        "person = Person('Jean-Luc', 187)\n",
        "f'{person.height}'           # '187'\n",
        "'{p.height}'.format(p=person)# '187'"
      ]
    },
    {
      "cell_type": "code",
      "execution_count": null,
      "metadata": {
        "id": "jUsNd1YhVsvV",
        "outputId": "01ba2430-21f1-4b89-9a12-0691a997ead5"
      },
      "outputs": [
        {
          "name": "stdout",
          "output_type": "stream",
          "text": [
            "Tim-->\n",
            "\tpython\n",
            "\tjavascript\n",
            "Sarah-->\n",
            "\tC++\n",
            "Bia-->\n",
            "\tRuby\n",
            "\tPython\n",
            "\tGo\n"
          ]
        }
      ],
      "source": [
        "#OrderedDict\n",
        "\n",
        "#Maintains order of insertion\n",
        "from collections import OrderedDict\n",
        "# Store each person's languages, keeping # track of who responded first.\n",
        "programmers = OrderedDict()\n",
        "programmers['Tim'] = ['python', 'javascript']\n",
        "programmers['Sarah'] = ['C++']\n",
        "programmers['Bia'] = ['Ruby', 'Python', 'Go']\n",
        "\n",
        "for name, langs in programmers.items():\n",
        "    print(name + '-->')\n",
        "    for lang in langs:\n",
        "        print('\\t' + lang)"
      ]
    },
    {
      "cell_type": "markdown",
      "metadata": {
        "id": "HJd7o_RCVsvV"
      },
      "source": [
        "### Functions\n",
        "\n",
        "#### *args and **kwargs\n",
        "\n",
        "#### Splat (*) expands a collection into positional arguments, while splatty-splat (**) expands a dictionary into keyword arguments."
      ]
    },
    {
      "cell_type": "code",
      "execution_count": null,
      "metadata": {
        "id": "CE333056VsvV",
        "outputId": "ef12f461-ba39-4273-f7a9-773816f13ced"
      },
      "outputs": [
        {
          "data": {
            "text/plain": [
              "6"
            ]
          },
          "execution_count": 52,
          "metadata": {},
          "output_type": "execute_result"
        }
      ],
      "source": [
        "args   = (1, 2)\n",
        "kwargs = {'x': 3, 'y': 4, 'z': 5}\n",
        "#some_func(*args, **kwargs) # same as some_func(1, 2, x=3, y=4, z=5)\n",
        "def add(*a):\n",
        "    return sum(a)\n",
        "\n",
        "add(1, 2, 3) # 6"
      ]
    },
    {
      "cell_type": "code",
      "execution_count": null,
      "metadata": {
        "id": "8Hq3tjSbVsvV",
        "outputId": "360bc1f4-8e9e-4d66-bd94-3cc01d0c2630"
      },
      "outputs": [
        {
          "name": "stdout",
          "output_type": "stream",
          "text": [
            "I need a kwargs for myself 1 and eggs\n",
            "(1, 2, 3, 4)\n",
            "{'food': 'eggs', 'fruit': 'apple'}\n"
          ]
        }
      ],
      "source": [
        "def myfunc1(*args, **kwargs):\n",
        "    print('I need a kwargs for myself {a} and {b}'.format(a=args[0],b=kwargs['food']))\n",
        "    print(args)\n",
        "    print(kwargs)\n",
        "myfunc1(1,2,3,4,food='eggs',fruit='apple')"
      ]
    },
    {
      "cell_type": "code",
      "execution_count": null,
      "metadata": {
        "id": "18eZJ5DHVsvV",
        "outputId": "79caa3ed-bd97-4661-a60c-9964f4b9e9ae"
      },
      "outputs": [
        {
          "data": {
            "text/plain": [
              "{'Taraz': 'sunny', 'Shymkent': 'sunny'}"
            ]
          },
          "execution_count": 54,
          "metadata": {},
          "output_type": "execute_result"
        }
      ],
      "source": [
        "# Dictionary Comprehension\n",
        "# create dictionaries using an expression\n",
        "# can replace for loop and certain lambda function\n",
        "#dictionaries = {key: expression for (key,value) in iterable}\n",
        "import math\n",
        "f = { 'N': 32, 'Y' : 56, 'Z':101}\n",
        "c =  {key + '!' : math.floor((value-32) * 5 / 9) for (key,value) in f.items()}\n",
        "c\n",
        "cities_weather = {'NY' : 'snowing', 'Astana': 'cloudy', 'Taraz' : 'sunny', 'Shymkent' : 'sunny'}\n",
        "sunny_cities = {key : value for (key,value) in cities_weather.items() if value == 'sunny'}\n",
        "sunny_cities"
      ]
    },
    {
      "cell_type": "code",
      "execution_count": null,
      "metadata": {
        "id": "UjqDHts3VsvW",
        "outputId": "773d6093-4317-4905-97a4-551aec1d6773"
      },
      "outputs": [
        {
          "data": {
            "text/plain": [
              "['zero', 1, 'zero', 3]"
            ]
          },
          "execution_count": 55,
          "metadata": {},
          "output_type": "execute_result"
        }
      ],
      "source": [
        "#Ternary Condition\n",
        "\n",
        "# <expression_if_true> if <condition> else <expression_if_false>\n",
        "\n",
        "[a if a else 'zero' for a in [0, 1, 0, 3]] # ['zero', 1, 'zero', 3]"
      ]
    },
    {
      "cell_type": "code",
      "execution_count": null,
      "metadata": {
        "id": "XIT9mtA7VsvW",
        "outputId": "0151e63c-cafa-498d-fb8c-275a73f9b81c"
      },
      "outputs": [
        {
          "name": "stdout",
          "output_type": "stream",
          "text": [
            "55\n",
            "6\n"
          ]
        }
      ],
      "source": [
        "#Lambda\n",
        "#lambda = function written in 1 line of code\n",
        "# lambda parameters: expression\n",
        "# Fibonacci\n",
        "fib = lambda n : n if n <= 1 else fib(n-1) + fib(n-2)\n",
        "result = fib(10)\n",
        "print(result) #55\n",
        "\n",
        "# Factorial\n",
        "from functools import reduce\n",
        "\n",
        "n = 3\n",
        "factorial = reduce(lambda x, y: x*y, range(1, n+1))\n",
        "print(factorial) #6"
      ]
    },
    {
      "cell_type": "code",
      "execution_count": null,
      "metadata": {
        "id": "BSncX4hAVsvW",
        "outputId": "184e671f-ebbf-4861-dd6c-0462c36b492e"
      },
      "outputs": [
        {
          "name": "stdout",
          "output_type": "stream",
          "text": [
            "You did something wrong\n",
            "Wow wow\n",
            "No division by zero!\n"
          ]
        },
        {
          "name": "stdin",
          "output_type": "stream",
          "text": [
            "Enter your age:  3\n"
          ]
        },
        {
          "name": "stdout",
          "output_type": "stream",
          "text": [
            "Carry on!\n",
            "oops\n",
            "All done!\n"
          ]
        }
      ],
      "source": [
        "# Error Handling\n",
        "#Exceptions\n",
        "try:\n",
        "    print(1/0)\n",
        "except ZeroDivisionError:\n",
        "    print('You did something wrong')\n",
        "except Exception as e:\n",
        "    raise e\n",
        "\n",
        "try:\n",
        "    print(asdasd)\n",
        "except NameError:\n",
        "    print('Wow wow')\n",
        "try:\n",
        "    a = 5/0\n",
        "except ZeroDivisionError:\n",
        "    print(\"No division by zero!\")\n",
        "while True:\n",
        "    try:\n",
        "        x = int(input('Enter your age: '))\n",
        "    except ValueError:\n",
        "        print('Oops!  That was no valid number.  Try again...')\n",
        "    else: # code that depends on the try block running successfully should be placed in the else block.\n",
        "        print('Carry on!')\n",
        "    break\n",
        "try:\n",
        "    raise KeyboardInterrupt\n",
        "except:\n",
        "    print('oops')\n",
        "finally:\n",
        "    print('All done!')"
      ]
    },
    {
      "cell_type": "code",
      "execution_count": null,
      "metadata": {
        "id": "6DTcUMs3VsvW",
        "outputId": "5be69973-010f-45b8-92db-71b99a34565c"
      },
      "outputs": [
        {
          "data": {
            "text/plain": [
              "45"
            ]
          },
          "execution_count": 59,
          "metadata": {},
          "output_type": "execute_result"
        }
      ],
      "source": [
        "#Map Filter Reduce\n",
        "list(map(lambda x: x * 2, [1,2,3,4]))            # [2,4,6,8]\n",
        "from functools import reduce\n",
        "list(map(lambda x: x + 1, range(10)))            # [1, 2, 3, 4, 5, 6, 7, 8, 9,10]\n",
        "list(filter(lambda x: x > 5, range(10)))         # (6, 7, 8, 9)\n",
        "reduce(lambda acc, x: acc + x, range(10))        # 45"
      ]
    },
    {
      "cell_type": "code",
      "execution_count": null,
      "metadata": {
        "id": "cqDV0bijVsvW",
        "outputId": "c0247d00-0b71-44c6-b310-0ccbd21160d0"
      },
      "outputs": [
        {
          "data": {
            "text/plain": [
              "30"
            ]
          },
          "execution_count": 60,
          "metadata": {},
          "output_type": "execute_result"
        }
      ],
      "source": [
        "#Closures\n",
        "\n",
        "#We have a closure in Python when:\n",
        "\n",
        "#A nested function references a value of its enclosing function and then\n",
        "#the enclosing function returns the nested function.\n",
        "def get_multiplier(a):\n",
        "    def out(b):\n",
        "        return a * b\n",
        "    return out\n",
        "multiply_by_3 = get_multiplier(3)\n",
        "multiply_by_3(10)\n",
        "\n",
        "#If multiple nested functions within enclosing function reference the same value, that value gets shared.\n",
        "#To dynamically access function's first free variable use '<function>.__closure__[0].cell_contents'."
      ]
    },
    {
      "cell_type": "code",
      "execution_count": null,
      "metadata": {
        "id": "V6fnyPqiVsvW",
        "outputId": "539a569a-07bd-4100-e0fa-d5d2f0d2ad9d"
      },
      "outputs": [
        {
          "data": {
            "text/plain": [
              "(1, 2, 3)"
            ]
          },
          "execution_count": 61,
          "metadata": {},
          "output_type": "execute_result"
        }
      ],
      "source": [
        "#Scope\n",
        "\n",
        "#If variable is being assigned to anywhere in the scope, it is regarded as a local variable, unless it is declared as a 'global' or a 'nonlocal'.\n",
        "\n",
        "def get_counter():\n",
        "    i = 0\n",
        "    def out():\n",
        "        nonlocal i\n",
        "        i += 1\n",
        "        return i\n",
        "    return out\n",
        "counter = get_counter()\n",
        "counter(), counter(), counter()"
      ]
    },
    {
      "cell_type": "code",
      "execution_count": null,
      "metadata": {
        "id": "EBVdchDDVsvX",
        "outputId": "2f4f0fda-c618-438a-d95f-6eef23b32c79"
      },
      "outputs": [
        {
          "name": "stdout",
          "output_type": "stream",
          "text": [
            "ASD\n"
          ]
        }
      ],
      "source": [
        "#Modules\n",
        "def main():\n",
        "    print('ASD')\n",
        "if __name__ == '__main__': # Runs main() if file wasn't imported.\n",
        "    main()"
      ]
    },
    {
      "cell_type": "code",
      "execution_count": null,
      "metadata": {
        "id": "W1_3MXFMVsvX",
        "outputId": "c07ed128-66f6-4451-c65f-9b4d87bbb295"
      },
      "outputs": [
        {
          "data": {
            "text/plain": [
              "(10, 12, 14)"
            ]
          },
          "execution_count": 63,
          "metadata": {},
          "output_type": "execute_result"
        }
      ],
      "source": [
        "#Generators\n",
        "\n",
        "#Convenient way to implement the iterator protocol.\n",
        "\n",
        "def count(start, step):\n",
        "    while True:\n",
        "        yield start\n",
        "        start += step\n",
        "\n",
        "counter = count(10, 2)\n",
        "next(counter), next(counter), next(counter)"
      ]
    },
    {
      "cell_type": "code",
      "execution_count": null,
      "metadata": {
        "id": "ubd2WKZLVsvX",
        "outputId": "57b59da7-2aeb-4749-c729-57cb22c119cc"
      },
      "outputs": [
        {
          "name": "stdout",
          "output_type": "stream",
          "text": [
            "Not Found\n",
            "Not Found\n",
            "Not Found\n",
            "Not Found\n",
            "Not Found\n",
            "Not Found\n",
            "Not Found\n",
            "Not Found\n",
            "Found\n"
          ]
        }
      ],
      "source": [
        "# Generator by Myself\n",
        "\n",
        "def listCheckGenerator(num):\n",
        "    listCheck = [4,4324,235,23,4,32,23,5,234,25,3,235,23,52,3234,523,21,34,23,52,35]\n",
        "    for i in listCheck:\n",
        "        yield i == num\n",
        "\n",
        "listCheck = listCheckGenerator(234)\n",
        "while True:\n",
        "    if next(listCheck):\n",
        "        print('Found')\n",
        "        break\n",
        "    else:\n",
        "        print('Not Found')"
      ]
    },
    {
      "cell_type": "code",
      "execution_count": null,
      "metadata": {
        "id": "bhpMIAe5VsvX",
        "outputId": "e205286c-b2dd-4e6b-e183-ca0131bce07e"
      },
      "outputs": [
        {
          "name": "stdout",
          "output_type": "stream",
          "text": [
            "0\n",
            "1\n",
            "1\n",
            "2\n"
          ]
        }
      ],
      "source": [
        "# Fibonacci numbers in generators\n",
        "# lets create generator for fibonacci\n",
        "\n",
        "def fibonacci():\n",
        "    i = 0\n",
        "    n = 1\n",
        "    while True:\n",
        "        yield i\n",
        "        m = n\n",
        "        n = n + i\n",
        "        i = m\n",
        "\n",
        "fib = fibonacci()\n",
        "print(next(fib))\n",
        "print(next(fib))\n",
        "print(next(fib))\n",
        "print(next(fib))"
      ]
    },
    {
      "cell_type": "code",
      "execution_count": null,
      "metadata": {
        "id": "RQINjxCyVsvX",
        "outputId": "4af520e1-29ab-4d6c-dfab-71c0a8f373f7"
      },
      "outputs": [
        {
          "name": "stdout",
          "output_type": "stream",
          "text": [
            "333333283333335000000\n",
            "Took: 0.747891902923584 ms\n"
          ]
        }
      ],
      "source": [
        "#Decorators\n",
        "\n",
        "#A decorator takes a function, adds some functionality and returns it.\n",
        "\n",
        "#def function_that_gets_passed_to_decorator():\n",
        "#    pass\n",
        "#Example Decorator: timing performance using a decorator.\n",
        "\n",
        "#The functools decorator @functools.wraps is used to maintain function naming and documentation of the function within the decorator.\n",
        "from time import time\n",
        "import functools\n",
        "\n",
        "def performance(func):\n",
        "    def wrapper(*args, **kwargs):\n",
        "        t1 = time()\n",
        "        result = func(*args, **kwargs)\n",
        "        t2 = time()\n",
        "        print(f\"Took: {t2 - t1} ms\")\n",
        "        return result\n",
        "    return wrapper\n",
        "\n",
        "# calling a function with the decorator\n",
        "@performance\n",
        "def long_time():\n",
        "    print(sum(i*i for i in range(10000000)))\n",
        "\n",
        "long_time()"
      ]
    },
    {
      "cell_type": "code",
      "execution_count": null,
      "metadata": {
        "id": "xTfPYd8NVsvX",
        "outputId": "583c206c-9d8f-40af-b4b5-6b64c2f0edd1"
      },
      "outputs": [
        {
          "data": {
            "text/plain": [
              "True"
            ]
          },
          "execution_count": 71,
          "metadata": {},
          "output_type": "execute_result"
        }
      ],
      "source": [
        "user1 = {\n",
        "    'name': 'Sorna',\n",
        "    'valid': True #changing this will either run or not run the message_friends function.\n",
        "}\n",
        "user1.get('name')\n",
        "user1.get('valid')"
      ]
    },
    {
      "cell_type": "code",
      "execution_count": null,
      "metadata": {
        "id": "vXTKWjwYVsvY",
        "outputId": "4818a116-0da0-4d79-ca02-db92f9a4bac7"
      },
      "outputs": [
        {
          "name": "stdout",
          "output_type": "stream",
          "text": [
            "Start checking in user list\n"
          ]
        }
      ],
      "source": [
        "# Create an @authenticated decorator that only allows the function to run is user1 has 'valid' set to True:\n",
        "user1 = {\n",
        "    'name': 'Sorna',\n",
        "    'valid': False #changing this will either run or not run the message_friends function.\n",
        "}\n",
        "\n",
        "def authenticated(fn):\n",
        "    def check_user(*args,**kwargs):\n",
        "        print('Start checking in user list')\n",
        "        if args[0].get('valid'):\n",
        "            print('Auth pass')\n",
        "            return fn(*args,**kwargs)\n",
        "    return check_user\n",
        "\n",
        "@authenticated\n",
        "def message_friends(user):\n",
        "    print('message has been sent')\n",
        "\n",
        "message_friends(user1)"
      ]
    },
    {
      "cell_type": "code",
      "execution_count": null,
      "metadata": {
        "id": "EqaEdo6SVsvY",
        "outputId": "7cf283bb-ba6f-4760-e803-0c23637b7d1b"
      },
      "outputs": [
        {
          "name": "stdout",
          "output_type": "stream",
          "text": [
            "[]\n",
            "Spain\n"
          ]
        },
        {
          "data": {
            "text/plain": [
              "<re.Match object; span=(0, 17), match='hello@192.168.0.1'>"
            ]
          },
          "execution_count": 73,
          "metadata": {},
          "output_type": "execute_result"
        }
      ],
      "source": [
        "# Regular Expressions\n",
        "# regex101.com\n",
        "import re\n",
        "search = re.compile(r\"[A-Z]\")\n",
        "\n",
        "import re\n",
        "\n",
        "txt = \"The rain in Spain\"\n",
        "x = re.findall(\"Portugal\", txt)\n",
        "print(x)\n",
        "\n",
        "txt = \"The rain in Spain\"\n",
        "x = re.search(r\"\\bS\\w+\", txt)\n",
        "print(x.group())\n",
        "\n",
        "pattern = r\"^[a-z0-9!#$%&'*+/=?^_`{|}~-]+(?:\\.[a-z0-9!#$%&'*+/=?^_`{|}~-]+)*@(?:[a-z0-9](?:[a-z0-9-]*[a-z0-9])?\\.)+[a-z0-9](?:[a-z0-9-]*[a-z0-9])?$\"\n",
        "re.search(pattern, 'hello@uibakery.io.') # Returns None\n",
        "re.search(pattern, 'hello@192.168.0.1') # Returns <re.Match object; span=(0, 17), match='hello@192.168.0.1'>"
      ]
    },
    {
      "cell_type": "code",
      "execution_count": null,
      "metadata": {
        "id": "q8ppovovVsvY",
        "outputId": "69d58d3b-0441-4e3b-c3c6-a1d8aa242032"
      },
      "outputs": [
        {
          "ename": "ModuleNotFoundError",
          "evalue": "No module named 'main'",
          "output_type": "error",
          "traceback": [
            "\u001b[0;31m---------------------------------------------------------------------------\u001b[0m",
            "\u001b[0;31mModuleNotFoundError\u001b[0m                       Traceback (most recent call last)",
            "\u001b[0;32m/var/folders/d9/4p0nby3n6xx82h_3151pqhk00000gn/T/ipykernel_11153/2253161233.py\u001b[0m in \u001b[0;36m<module>\u001b[0;34m\u001b[0m\n\u001b[1;32m      2\u001b[0m \u001b[0;31m# for becoming a senior developer\u001b[0m\u001b[0;34m\u001b[0m\u001b[0;34m\u001b[0m\u001b[0m\n\u001b[1;32m      3\u001b[0m \u001b[0;32mimport\u001b[0m \u001b[0munittest\u001b[0m\u001b[0;34m\u001b[0m\u001b[0;34m\u001b[0m\u001b[0m\n\u001b[0;32m----> 4\u001b[0;31m \u001b[0;32mimport\u001b[0m \u001b[0mmain\u001b[0m \u001b[0;31m# main is a python file that contains one def\u001b[0m\u001b[0;34m\u001b[0m\u001b[0;34m\u001b[0m\u001b[0m\n\u001b[0m\u001b[1;32m      5\u001b[0m \u001b[0;34m\u001b[0m\u001b[0m\n\u001b[1;32m      6\u001b[0m \u001b[0;32mclass\u001b[0m \u001b[0mTestMain\u001b[0m\u001b[0;34m(\u001b[0m\u001b[0munittest\u001b[0m\u001b[0;34m.\u001b[0m\u001b[0mTestCase\u001b[0m\u001b[0;34m)\u001b[0m\u001b[0;34m:\u001b[0m\u001b[0;34m\u001b[0m\u001b[0;34m\u001b[0m\u001b[0m\n",
            "\u001b[0;31mModuleNotFoundError\u001b[0m: No module named 'main'"
          ]
        }
      ],
      "source": [
        "# Unit testing\n",
        "# for becoming a senior developer\n",
        "import unittest\n",
        "import main # main is a python file that contains one def\n",
        "\n",
        "class TestMain(unittest.TestCase):\n",
        "    def setUp(self):\n",
        "        print('ASDASD ASD ASD ASRSDFSD')\n",
        "    def test_to_do(self):\n",
        "        test_param = 10\n",
        "        result = main.add5(test_param)\n",
        "        self.assertEqual(result,15)\n",
        "    def test_to_do2(self):\n",
        "        test_param = 'asdasd'\n",
        "        result = main.add5(test_param)\n",
        "        self.assertIsInstance(result,ValueError)\n",
        "    def test_to_do3(self):\n",
        "        test_param = None\n",
        "        result = main.add5(test_param)\n",
        "        self.assertEqual(result,'please enter the number')\n",
        "    def test_to_do4(self):\n",
        "        test_param = ''\n",
        "        result = main.add5(test_param)\n",
        "        self.assertEqual(result,'please enter the number')\n",
        "if __name__ == '__main__':\n",
        "    unittest.main()\n",
        "#python -m unittest"
      ]
    },
    {
      "cell_type": "code",
      "execution_count": null,
      "metadata": {
        "id": "C9Arc5QcVsvY",
        "outputId": "6de9eca4-93e0-4221-ab7d-db110bb1d5a5"
      },
      "outputs": [
        {
          "name": "stdout",
          "output_type": "stream",
          "text": [
            "run\n",
            "Name:Anas, age:45\n",
            "10227.0\n",
            "Name:Tom Brady, age:45\n"
          ]
        }
      ],
      "source": [
        "import os\n",
        "import sys\n",
        "\n",
        "\n",
        "def comeAndGetIt():\n",
        "    print('False god')\n",
        "\n",
        "\n",
        "class Player:\n",
        "    def __init__(self, name, age) -> None:\n",
        "        self.name = name\n",
        "        self.age = age\n",
        "\n",
        "    def attack(self):  # Instance Methods\n",
        "        print('run')\n",
        "\n",
        "    def __repr__(self) -> str:  # Dunder or Magic Methods\n",
        "        return 'Name:' + self.name + ', age:' + str(self.age)\n",
        "\n",
        "    @staticmethod\n",
        "    def ageInDAys(num1) -> int: # static method -> called by Player.ageInDAys\n",
        "        return num1 * 365.25\n",
        "\n",
        "    @staticmethod\n",
        "    def example_function():\n",
        "        print('I\\'m a static method!')\n",
        "\n",
        "    @classmethod\n",
        "    # Class Methods: Can access limited methods in the class. Can modify class specific details.\n",
        "    def killIt(cls) -> object:\n",
        "        return cls('Tom Brady', 45)\n",
        "\n",
        "\n",
        "if __name__ == '__main__':\n",
        "    player1 = Player('Deni', 32)\n",
        "    player2 = Player('Anas', 45)\n",
        "    player1.attack()\n",
        "    print(player2)\n",
        "    print(Player.ageInDAys(28))\n",
        "    player3 = Player.killIt()\n",
        "    print(player3)"
      ]
    },
    {
      "cell_type": "code",
      "execution_count": null,
      "metadata": {
        "id": "dqwfzAVZVsvY"
      },
      "outputs": [],
      "source": [
        "#Debugger Example\n",
        "\n",
        "#Decorator that prints function's name every time it gets called.\n",
        "\n",
        "from functools import wraps\n",
        "\n",
        "def debug(func):\n",
        "    @wraps(func)\n",
        "    def out(*args, **kwargs):\n",
        "        print(func.__name__)\n",
        "        return func(*args, **kwargs)\n",
        "    return out\n",
        "\n",
        "@debug\n",
        "def add(x, y):\n",
        "    return x + y\n",
        "#Wraps is a helper decorator that copies metadata of function add() to function out().\n",
        "#Without it 'add.__name__' would return 'out'."
      ]
    },
    {
      "cell_type": "code",
      "execution_count": null,
      "metadata": {
        "id": "uCQHnPT3VsvY",
        "outputId": "1e653136-207e-4bec-9750-2f6ac6c88892"
      },
      "outputs": [
        {
          "name": "stdout",
          "output_type": "stream",
          "text": [
            "Overwriting myfile.txt\n"
          ]
        }
      ],
      "source": [
        "%%writefile myfile.txt\n",
        "Hello this is a text file\n",
        "THis is the next line\n",
        "asd asdlmfdskfm dfljgsdg sdg\n"
      ]
    },
    {
      "cell_type": "code",
      "execution_count": null,
      "metadata": {
        "id": "nN0KmeoDVsvY",
        "outputId": "8e053b6d-61a5-477a-a0cc-976264ae0b2b"
      },
      "outputs": [
        {
          "data": {
            "text/plain": [
              "'Hello this is a text file\\nTHis is the next line \\nasd asdlmfdskfm dfljgsdg sdg\\n'"
            ]
          },
          "execution_count": 78,
          "metadata": {},
          "output_type": "execute_result"
        }
      ],
      "source": [
        "myfile = open('myfile.txt')\n",
        "with open('myfile.txt','r',encoding='utf-8') as myfile:\n",
        "    read_file = myfile.read()\n",
        "read_file"
      ]
    },
    {
      "cell_type": "code",
      "execution_count": null,
      "metadata": {
        "id": "Y8Fquh8BVsvZ"
      },
      "outputs": [],
      "source": [
        "with open('myfile.txt', mode='a',encoding='utf-8') as f:\n",
        "    f.write('Malikanakrarerere\\n')"
      ]
    },
    {
      "cell_type": "code",
      "execution_count": null,
      "metadata": {
        "id": "N7eeqG_rVsvZ"
      },
      "outputs": [],
      "source": [
        "#CSV\n",
        "\n",
        "import csv\n",
        "#Read Rows from CSV File\n",
        "\n",
        "def read_csv_file(filename):\n",
        "    with open(filename, encoding='utf-8') as file:\n",
        "        return csv.reader(file, delimiter=';')\n",
        "#Write Rows to CSV File\n",
        "\n",
        "def write_to_csv_file(filename, rows):\n",
        "    with open(filename, 'w', encoding='utf-8') as file:\n",
        "        writer = csv.writer(file, delimiter=';')\n",
        "        writer.writerows(rows)"
      ]
    },
    {
      "cell_type": "code",
      "execution_count": null,
      "metadata": {
        "id": "59p_PpGPVsvZ"
      },
      "outputs": [],
      "source": [
        "#Pickle\n",
        "\n",
        "import pickle\n",
        "#<bytes>  = pickle.dumps(<object>)\n",
        "#<object> = pickle.loads(<bytes>)\n",
        "#Read Object from File\n",
        "\n",
        "def read_pickle_file(filename):\n",
        "    with open(filename, 'rb') as file:\n",
        "        return pickle.load(file)\n",
        "#Write Object to File\n",
        "\n",
        "def write_to_pickle_file(filename, an_object):\n",
        "    with open(filename, 'wb') as file:\n",
        "        pickle.dump(an_object, file)"
      ]
    },
    {
      "cell_type": "code",
      "execution_count": null,
      "metadata": {
        "id": "gzAkElqcVsvZ",
        "outputId": "a570e3a0-2687-4b3e-ca9f-ab2943b80b31"
      },
      "outputs": [
        {
          "name": "stdout",
          "output_type": "stream",
          "text": [
            "Book: Book 1, Quantity: 12, Author: Author 1, Price: 120\n",
            "Book: Book 2, Quantity: 18, Author: Author 2, Price: 220\n",
            "Book: Book 3, Quantity: 28, Author: Author 3, Price: 320\n"
          ]
        }
      ],
      "source": [
        "#OOP\n",
        "class Book:\n",
        "    def __init__(self, title, quantity, author, price):\n",
        "        self.title = title\n",
        "        self.quantity = quantity\n",
        "        self.author = author\n",
        "        self.price = price\n",
        "\n",
        "    def __repr__(self):\n",
        "        return f\"Book: {self.title}, Quantity: {self.quantity}, Author: {self.author}, Price: {self.price}\"\n",
        "\n",
        "\n",
        "book1 = Book('Book 1', 12, 'Author 1', 120)\n",
        "book2 = Book('Book 2', 18, 'Author 2', 220)\n",
        "book3 = Book('Book 3', 28, 'Author 3', 320)\n",
        "\n",
        "print(book1)\n",
        "print(book2)\n",
        "print(book3)"
      ]
    },
    {
      "cell_type": "code",
      "execution_count": null,
      "metadata": {
        "id": "EBwPiTKcVsvZ",
        "outputId": "b84d3608-e6fd-40c7-ee7c-62d83797ee10"
      },
      "outputs": [
        {
          "data": {
            "text/plain": [
              "1234"
            ]
          },
          "execution_count": 83,
          "metadata": {},
          "output_type": "execute_result"
        }
      ],
      "source": [
        "class Cat():\n",
        "    number0 = 1234\n",
        "    def __init__(self,number1,number2,number3):\n",
        "        self.number1 = number1\n",
        "        self.number2 = number2\n",
        "        self.number3 = number3\n",
        "    def meow(self):\n",
        "        print(f\"Meow! My name is {self.number2}\")\n",
        "    def meow1(self,number):\n",
        "        print(f\"Moew! my name is {self.number2} {number}\")\n",
        "    def get(self):\n",
        "        return self.number0\n",
        "\n",
        "a = Cat(number1=\"1\",number2=\"PHN\",number3=1996)\n",
        "a.get()"
      ]
    },
    {
      "cell_type": "code",
      "execution_count": null,
      "metadata": {
        "id": "NsL42DQPVsvZ",
        "outputId": "ba3acd16-927c-495a-8d9d-9af343f92c48"
      },
      "outputs": [
        {
          "name": "stdout",
          "output_type": "stream",
          "text": [
            "Meow! My name is PHN\n"
          ]
        }
      ],
      "source": [
        "a.meow()"
      ]
    },
    {
      "cell_type": "code",
      "execution_count": null,
      "metadata": {
        "id": "ip0NgDuGVsvZ",
        "outputId": "1fe7197f-a805-4970-a96d-2b8def716223"
      },
      "outputs": [
        {
          "name": "stdout",
          "output_type": "stream",
          "text": [
            "Moew! my name is PHN 123\n"
          ]
        }
      ],
      "source": [
        "a.meow1(123)"
      ]
    },
    {
      "cell_type": "code",
      "execution_count": null,
      "metadata": {
        "id": "6OElPHoVVsvZ",
        "outputId": "587b530b-10a4-47ff-d0a9-e97ee0ee1fb0"
      },
      "outputs": [
        {
          "data": {
            "text/plain": [
              "6.28"
            ]
          },
          "execution_count": 86,
          "metadata": {},
          "output_type": "execute_result"
        }
      ],
      "source": [
        "class Circle():\n",
        "    pi = 3.14\n",
        "    def __init__(self,radius = 1):\n",
        "        self.radius = radius\n",
        "        self.area = radius * radius * Circle.pi\n",
        "    def getCircumference(self):\n",
        "        return self.radius * Circle.pi *2\n",
        "a = Circle()\n",
        "a.getCircumference()"
      ]
    },
    {
      "cell_type": "code",
      "execution_count": null,
      "metadata": {
        "id": "Xa639PZbVsva",
        "outputId": "299ba4be-4d3a-48c7-ef42-9c20a91d9da7"
      },
      "outputs": [
        {
          "name": "stdout",
          "output_type": "stream",
          "text": [
            "200\n",
            "160.0\n",
            "Book: Two States, Quantity: 1, Author: Chetan Bhagat, Price: 200\n",
            "Book: Two States, Quantity: 25, Author: Chetan Bhagat, Price: 160.0\n",
            "True\n"
          ]
        }
      ],
      "source": [
        "# Encapsulation is the process of preventing clients from accessing certain properties,\n",
        "# which can only be accessed through specific methods.\n",
        "#Let's introduce a private attribute called __discount in the Book class\n",
        "\n",
        "class Book:\n",
        "    def __init__(self, title, quantity, author, price):\n",
        "        self.title = title\n",
        "        self.quantity = quantity\n",
        "        self.author = author\n",
        "        self.__price = price\n",
        "        self.__discount = None\n",
        "\n",
        "    def set_discount(self, discount):\n",
        "        self.__discount = discount\n",
        "\n",
        "    def get_price(self):\n",
        "        if self.__discount:\n",
        "            return self.__price * (1-self.__discount)\n",
        "        return self.__price\n",
        "\n",
        "    def __get(self):\n",
        "        return 1\n",
        "\n",
        "    def get(self):\n",
        "        return self.__get() + 3\n",
        "\n",
        "    def __repr__(self):\n",
        "        return f\"Book: {self.title}, Quantity: {self.quantity}, Author: {self.author}, Price: {self.get_price()}\"\n",
        "\n",
        "\n",
        "single_book = Book('Two States', 1, 'Chetan Bhagat', 200)\n",
        "\n",
        "bulk_books = Book('Two States', 25, 'Chetan Bhagat', 200)\n",
        "bulk_books.set_discount(0.20)\n",
        "\n",
        "print(single_book.get_price())\n",
        "print(bulk_books.get_price())\n",
        "print(single_book)\n",
        "print(bulk_books)\n",
        "print(isinstance(single_book,Book))"
      ]
    },
    {
      "cell_type": "code",
      "execution_count": null,
      "metadata": {
        "id": "jl8goH0QVsva",
        "outputId": "d1d0d440-4a8c-4994-fc2b-65d62d742ccd"
      },
      "outputs": [
        {
          "name": "stdout",
          "output_type": "stream",
          "text": [
            "You've made me a human\n",
            "I love hurting someone\n",
            "You've made me a human\n",
            "You've made me a Kipchak.\n",
            "You've made me a Kazakh.\n",
            "I love hurting someone\n",
            "I speak some languages\n",
            "Playing Dombra\n",
            "Saying Kipchak\n",
            "(<class '__main__.Kazakh'>, <class '__main__.Human'>, <class '__main__.Kipchak'>, <class 'object'>)\n"
          ]
        }
      ],
      "source": [
        "#Inheritance is regarded as the most significant characteristics of OOP.\n",
        "#A class's ability to inherit methods and/or characteristics from another class is known as inheritance.\n",
        "#The subclass or child class is the class that inherits.\n",
        "#The superclass or parent class is the class from which methods and/or attributes are inherited.\n",
        "class Human():\n",
        "    def __init__(self):\n",
        "        print(\"You've made me a human\")\n",
        "    def hurtSomeone(self):\n",
        "        print(\"I love hurting someone\")\n",
        "    def speak(self):\n",
        "        print(\"I speak some languages\")\n",
        "    def feelSorry(self):\n",
        "        print(\"I feel so sorry, my boy!\")\n",
        "a = Human()\n",
        "a.hurtSomeone()\n",
        "\n",
        "# Inheritence\n",
        "class Kipchak():\n",
        "    def __init__(self):\n",
        "        super().__init__()\n",
        "        print(\"You've made me a Kipchak.\")\n",
        "    def sayKipchak(self):\n",
        "        print('Saying Kipchak')\n",
        "\n",
        "\n",
        "# Inheritence\n",
        "class Kazakh(Human,Kipchak):\n",
        "    def __init__(self):\n",
        "        Human.__init__(self)\n",
        "        Kipchak.__init__(self)\n",
        "        print(\"You've made me a Kazakh.\")\n",
        "    def playDombra(self):\n",
        "        print('Playing Dombra')\n",
        "\n",
        "k = Kazakh()\n",
        "k.hurtSomeone()\n",
        "k.speak()\n",
        "k.playDombra()\n",
        "k.sayKipchak()\n",
        "print(Kazakh.__mro__)\n",
        "\n",
        "import math\n",
        "class Shape:\n",
        "    def __init__(self, color):\n",
        "        self.__color = color\n",
        "    def get_color(self):\n",
        "        return self.__color\n",
        "    def set_color(self, color):\n",
        "        self.__color = color\n",
        "\n",
        "class Rectangle(Shape):\n",
        "    def __init__(self, color, length):\n",
        "        super().__init__(color)\n",
        "        self.__length = length\n",
        "    def get_length(self):\n",
        "        return self.__length\n",
        "    def set_length(self, length):\n",
        "        self.__length = length\n",
        ""
      ]
    },
    {
      "cell_type": "code",
      "execution_count": null,
      "metadata": {
        "id": "JOTPEaofVsva",
        "outputId": "60d6c6fc-2bf0-45a0-eaa2-ca72a5d5ced0"
      },
      "outputs": [
        {
          "name": "stdout",
          "output_type": "stream",
          "text": [
            "Mike Bark!Bark!\n",
            "India Meow!Meow!\n"
          ]
        }
      ],
      "source": [
        "# Polymorphism\n",
        "\n",
        "#The term 'polymorphism' comes from the Greek language and means 'something that takes on multiple forms.'\n",
        "\n",
        "#Polymorphism refers to a subclass's ability to adapt a method that already exists\n",
        "#in its superclass to meet its needs.\n",
        "#To put it another way, a subclass can use a method from its superclass as is or modify it as needed.\n",
        "class Animal():\n",
        "    def __init__(self,name):\n",
        "        self.name = name\n",
        "    def speak(self):\n",
        "        raise NotImplementedError(\"You have to add it!\")\n",
        "\n",
        "class Dog(Animal):\n",
        "    def speak(self):\n",
        "        print(self.name + \" Bark!Bark!\")\n",
        "\n",
        "class Cat(Animal):\n",
        "    def speak(self):\n",
        "        print(self.name + \" Meow!Meow!\")\n",
        "\n",
        "a = Dog(\"Mike\")\n",
        "a.speak()\n",
        "a = Cat(\"India\")\n",
        "a.speak()\n",
        "\n"
      ]
    },
    {
      "cell_type": "code",
      "execution_count": null,
      "metadata": {
        "tags": [],
        "id": "tqRQvyoUVsva",
        "outputId": "3b70cbea-ca15-4f0f-903e-5e2141678d19"
      },
      "outputs": [
        {
          "name": "stdout",
          "output_type": "stream",
          "text": [
            "Novel Book Name : To kill a mockingbird\n"
          ]
        }
      ],
      "source": [
        "#Abstraction isn't supported directly in Python.\n",
        "#Calling a magic method, on the other hand, allows for abstraction.\n",
        "\n",
        "#If an abstract method is declared in a superclass, subclasses that inherit from the superclass\n",
        "#must have their own implementation of the method.\n",
        "\n",
        "from abc import ABC, abstractmethod\n",
        "\n",
        "class Book(ABC):\n",
        "    def __init__(self, title):\n",
        "        self.title = title\n",
        "\n",
        "    @abstractmethod\n",
        "    def __repr__(self):\n",
        "        pass\n",
        "\n",
        "\n",
        "class Novel(Book):\n",
        "    def __init__(self, title):\n",
        "        super().__init__(title)\n",
        "        self.isNovel = True\n",
        "    def __repr__(self):\n",
        "        return f'Novel Book Name : {self.title}'\n",
        "\n",
        "a = Novel('To kill a mockingbird')\n",
        "print(a)"
      ]
    },
    {
      "cell_type": "code",
      "execution_count": null,
      "metadata": {
        "id": "V9RMj49zVsva",
        "outputId": "af345377-d015-4d34-a01e-eeac84aecde8"
      },
      "outputs": [
        {
          "name": "stdout",
          "output_type": "stream",
          "text": [
            "I am parent class\n",
            "I am child class\n",
            "I am parent class\n"
          ]
        }
      ],
      "source": [
        "#Method Overriding\n",
        "#When a method with the same name and arguments is used in both\n",
        "#a derived class and a base or super class, we say that the derived class method \"overrides\"\n",
        "#the method provided in the base class\n",
        "\n",
        "class ParentClass:\n",
        "    def call_me(self):\n",
        "        print(\"I am parent class\")\n",
        "\n",
        "\n",
        "class ChildClass(ParentClass):\n",
        "    def call_me(self):\n",
        "        print(\"I am child class\")\n",
        "        super().call_me()\n",
        "\n",
        "pobj = ParentClass()\n",
        "pobj.call_me()\n",
        "\n",
        "cobj = ChildClass()\n",
        "cobj.call_me()"
      ]
    },
    {
      "cell_type": "code",
      "execution_count": null,
      "metadata": {
        "id": "vQCH2PubVsva",
        "outputId": "81b4501d-bdc2-45c8-8c2f-6c67765824a5"
      },
      "outputs": [
        {
          "name": "stdout",
          "output_type": "stream",
          "text": [
            "Nurlyssultan. His weight is 74,180.\n"
          ]
        }
      ],
      "source": [
        "class Sample():\n",
        "    def __init__(self,name,length,weight):\n",
        "        self.name = name\n",
        "        self.length = length\n",
        "        self.weight = weight\n",
        "    def __str__(self):\n",
        "        return \"{}. His weight is {},{}.\".format(self.name,self.weight,self.length)\n",
        "    def __len__(self):\n",
        "        return self.length\n",
        "    def __del__(self):\n",
        "        return print(\"This is a del.\")\n",
        "a = Sample(\"Nurlyssultan\",180,74)\n",
        "print(a)"
      ]
    },
    {
      "cell_type": "code",
      "execution_count": null,
      "metadata": {
        "id": "6fK0YragVsvb",
        "outputId": "47535c82-c13e-4451-fb03-a55b693bb67a"
      },
      "outputs": [
        {
          "name": "stdout",
          "output_type": "stream",
          "text": [
            "3.141592653589793\n",
            "3\n",
            "4\n",
            "3\n",
            "11.090536506409418\n",
            "4\n",
            "9.869604401089358\n",
            "56\n"
          ]
        }
      ],
      "source": [
        "import math\n",
        "pi = math.pi\n",
        "print(pi)\n",
        "print(round(pi))\n",
        "print(math.ceil(pi))\n",
        "print(math.floor(pi))\n",
        "print(math.sqrt(123))\n",
        "print(abs(-4))\n",
        "print(pow(pi,2))\n",
        "print(max([1,2,3,4,56]))"
      ]
    },
    {
      "cell_type": "code",
      "execution_count": null,
      "metadata": {
        "id": "Gzr7bkoOVsvb",
        "outputId": "b316dbf0-f579-449a-f958-407cecd6b7aa"
      },
      "outputs": [
        {
          "name": "stdout",
          "output_type": "stream",
          "text": [
            "введите возраст, образование, опыт работы, максимальное количество дней просрочки\n"
          ]
        }
      ],
      "source": [
        "print(f'введите возраст, образование, опыт работы, максимальное количество дней просрочки')\n",
        "class Scoring:\n",
        "    def __init__(self, age, education, jobExperience, maxDel):\n",
        "        self.age = age\n",
        "        self.education = education\n",
        "        self.jobExperience = jobExperience\n",
        "        self.maxDel = maxDel\n",
        "    def ageScore(self):\n",
        "        if self.age >= 20 and self.age <= 30:\n",
        "            return 77\n",
        "        elif self.age >=31 and self.age <=40:\n",
        "            return 123\n",
        "        elif self.age >= 41 and self.age <1000:\n",
        "            return 145\n",
        "    def educationScore(self):\n",
        "        if self.education == \"среднее\":\n",
        "            return 70\n",
        "        elif self.education == \"высшее\":\n",
        "            return 75\n",
        "        elif self.education == \"академическое\":\n",
        "            return 100\n",
        "    def jobExperienceScore(self):\n",
        "        if self.jobExperience ==0:\n",
        "            return 50\n",
        "        elif self.jobExperience >=1 and self.jobExperience <=3:\n",
        "            return 68\n",
        "        elif self.jobExperience >=4 and self.jobExperience <=9:\n",
        "            return 79\n",
        "        elif self.jobExperience >=10:\n",
        "            return 100\n",
        "    def maxDelScore(self):\n",
        "        if self.maxDel==0:\n",
        "            return 159\n",
        "        elif self.maxDel >=1 and self.maxDel <=15:\n",
        "            return 107\n",
        "        elif self.maxDel >=16 and self.maxDel <=90:\n",
        "            return 75\n",
        "        elif self.maxDel >=91 and self.maxDel <=365:\n",
        "            return 50\n",
        "        elif self.maxDel >=366:\n",
        "            return 38\n",
        "    def sb(self):\n",
        "        return Scoring.ageScore(self)+Scoring.educationScore(self)+Scoring.jobExperienceScore(self)+Scoring.maxDelScore(self)\n",
        "    def zona(self):\n",
        "        print(Scoring.sb(self))\n",
        "        if Scoring.sb(self) <= 300:\n",
        "            return \"красная зона\"\n",
        "        elif Scoring.sb(self) >= 301 and Scoring.sb(self) <=450:\n",
        "            return \"желтая\"\n",
        "        elif Scoring.sb(self) >= 451:\n",
        "            return \"зеленая\""
      ]
    },
    {
      "cell_type": "code",
      "execution_count": null,
      "metadata": {
        "id": "t5xo2lifVsvb",
        "outputId": "18471460-6c36-4362-b7c2-8af606aa5ba4"
      },
      "outputs": [
        {
          "name": "stdout",
          "output_type": "stream",
          "text": [
            "This is a del.\n"
          ]
        }
      ],
      "source": [
        "a = Scoring(32,\"высшее\", 8,0)"
      ]
    },
    {
      "cell_type": "code",
      "execution_count": null,
      "metadata": {
        "id": "wuFkquQKVsvb",
        "outputId": "ca80b2c6-3d32-42d9-c29b-c8ee23e457d6"
      },
      "outputs": [
        {
          "data": {
            "text/plain": [
              "436"
            ]
          },
          "execution_count": 96,
          "metadata": {},
          "output_type": "execute_result"
        }
      ],
      "source": [
        "a.sb()"
      ]
    },
    {
      "cell_type": "code",
      "execution_count": null,
      "metadata": {
        "id": "aIp8jc-yVsvb",
        "outputId": "7cac533e-6e03-4660-dace-fc69942b387e"
      },
      "outputs": [
        {
          "name": "stdout",
          "output_type": "stream",
          "text": [
            "436\n",
            "желтая\n"
          ]
        }
      ],
      "source": [
        "print(a.zona())"
      ]
    },
    {
      "cell_type": "code",
      "execution_count": null,
      "metadata": {
        "id": "ewivMI3jVsvc",
        "outputId": "a7913803-ba85-4ab9-a970-9e623a0972f8"
      },
      "outputs": [
        {
          "name": "stdout",
          "output_type": "stream",
          "text": [
            "Hello, Colin\n",
            "Hello, Kaggle\n",
            "Hello, world\n"
          ]
        }
      ],
      "source": [
        "def greet(who=\"Colin\"):\n",
        "    print(\"Hello,\", who)\n",
        "\n",
        "greet()\n",
        "greet(who=\"Kaggle\")\n",
        "greet(\"world\")\n"
      ]
    },
    {
      "cell_type": "code",
      "execution_count": null,
      "metadata": {
        "id": "AWwvipTXVsvc",
        "outputId": "740d4469-2d15-40cf-d0e0-17d00a895f3b"
      },
      "outputs": [
        {
          "name": "stdout",
          "output_type": "stream",
          "text": [
            "5\n",
            "25\n"
          ]
        }
      ],
      "source": [
        "\n",
        "def mult_by_five(x):\n",
        "    return 5 * x\n",
        "\n",
        "def call(fn, arg):\n",
        "    \"\"\"Call fn on arg\"\"\"\n",
        "    return fn(arg)\n",
        "\n",
        "def squared_call(fn, arg):\n",
        "    \"\"\"Call fn on the result of calling fn on arg\"\"\"\n",
        "    return fn(fn(arg))\n",
        "\n",
        "print(\n",
        "    call(mult_by_five, 1),\n",
        "    squared_call(mult_by_five, 1),\n",
        "    sep='\\n', # '\\n' is the newline character - it starts a new line\n",
        ")"
      ]
    },
    {
      "cell_type": "code",
      "execution_count": null,
      "metadata": {
        "id": "RuzjVuteVsvc",
        "outputId": "82d3dd2c-6245-414a-bc57-1cdd0f8be715"
      },
      "outputs": [
        {
          "name": "stdout",
          "output_type": "stream",
          "text": [
            "False\n"
          ]
        },
        {
          "name": "stdin",
          "output_type": "stream",
          "text": [
            "Name : 5\n"
          ]
        },
        {
          "name": "stdout",
          "output_type": "stream",
          "text": [
            "5\n"
          ]
        },
        {
          "name": "stdin",
          "output_type": "stream",
          "text": [
            "Name : quit\n"
          ]
        }
      ],
      "source": [
        "#walrus operator :=\n",
        "# assings a value and returns it back\n",
        "#The value of 15 is assigned to num.\n",
        "#Then this same value is returned, which will become the argument for the print function.\n",
        "#Thus, 15 is printed.\n",
        "print(num:=False)\n",
        "\n",
        "while name := input('Name :'):\n",
        "    if name == 'quit':\n",
        "        break\n",
        "    print(name)"
      ]
    },
    {
      "cell_type": "code",
      "execution_count": null,
      "metadata": {
        "id": "jNdU-qC3Vsvc",
        "outputId": "6802858b-2796-4b46-9d28-e86cdfc9c301"
      },
      "outputs": [
        {
          "name": "stdout",
          "output_type": "stream",
          "text": [
            "15\n"
          ]
        }
      ],
      "source": [
        "#The value of 15 is assigned to num.\n",
        "#Then this same value is returned, which will become the argument for the print function. Thus, 15 is printed.\n",
        "print(num := 15)"
      ]
    },
    {
      "cell_type": "code",
      "execution_count": null,
      "metadata": {
        "id": "4hx9Efm0Vsvc",
        "outputId": "ed759dd6-ae09-4bb7-f016-2f55f2d82659"
      },
      "outputs": [
        {
          "name": "stdout",
          "output_type": "stream",
          "text": [
            "__main__\n"
          ]
        }
      ],
      "source": [
        "# __name__ == '__main__'\n",
        "# python interpreter sets \"special variables\", one of which is __name__\n",
        "# python will assign the __name__ variable a value of '__main__' if it's the initial module being run\n",
        "\n",
        "#if __name__ == '__main__':\n",
        "\n",
        "#The global variable, __name__, in the module that is the entry point to your program, is '__main__'.\n",
        "#Otherwise, it's the name you import the module by.\n",
        "#So, code under the if block will only run if the module is the entry point to your program.\n",
        "#It allows the code in the module to be importable by other modules, without executing the code block beneath on import.\n",
        "print(__name__)"
      ]
    },
    {
      "cell_type": "code",
      "execution_count": null,
      "metadata": {
        "id": "_2vVfJHAVsvc",
        "outputId": "2965fc53-14bc-4770-8e84-2add2253e834"
      },
      "outputs": [
        {
          "name": "stdout",
          "output_type": "stream",
          "text": [
            "Thu Jan  1 06:00:00 1970\n"
          ]
        }
      ],
      "source": [
        "import time\n",
        "print(time.ctime(0)) #epoch = when your computer think time began"
      ]
    },
    {
      "cell_type": "code",
      "execution_count": null,
      "metadata": {
        "id": "fQOI6FqjVsvc"
      },
      "outputs": [],
      "source": [
        "#Cuncurrency vs parallelism\n",
        "#Concurrency means that an application is making progress on more than one task\n",
        "#- at the same time or at least seemingly at the same time (concurrently).\n",
        "#Concurrency is when two or more tasks can start, run, and complete in overlapping time periods.\n",
        "#It doesn't necessarily mean they'll ever both be running at the same instant.\n",
        "#For example, multitasking on a single-core machine.\n",
        "\n",
        "#Parallelism is when tasks literally run at the same time, e.g., on a multicore processor.\n",
        "#Parallel execution is when a computer has more than one CPU or CPU core,\n",
        "#and makes progress on more than one task simultaneously.\n",
        "#The term parallelism means that an application splits its tasks up into smaller\n",
        "#subtasks which can be processed in parallel, for instance on multiple CPUs at the exact same time.\n",
        "#Thus, parallelism does not refer to the same execution model as parallel concurrent execution\n",
        "#- even if they may look similar on the surface."
      ]
    },
    {
      "cell_type": "code",
      "execution_count": null,
      "metadata": {
        "id": "0TTSWfR-Vsvd",
        "outputId": "c8cbb2a7-22b2-4603-cb5c-d2326f35f3e9"
      },
      "outputs": [
        {
          "name": "stdout",
          "output_type": "stream",
          "text": [
            "first\n",
            "second\n",
            "third\n",
            "8\n",
            "[<_MainThread(MainThread, started 8642810496)>, <Thread(IOPub, started daemon 13018669056)>, <Heartbeat(Heartbeat, started daemon 13035458560)>, <Thread(Thread-3, started daemon 13053321216)>, <Thread(Thread-4, started daemon 13070110720)>, <ControlThread(Control, started daemon 13086900224)>, <HistorySavingThread(IPythonHistorySavingThread, started 13103689728)>, <ParentPollerUnix(Thread-2, started daemon 13121040384)>]\n",
            "6904.95090125\n"
          ]
        }
      ],
      "source": [
        "# a thread = a flow of execution\n",
        "# multithreading\n",
        "#Python threading allows you to have different parts of your program run concurrently and can simplify your design.\n",
        "import threading\n",
        "import time\n",
        "import datetime\n",
        "def first():\n",
        "    time.sleep(3)\n",
        "    print('first')\n",
        "\n",
        "def second():\n",
        "    time.sleep(5)\n",
        "    print('second')\n",
        "\n",
        "def third():\n",
        "    time.sleep(9)\n",
        "    print('third')\n",
        "\n",
        "#first()\n",
        "#second()\n",
        "#third()\n",
        "y = threading.Thread(target=third, args=())\n",
        "y.start()\n",
        "x = threading.Thread(target=first, args=())\n",
        "x.start()\n",
        "z = threading.Thread(target=second, args=())\n",
        "z.start()\n",
        "\n",
        "z.join()\n",
        "y.join()\n",
        "x.join()\n",
        "\n",
        "print(threading.active_count())\n",
        "print(threading.enumerate())\n",
        "print(time.perf_counter())"
      ]
    },
    {
      "cell_type": "code",
      "execution_count": null,
      "metadata": {
        "id": "eOS0aD1-Vsvd",
        "outputId": "4c77d620-2b26-48b8-ad83-861036f81ca8"
      },
      "outputs": [
        {
          "name": "stdout",
          "output_type": "stream",
          "text": [
            "8\n"
          ]
        },
        {
          "name": "stderr",
          "output_type": "stream",
          "text": [
            "Traceback (most recent call last):\n",
            "  File \"<string>\", line 1, in <module>\n",
            "Traceback (most recent call last):\n",
            "  File \"<string>\", line 1, in <module>\n",
            "Traceback (most recent call last):\n",
            "  File \"<string>\", line 1, in <module>\n",
            "  File \"/Users/nurlyssultansabitov/opt/anaconda3/lib/python3.9/multiprocessing/spawn.py\", line 116, in spawn_main\n",
            "  File \"/Users/nurlyssultansabitov/opt/anaconda3/lib/python3.9/multiprocessing/spawn.py\", line 116, in spawn_main\n",
            "  File \"/Users/nurlyssultansabitov/opt/anaconda3/lib/python3.9/multiprocessing/spawn.py\", line 116, in spawn_main\n",
            "    exitcode = _main(fd, parent_sentinel)\n",
            "  File \"/Users/nurlyssultansabitov/opt/anaconda3/lib/python3.9/multiprocessing/spawn.py\", line 126, in _main\n",
            "    exitcode = _main(fd, parent_sentinel)\n",
            "  File \"/Users/nurlyssultansabitov/opt/anaconda3/lib/python3.9/multiprocessing/spawn.py\", line 126, in _main\n",
            "    exitcode = _main(fd, parent_sentinel)\n",
            "  File \"/Users/nurlyssultansabitov/opt/anaconda3/lib/python3.9/multiprocessing/spawn.py\", line 126, in _main\n",
            "    self = reduction.pickle.load(from_parent)\n",
            "    self = reduction.pickle.load(from_parent)\n",
            "AttributeError: Can't get attribute 'spawn' on <module '__main__' (built-in)>\n",
            "AttributeError: Can't get attribute 'spawn' on <module '__main__' (built-in)>\n",
            "    self = reduction.pickle.load(from_parent)\n",
            "AttributeError: Can't get attribute 'spawn' on <module '__main__' (built-in)>\n"
          ]
        }
      ],
      "source": [
        "# Multiprocessing\n",
        "# running tasks in parallel on different cpu cores, bypasses GIL used for threading\n",
        "# multiprocessing = better for cpu bound tasks (heavy cpu usage)\n",
        "# multithreading = better for io bound tasks (waiting around)\n",
        "\n",
        "import multiprocessing\n",
        "import time\n",
        "\n",
        "def spawn(*l):\n",
        "    time.sleep(5)\n",
        "    print(f'spawn: {l[0]}')\n",
        "\n",
        "def main():\n",
        "\tp1 = multiprocessing.Process(target=spawn,args=(0,))\n",
        "\tp2 = multiprocessing.Process(target=spawn,args=(1,))\n",
        "\tp3 = multiprocessing.Process(target=spawn,args=(2,))\n",
        "\tp1.start()\n",
        "\tp2.start()\n",
        "\tp3.start()\n",
        "\tprint(multiprocessing.cpu_count())\n",
        "\n",
        "if __name__ == '__main__':\n",
        "\tmain()\n"
      ]
    },
    {
      "cell_type": "code",
      "execution_count": null,
      "metadata": {
        "id": "k94H9fb2Vsvd",
        "outputId": "bb414ac0-495e-4b8a-ad31-0cfa2dbc5121"
      },
      "outputs": [
        {
          "name": "stdout",
          "output_type": "stream",
          "text": [
            "100\n"
          ]
        }
      ],
      "source": [
        "#threading with Lock\n",
        "# Importing the threading module\n",
        "import threading\n",
        "# Declraing a lock\n",
        "lock = threading.Lock()\n",
        "deposit = 100\n",
        "# Function to add profit to the deposit\n",
        "def add_profit():\n",
        "    global deposit\n",
        "    for i in range(100000):\n",
        "        lock.acquire()\n",
        "        deposit = deposit + 10\n",
        "        lock.release()\n",
        "# Function to deduct money from the deposit\n",
        "def pay_bill():\n",
        "    global deposit\n",
        "    for i in range(100000):\n",
        "        lock.acquire()\n",
        "        deposit = deposit - 10\n",
        "        lock.release()\n",
        "# Creating threads\n",
        "thread1 = threading.Thread(target = add_profit, args = ())\n",
        "thread2 = threading.Thread(target = pay_bill, args = ())\n",
        "# Starting the threads\n",
        "thread1.start()\n",
        "thread2.start()\n",
        "# Waiting for both the threads to finish executing\n",
        "thread1.join()\n",
        "thread2.join()\n",
        "# Displaying the final value of the deposit\n",
        "print(deposit)"
      ]
    },
    {
      "cell_type": "code",
      "execution_count": null,
      "metadata": {
        "id": "yQkOherSVsvd",
        "outputId": "8c105f30-cd99-4582-bb58-865155ad397e"
      },
      "outputs": [
        {
          "name": "stdout",
          "output_type": "stream",
          "text": [
            "asyncio.run() cannot be called from a running event loop\n"
          ]
        },
        {
          "name": "stderr",
          "output_type": "stream",
          "text": [
            "/var/folders/d9/4p0nby3n6xx82h_3151pqhk00000gn/T/ipykernel_11153/2619091079.py:30: RuntimeWarning: coroutine 'gather' was never awaited\n",
            "  print(e)\n",
            "RuntimeWarning: Enable tracemalloc to get the object allocation traceback\n"
          ]
        }
      ],
      "source": [
        "import asyncio\n",
        "\n",
        "\n",
        "async def start():\n",
        "    print('Start')\n",
        "    await asyncio.sleep(2)\n",
        "    print('End')\n",
        "\n",
        "\n",
        "async def start4():\n",
        "    print('Start4')\n",
        "    await asyncio.sleep(4)\n",
        "    print('End4')\n",
        "\n",
        "\n",
        "async def start6():\n",
        "    print('Start6')\n",
        "    await asyncio.sleep(6)\n",
        "    print('End6')\n",
        "\n",
        "\n",
        "async def gather():\n",
        "    task = [start(), start4(), start6()]\n",
        "    await asyncio.gather(*task)\n",
        "\n",
        "if __name__ == '__main__':\n",
        "    try:\n",
        "        asyncio.run(gather())\n",
        "    except Exception as e:\n",
        "        print(e)"
      ]
    },
    {
      "cell_type": "code",
      "execution_count": null,
      "metadata": {
        "id": "_V-muzOoVsvd",
        "outputId": "53fc0b57-5ebe-4eed-a85f-ae6db33f23a6"
      },
      "outputs": [
        {
          "ename": "RuntimeError",
          "evalue": "This event loop is already running",
          "output_type": "error",
          "traceback": [
            "\u001b[0;31m---------------------------------------------------------------------------\u001b[0m",
            "\u001b[0;31mRuntimeError\u001b[0m                              Traceback (most recent call last)",
            "\u001b[0;32m/var/folders/d9/4p0nby3n6xx82h_3151pqhk00000gn/T/ipykernel_11153/1144341776.py\u001b[0m in \u001b[0;36m<module>\u001b[0;34m\u001b[0m\n\u001b[1;32m     20\u001b[0m \u001b[0;34m\u001b[0m\u001b[0m\n\u001b[1;32m     21\u001b[0m \u001b[0mioloop\u001b[0m \u001b[0;34m=\u001b[0m \u001b[0masyncio\u001b[0m\u001b[0;34m.\u001b[0m\u001b[0mget_event_loop\u001b[0m\u001b[0;34m(\u001b[0m\u001b[0;34m)\u001b[0m\u001b[0;34m\u001b[0m\u001b[0;34m\u001b[0m\u001b[0m\n\u001b[0;32m---> 22\u001b[0;31m \u001b[0mioloop\u001b[0m\u001b[0;34m.\u001b[0m\u001b[0mrun_until_complete\u001b[0m\u001b[0;34m(\u001b[0m\u001b[0mprint_number\u001b[0m\u001b[0;34m(\u001b[0m\u001b[0;34m)\u001b[0m\u001b[0;34m)\u001b[0m\u001b[0;34m\u001b[0m\u001b[0;34m\u001b[0m\u001b[0m\n\u001b[0m\u001b[1;32m     23\u001b[0m \u001b[0mioloop\u001b[0m\u001b[0;34m.\u001b[0m\u001b[0mrun_until_complete\u001b[0m\u001b[0;34m(\u001b[0m\u001b[0mfetch_data\u001b[0m\u001b[0;34m(\u001b[0m\u001b[0;34m)\u001b[0m\u001b[0;34m)\u001b[0m\u001b[0;34m\u001b[0m\u001b[0;34m\u001b[0m\u001b[0m\n\u001b[1;32m     24\u001b[0m \u001b[0mioloop\u001b[0m\u001b[0;34m.\u001b[0m\u001b[0mclose\u001b[0m\u001b[0;34m(\u001b[0m\u001b[0;34m)\u001b[0m\u001b[0;34m\u001b[0m\u001b[0;34m\u001b[0m\u001b[0m\n",
            "\u001b[0;32m~/opt/anaconda3/lib/python3.9/asyncio/base_events.py\u001b[0m in \u001b[0;36mrun_until_complete\u001b[0;34m(self, future)\u001b[0m\n\u001b[1;32m    621\u001b[0m         \"\"\"\n\u001b[1;32m    622\u001b[0m         \u001b[0mself\u001b[0m\u001b[0;34m.\u001b[0m\u001b[0m_check_closed\u001b[0m\u001b[0;34m(\u001b[0m\u001b[0;34m)\u001b[0m\u001b[0;34m\u001b[0m\u001b[0;34m\u001b[0m\u001b[0m\n\u001b[0;32m--> 623\u001b[0;31m         \u001b[0mself\u001b[0m\u001b[0;34m.\u001b[0m\u001b[0m_check_running\u001b[0m\u001b[0;34m(\u001b[0m\u001b[0;34m)\u001b[0m\u001b[0;34m\u001b[0m\u001b[0;34m\u001b[0m\u001b[0m\n\u001b[0m\u001b[1;32m    624\u001b[0m \u001b[0;34m\u001b[0m\u001b[0m\n\u001b[1;32m    625\u001b[0m         \u001b[0mnew_task\u001b[0m \u001b[0;34m=\u001b[0m \u001b[0;32mnot\u001b[0m \u001b[0mfutures\u001b[0m\u001b[0;34m.\u001b[0m\u001b[0misfuture\u001b[0m\u001b[0;34m(\u001b[0m\u001b[0mfuture\u001b[0m\u001b[0;34m)\u001b[0m\u001b[0;34m\u001b[0m\u001b[0;34m\u001b[0m\u001b[0m\n",
            "\u001b[0;32m~/opt/anaconda3/lib/python3.9/asyncio/base_events.py\u001b[0m in \u001b[0;36m_check_running\u001b[0;34m(self)\u001b[0m\n\u001b[1;32m    581\u001b[0m     \u001b[0;32mdef\u001b[0m \u001b[0m_check_running\u001b[0m\u001b[0;34m(\u001b[0m\u001b[0mself\u001b[0m\u001b[0;34m)\u001b[0m\u001b[0;34m:\u001b[0m\u001b[0;34m\u001b[0m\u001b[0;34m\u001b[0m\u001b[0m\n\u001b[1;32m    582\u001b[0m         \u001b[0;32mif\u001b[0m \u001b[0mself\u001b[0m\u001b[0;34m.\u001b[0m\u001b[0mis_running\u001b[0m\u001b[0;34m(\u001b[0m\u001b[0;34m)\u001b[0m\u001b[0;34m:\u001b[0m\u001b[0;34m\u001b[0m\u001b[0;34m\u001b[0m\u001b[0m\n\u001b[0;32m--> 583\u001b[0;31m             \u001b[0;32mraise\u001b[0m \u001b[0mRuntimeError\u001b[0m\u001b[0;34m(\u001b[0m\u001b[0;34m'This event loop is already running'\u001b[0m\u001b[0;34m)\u001b[0m\u001b[0;34m\u001b[0m\u001b[0;34m\u001b[0m\u001b[0m\n\u001b[0m\u001b[1;32m    584\u001b[0m         \u001b[0;32mif\u001b[0m \u001b[0mevents\u001b[0m\u001b[0;34m.\u001b[0m\u001b[0m_get_running_loop\u001b[0m\u001b[0;34m(\u001b[0m\u001b[0;34m)\u001b[0m \u001b[0;32mis\u001b[0m \u001b[0;32mnot\u001b[0m \u001b[0;32mNone\u001b[0m\u001b[0;34m:\u001b[0m\u001b[0;34m\u001b[0m\u001b[0;34m\u001b[0m\u001b[0m\n\u001b[1;32m    585\u001b[0m             raise RuntimeError(\n",
            "\u001b[0;31mRuntimeError\u001b[0m: This event loop is already running"
          ]
        }
      ],
      "source": [
        "#https://bbc.github.io/cloudfit-public-docs/asyncio/asyncio-part-1.html\n",
        "import asyncio\n",
        "\n",
        "async def fetch_data():\n",
        "    print('Start Fetching')\n",
        "    await asyncio.sleep(2)\n",
        "    print('Done Fetching')\n",
        "    return {'Result':'Done'}\n",
        "\n",
        "async def print_number():\n",
        "    for i in range(10):\n",
        "        print(i)\n",
        "        await asyncio.sleep(0.5)\n",
        "\n",
        "async def main():\n",
        "    task1 = asyncio.create_task(print_number())\n",
        "    task2 = asyncio.create_task(fetch_data())\n",
        "    await task1,task2\n",
        "    print('End of main')\n",
        "\n",
        "ioloop = asyncio.get_event_loop()\n",
        "ioloop.run_until_complete(print_number())\n",
        "ioloop.run_until_complete(fetch_data())\n",
        "ioloop.close()\n",
        "#await main()\n"
      ]
    },
    {
      "cell_type": "code",
      "execution_count": null,
      "metadata": {
        "id": "sByTnPZ1Vsvd",
        "outputId": "49717de2-0495-4678-b26b-c2ed7b6fd815"
      },
      "outputs": [
        {
          "name": "stderr",
          "output_type": "stream",
          "text": [
            "/var/folders/d9/4p0nby3n6xx82h_3151pqhk00000gn/T/ipykernel_11153/2366203120.py:11: RuntimeWarning: coroutine 'myWork' was never awaited\n",
            "  loop.run_until_complete(myWork(),myWork(),myWork())\n",
            "RuntimeWarning: Enable tracemalloc to get the object allocation traceback\n"
          ]
        },
        {
          "ename": "RuntimeError",
          "evalue": "Cannot close a running event loop",
          "output_type": "error",
          "traceback": [
            "\u001b[0;31m---------------------------------------------------------------------------\u001b[0m",
            "\u001b[0;31mTypeError\u001b[0m                                 Traceback (most recent call last)",
            "\u001b[0;32m/var/folders/d9/4p0nby3n6xx82h_3151pqhk00000gn/T/ipykernel_11153/2366203120.py\u001b[0m in \u001b[0;36m<module>\u001b[0;34m\u001b[0m\n\u001b[1;32m     10\u001b[0m \u001b[0;32mtry\u001b[0m\u001b[0;34m:\u001b[0m\u001b[0;34m\u001b[0m\u001b[0;34m\u001b[0m\u001b[0m\n\u001b[0;32m---> 11\u001b[0;31m     \u001b[0mloop\u001b[0m\u001b[0;34m.\u001b[0m\u001b[0mrun_until_complete\u001b[0m\u001b[0;34m(\u001b[0m\u001b[0mmyWork\u001b[0m\u001b[0;34m(\u001b[0m\u001b[0;34m)\u001b[0m\u001b[0;34m,\u001b[0m\u001b[0mmyWork\u001b[0m\u001b[0;34m(\u001b[0m\u001b[0;34m)\u001b[0m\u001b[0;34m,\u001b[0m\u001b[0mmyWork\u001b[0m\u001b[0;34m(\u001b[0m\u001b[0;34m)\u001b[0m\u001b[0;34m)\u001b[0m\u001b[0;34m\u001b[0m\u001b[0;34m\u001b[0m\u001b[0m\n\u001b[0m\u001b[1;32m     12\u001b[0m \u001b[0;32mfinally\u001b[0m\u001b[0;34m:\u001b[0m\u001b[0;34m\u001b[0m\u001b[0;34m\u001b[0m\u001b[0m\n",
            "\u001b[0;31mTypeError\u001b[0m: run_until_complete() takes 2 positional arguments but 4 were given",
            "\nDuring handling of the above exception, another exception occurred:\n",
            "\u001b[0;31mRuntimeError\u001b[0m                              Traceback (most recent call last)",
            "\u001b[0;32m/var/folders/d9/4p0nby3n6xx82h_3151pqhk00000gn/T/ipykernel_11153/2366203120.py\u001b[0m in \u001b[0;36m<module>\u001b[0;34m\u001b[0m\n\u001b[1;32m     11\u001b[0m     \u001b[0mloop\u001b[0m\u001b[0;34m.\u001b[0m\u001b[0mrun_until_complete\u001b[0m\u001b[0;34m(\u001b[0m\u001b[0mmyWork\u001b[0m\u001b[0;34m(\u001b[0m\u001b[0;34m)\u001b[0m\u001b[0;34m,\u001b[0m\u001b[0mmyWork\u001b[0m\u001b[0;34m(\u001b[0m\u001b[0;34m)\u001b[0m\u001b[0;34m,\u001b[0m\u001b[0mmyWork\u001b[0m\u001b[0;34m(\u001b[0m\u001b[0;34m)\u001b[0m\u001b[0;34m)\u001b[0m\u001b[0;34m\u001b[0m\u001b[0;34m\u001b[0m\u001b[0m\n\u001b[1;32m     12\u001b[0m \u001b[0;32mfinally\u001b[0m\u001b[0;34m:\u001b[0m\u001b[0;34m\u001b[0m\u001b[0;34m\u001b[0m\u001b[0m\n\u001b[0;32m---> 13\u001b[0;31m     \u001b[0mloop\u001b[0m\u001b[0;34m.\u001b[0m\u001b[0mclose\u001b[0m\u001b[0;34m(\u001b[0m\u001b[0;34m)\u001b[0m\u001b[0;34m\u001b[0m\u001b[0;34m\u001b[0m\u001b[0m\n\u001b[0m",
            "\u001b[0;32m~/opt/anaconda3/lib/python3.9/asyncio/unix_events.py\u001b[0m in \u001b[0;36mclose\u001b[0;34m(self)\u001b[0m\n\u001b[1;32m     56\u001b[0m \u001b[0;34m\u001b[0m\u001b[0m\n\u001b[1;32m     57\u001b[0m     \u001b[0;32mdef\u001b[0m \u001b[0mclose\u001b[0m\u001b[0;34m(\u001b[0m\u001b[0mself\u001b[0m\u001b[0;34m)\u001b[0m\u001b[0;34m:\u001b[0m\u001b[0;34m\u001b[0m\u001b[0;34m\u001b[0m\u001b[0m\n\u001b[0;32m---> 58\u001b[0;31m         \u001b[0msuper\u001b[0m\u001b[0;34m(\u001b[0m\u001b[0;34m)\u001b[0m\u001b[0;34m.\u001b[0m\u001b[0mclose\u001b[0m\u001b[0;34m(\u001b[0m\u001b[0;34m)\u001b[0m\u001b[0;34m\u001b[0m\u001b[0;34m\u001b[0m\u001b[0m\n\u001b[0m\u001b[1;32m     59\u001b[0m         \u001b[0;32mif\u001b[0m \u001b[0;32mnot\u001b[0m \u001b[0msys\u001b[0m\u001b[0;34m.\u001b[0m\u001b[0mis_finalizing\u001b[0m\u001b[0;34m(\u001b[0m\u001b[0;34m)\u001b[0m\u001b[0;34m:\u001b[0m\u001b[0;34m\u001b[0m\u001b[0;34m\u001b[0m\u001b[0m\n\u001b[1;32m     60\u001b[0m             \u001b[0;32mfor\u001b[0m \u001b[0msig\u001b[0m \u001b[0;32min\u001b[0m \u001b[0mlist\u001b[0m\u001b[0;34m(\u001b[0m\u001b[0mself\u001b[0m\u001b[0;34m.\u001b[0m\u001b[0m_signal_handlers\u001b[0m\u001b[0;34m)\u001b[0m\u001b[0;34m:\u001b[0m\u001b[0;34m\u001b[0m\u001b[0;34m\u001b[0m\u001b[0m\n",
            "\u001b[0;32m~/opt/anaconda3/lib/python3.9/asyncio/selector_events.py\u001b[0m in \u001b[0;36mclose\u001b[0;34m(self)\u001b[0m\n\u001b[1;32m     82\u001b[0m     \u001b[0;32mdef\u001b[0m \u001b[0mclose\u001b[0m\u001b[0;34m(\u001b[0m\u001b[0mself\u001b[0m\u001b[0;34m)\u001b[0m\u001b[0;34m:\u001b[0m\u001b[0;34m\u001b[0m\u001b[0;34m\u001b[0m\u001b[0m\n\u001b[1;32m     83\u001b[0m         \u001b[0;32mif\u001b[0m \u001b[0mself\u001b[0m\u001b[0;34m.\u001b[0m\u001b[0mis_running\u001b[0m\u001b[0;34m(\u001b[0m\u001b[0;34m)\u001b[0m\u001b[0;34m:\u001b[0m\u001b[0;34m\u001b[0m\u001b[0;34m\u001b[0m\u001b[0m\n\u001b[0;32m---> 84\u001b[0;31m             \u001b[0;32mraise\u001b[0m \u001b[0mRuntimeError\u001b[0m\u001b[0;34m(\u001b[0m\u001b[0;34m\"Cannot close a running event loop\"\u001b[0m\u001b[0;34m)\u001b[0m\u001b[0;34m\u001b[0m\u001b[0;34m\u001b[0m\u001b[0m\n\u001b[0m\u001b[1;32m     85\u001b[0m         \u001b[0;32mif\u001b[0m \u001b[0mself\u001b[0m\u001b[0;34m.\u001b[0m\u001b[0mis_closed\u001b[0m\u001b[0;34m(\u001b[0m\u001b[0;34m)\u001b[0m\u001b[0;34m:\u001b[0m\u001b[0;34m\u001b[0m\u001b[0;34m\u001b[0m\u001b[0m\n\u001b[1;32m     86\u001b[0m             \u001b[0;32mreturn\u001b[0m\u001b[0;34m\u001b[0m\u001b[0;34m\u001b[0m\u001b[0m\n",
            "\u001b[0;31mRuntimeError\u001b[0m: Cannot close a running event loop"
          ]
        }
      ],
      "source": [
        "import asyncio\n",
        "import time\n",
        "\n",
        "async def myWork():\n",
        "    print(\"Starting Work\")\n",
        "    time.sleep(5)\n",
        "    print(\"Finishing Work\")\n",
        "\n",
        "loop = asyncio.get_event_loop()\n",
        "try:\n",
        "    loop.run_until_complete(myWork(),myWork(),myWork())\n",
        "finally:\n",
        "    loop.close()"
      ]
    },
    {
      "cell_type": "code",
      "execution_count": null,
      "metadata": {
        "id": "_DOuaxguVsvd",
        "outputId": "9ef54d81-ecbb-40bc-df9a-c829783e0242"
      },
      "outputs": [
        {
          "ename": "NameError",
          "evalue": "name 'gr1' is not defined",
          "output_type": "error",
          "traceback": [
            "\u001b[0;31m---------------------------------------------------------------------------\u001b[0m",
            "\u001b[0;31mNameError\u001b[0m                                 Traceback (most recent call last)",
            "\u001b[0;32m/var/folders/d9/4p0nby3n6xx82h_3151pqhk00000gn/T/ipykernel_11153/1551977801.py\u001b[0m in \u001b[0;36m<module>\u001b[0;34m\u001b[0m\n\u001b[1;32m      1\u001b[0m \u001b[0mioloop\u001b[0m \u001b[0;34m=\u001b[0m \u001b[0masyncio\u001b[0m\u001b[0;34m.\u001b[0m\u001b[0mget_event_loop\u001b[0m\u001b[0;34m(\u001b[0m\u001b[0;34m)\u001b[0m\u001b[0;34m\u001b[0m\u001b[0;34m\u001b[0m\u001b[0m\n\u001b[1;32m      2\u001b[0m tasks = [\n\u001b[0;32m----> 3\u001b[0;31m     \u001b[0mioloop\u001b[0m\u001b[0;34m.\u001b[0m\u001b[0mcreate_task\u001b[0m\u001b[0;34m(\u001b[0m\u001b[0mgr1\u001b[0m\u001b[0;34m(\u001b[0m\u001b[0;34m)\u001b[0m\u001b[0;34m)\u001b[0m\u001b[0;34m,\u001b[0m\u001b[0;34m\u001b[0m\u001b[0;34m\u001b[0m\u001b[0m\n\u001b[0m\u001b[1;32m      4\u001b[0m     \u001b[0mioloop\u001b[0m\u001b[0;34m.\u001b[0m\u001b[0mcreate_task\u001b[0m\u001b[0;34m(\u001b[0m\u001b[0mgr2\u001b[0m\u001b[0;34m(\u001b[0m\u001b[0;34m)\u001b[0m\u001b[0;34m)\u001b[0m\u001b[0;34m,\u001b[0m\u001b[0;34m\u001b[0m\u001b[0;34m\u001b[0m\u001b[0m\n\u001b[1;32m      5\u001b[0m     \u001b[0mioloop\u001b[0m\u001b[0;34m.\u001b[0m\u001b[0mcreate_task\u001b[0m\u001b[0;34m(\u001b[0m\u001b[0mgr3\u001b[0m\u001b[0;34m(\u001b[0m\u001b[0;34m)\u001b[0m\u001b[0;34m)\u001b[0m\u001b[0;34m\u001b[0m\u001b[0;34m\u001b[0m\u001b[0m\n",
            "\u001b[0;31mNameError\u001b[0m: name 'gr1' is not defined"
          ]
        }
      ],
      "source": [
        "ioloop = asyncio.get_event_loop()\n",
        "tasks = [\n",
        "    ioloop.create_task(gr1()),\n",
        "    ioloop.create_task(gr2()),\n",
        "    ioloop.create_task(gr3())\n",
        "]\n",
        "ioloop.run_until_complete(asyncio.wait(tasks))\n",
        "ioloop.close()"
      ]
    },
    {
      "cell_type": "code",
      "execution_count": null,
      "metadata": {
        "id": "XCYj1AqSVsvd",
        "outputId": "15e731ac-fe19-4c06-f48e-946cd263beb1"
      },
      "outputs": [
        {
          "data": {
            "text/plain": [
              "<Task pending name='Task-4' coro=<main() running at /var/folders/d9/4p0nby3n6xx82h_3151pqhk00000gn/T/ipykernel_11153/3379920257.py:9>>"
            ]
          },
          "execution_count": 112,
          "metadata": {},
          "output_type": "execute_result"
        },
        {
          "name": "stdout",
          "output_type": "stream",
          "text": [
            "task0: 0\n",
            "task1: 0\n",
            "task2: 0\n",
            "task3: 0\n",
            "task0: 1\n",
            "task1: 1\n",
            "task2: 1\n",
            "task3: 1\n",
            "task0: 2\n",
            "task1: 2\n",
            "task2: 2\n",
            "task3: 2\n",
            "task0: 3\n",
            "task1: 3\n",
            "task2: 3\n",
            "task3: 3\n",
            "task0: 4\n",
            "task1: 4\n",
            "task2: 4\n",
            "task3: 4\n"
          ]
        }
      ],
      "source": [
        "import asyncio\n",
        "\n",
        "async def counter(name: str):\n",
        "    for i in range(0, 100):\n",
        "        print(f\"{name}: {i!s}\")\n",
        "        await asyncio.sleep(1)\n",
        "    print(f'{name} is Done')\n",
        "\n",
        "async def main():\n",
        "    loop = asyncio.get_event_loop()\n",
        "\n",
        "    tasks = []\n",
        "    for n in range(0, 4):\n",
        "        tasks.append(loop.create_task(counter(f\"task{n}\")))\n",
        "\n",
        "    while True:\n",
        "        tasks = [t for t in tasks if not t.done()]\n",
        "        if len(tasks) == 0:\n",
        "            return\n",
        "\n",
        "        await tasks[0]\n",
        "\n",
        "loop = asyncio.get_event_loop()\n",
        "loop.create_task(main())"
      ]
    },
    {
      "cell_type": "code",
      "execution_count": null,
      "metadata": {
        "id": "9FaRKCRpVsve",
        "outputId": "4d2f68d6-2f98-4657-80c9-9564355663c2"
      },
      "outputs": [
        {
          "ename": "RuntimeError",
          "evalue": "asyncio.run() cannot be called from a running event loop",
          "output_type": "error",
          "traceback": [
            "\u001b[0;31m---------------------------------------------------------------------------\u001b[0m",
            "\u001b[0;31mRuntimeError\u001b[0m                              Traceback (most recent call last)",
            "\u001b[0;32m/var/folders/d9/4p0nby3n6xx82h_3151pqhk00000gn/T/ipykernel_11153/1924563027.py\u001b[0m in \u001b[0;36m<module>\u001b[0;34m\u001b[0m\n\u001b[1;32m     19\u001b[0m     \u001b[0mprint\u001b[0m\u001b[0;34m(\u001b[0m\u001b[0mL\u001b[0m\u001b[0;34m)\u001b[0m\u001b[0;34m\u001b[0m\u001b[0;34m\u001b[0m\u001b[0m\n\u001b[1;32m     20\u001b[0m \u001b[0;34m\u001b[0m\u001b[0m\n\u001b[0;32m---> 21\u001b[0;31m \u001b[0masyncio\u001b[0m\u001b[0;34m.\u001b[0m\u001b[0mrun\u001b[0m\u001b[0;34m(\u001b[0m\u001b[0mmain\u001b[0m\u001b[0;34m(\u001b[0m\u001b[0;34m)\u001b[0m\u001b[0;34m)\u001b[0m\u001b[0;34m\u001b[0m\u001b[0;34m\u001b[0m\u001b[0m\n\u001b[0m",
            "\u001b[0;32m~/opt/anaconda3/lib/python3.9/asyncio/runners.py\u001b[0m in \u001b[0;36mrun\u001b[0;34m(main, debug)\u001b[0m\n\u001b[1;32m     31\u001b[0m     \"\"\"\n\u001b[1;32m     32\u001b[0m     \u001b[0;32mif\u001b[0m \u001b[0mevents\u001b[0m\u001b[0;34m.\u001b[0m\u001b[0m_get_running_loop\u001b[0m\u001b[0;34m(\u001b[0m\u001b[0;34m)\u001b[0m \u001b[0;32mis\u001b[0m \u001b[0;32mnot\u001b[0m \u001b[0;32mNone\u001b[0m\u001b[0;34m:\u001b[0m\u001b[0;34m\u001b[0m\u001b[0;34m\u001b[0m\u001b[0m\n\u001b[0;32m---> 33\u001b[0;31m         raise RuntimeError(\n\u001b[0m\u001b[1;32m     34\u001b[0m             \"asyncio.run() cannot be called from a running event loop\")\n\u001b[1;32m     35\u001b[0m \u001b[0;34m\u001b[0m\u001b[0m\n",
            "\u001b[0;31mRuntimeError\u001b[0m: asyncio.run() cannot be called from a running event loop"
          ]
        },
        {
          "name": "stdout",
          "output_type": "stream",
          "text": [
            "task0: 5\n",
            "task1: 5\n",
            "task2: 5\n",
            "task3: 5\n",
            "task0: 6\n",
            "task1: 6\n",
            "task2: 6\n",
            "task3: 6\n",
            "task0: 7\n",
            "task1: 7\n",
            "task2: 7\n",
            "task3: 7\n",
            "task0: 8\n",
            "task1: 8\n",
            "task2: 8\n",
            "task3: 8\n",
            "task0: 9\n",
            "task1: 9\n",
            "task2: 9\n",
            "task3: 9\n",
            "task0: 10\n",
            "task1: 10\n",
            "task2: 10\n",
            "task3: 10\n"
          ]
        }
      ],
      "source": [
        "import asyncio\n",
        "\n",
        "async def factorial(name, number):\n",
        "    f = 1\n",
        "    for i in range(2, number + 1):\n",
        "        print(f\"Task {name}: Compute factorial({number}), currently i={i}...\")\n",
        "        await asyncio.sleep(1)\n",
        "        f *= i\n",
        "    print(f\"Task {name}: factorial({number}) = {f}\")\n",
        "    return f\n",
        "\n",
        "async def main():\n",
        "    # Schedule three calls *concurrently*:\n",
        "    L = await asyncio.gather(\n",
        "        factorial(\"A\", 2),\n",
        "        factorial(\"B\", 3),\n",
        "        factorial(\"C\", 4),\n",
        "    )\n",
        "    print(L)\n",
        "\n",
        "asyncio.run(main())"
      ]
    },
    {
      "cell_type": "code",
      "execution_count": null,
      "metadata": {
        "id": "KsIILBeWVsve",
        "outputId": "473b4ebb-1d7b-41f3-bfc4-fd9f4ada8dac"
      },
      "outputs": [
        {
          "ename": "ModuleNotFoundError",
          "evalue": "No module named 'aiohttp'",
          "output_type": "error",
          "traceback": [
            "\u001b[0;31m---------------------------------------------------------------------------\u001b[0m",
            "\u001b[0;31mModuleNotFoundError\u001b[0m                       Traceback (most recent call last)",
            "\u001b[0;32m/var/folders/d9/4p0nby3n6xx82h_3151pqhk00000gn/T/ipykernel_11153/1287450149.py\u001b[0m in \u001b[0;36m<module>\u001b[0;34m\u001b[0m\n\u001b[1;32m      2\u001b[0m \u001b[0;32mimport\u001b[0m \u001b[0murllib\u001b[0m\u001b[0;34m.\u001b[0m\u001b[0mrequest\u001b[0m\u001b[0;34m\u001b[0m\u001b[0;34m\u001b[0m\u001b[0m\n\u001b[1;32m      3\u001b[0m \u001b[0;32mimport\u001b[0m \u001b[0masyncio\u001b[0m\u001b[0;34m\u001b[0m\u001b[0;34m\u001b[0m\u001b[0m\n\u001b[0;32m----> 4\u001b[0;31m \u001b[0;32mimport\u001b[0m \u001b[0maiohttp\u001b[0m\u001b[0;34m\u001b[0m\u001b[0;34m\u001b[0m\u001b[0m\n\u001b[0m\u001b[1;32m      5\u001b[0m \u001b[0;34m\u001b[0m\u001b[0m\n\u001b[1;32m      6\u001b[0m \u001b[0;32masync\u001b[0m \u001b[0;32mdef\u001b[0m \u001b[0mfetch_async\u001b[0m\u001b[0;34m(\u001b[0m\u001b[0mpid\u001b[0m\u001b[0;34m)\u001b[0m\u001b[0;34m:\u001b[0m\u001b[0;34m\u001b[0m\u001b[0;34m\u001b[0m\u001b[0m\n",
            "\u001b[0;31mModuleNotFoundError\u001b[0m: No module named 'aiohttp'"
          ]
        },
        {
          "name": "stdout",
          "output_type": "stream",
          "text": [
            "task0: 11\n",
            "task1: 11\n",
            "task2: 11\n",
            "task3: 11\n",
            "task0: 12\n",
            "task1: 12\n",
            "task2: 12\n",
            "task3: 12\n",
            "task0: 13\n",
            "task1: 13\n",
            "task2: 13\n",
            "task3: 13\n",
            "task0: 14\n",
            "task1: 14\n",
            "task2: 14\n",
            "task3: 14\n"
          ]
        }
      ],
      "source": [
        "import time\n",
        "import urllib.request\n",
        "import asyncio\n",
        "import aiohttp\n",
        "\n",
        "async def fetch_async(pid):\n",
        "    print('Fetch async process {} started'.format(pid))\n",
        "    start = time.time()\n",
        "    response = await aiohttp.request('GET', URL)\n",
        "    datetime = response.headers.get('Date')\n",
        "\n",
        "    print('Process {}: {}, took: {:.2f} seconds'.format(\n",
        "        pid, datetime, time.time() - start))\n",
        "\n",
        "    response.close()\n",
        "    return datetime"
      ]
    },
    {
      "cell_type": "code",
      "execution_count": null,
      "metadata": {
        "id": "WmgeXkStVsve",
        "outputId": "0f7cd4ef-4ffa-409c-c903-367b7edffe16"
      },
      "outputs": [
        {
          "ename": "ModuleNotFoundError",
          "evalue": "No module named 'aiohttp'",
          "output_type": "error",
          "traceback": [
            "\u001b[0;31m---------------------------------------------------------------------------\u001b[0m",
            "\u001b[0;31mModuleNotFoundError\u001b[0m                       Traceback (most recent call last)",
            "\u001b[0;32m/var/folders/d9/4p0nby3n6xx82h_3151pqhk00000gn/T/ipykernel_11153/1287450149.py\u001b[0m in \u001b[0;36m<module>\u001b[0;34m\u001b[0m\n\u001b[1;32m      2\u001b[0m \u001b[0;32mimport\u001b[0m \u001b[0murllib\u001b[0m\u001b[0;34m.\u001b[0m\u001b[0mrequest\u001b[0m\u001b[0;34m\u001b[0m\u001b[0;34m\u001b[0m\u001b[0m\n\u001b[1;32m      3\u001b[0m \u001b[0;32mimport\u001b[0m \u001b[0masyncio\u001b[0m\u001b[0;34m\u001b[0m\u001b[0;34m\u001b[0m\u001b[0m\n\u001b[0;32m----> 4\u001b[0;31m \u001b[0;32mimport\u001b[0m \u001b[0maiohttp\u001b[0m\u001b[0;34m\u001b[0m\u001b[0;34m\u001b[0m\u001b[0m\n\u001b[0m\u001b[1;32m      5\u001b[0m \u001b[0;34m\u001b[0m\u001b[0m\n\u001b[1;32m      6\u001b[0m \u001b[0;32masync\u001b[0m \u001b[0;32mdef\u001b[0m \u001b[0mfetch_async\u001b[0m\u001b[0;34m(\u001b[0m\u001b[0mpid\u001b[0m\u001b[0;34m)\u001b[0m\u001b[0;34m:\u001b[0m\u001b[0;34m\u001b[0m\u001b[0;34m\u001b[0m\u001b[0m\n",
            "\u001b[0;31mModuleNotFoundError\u001b[0m: No module named 'aiohttp'"
          ]
        },
        {
          "name": "stdout",
          "output_type": "stream",
          "text": [
            "task0: 15\n",
            "task1: 15\n",
            "task2: 15\n",
            "task3: 15\n",
            "task0: 16\n",
            "task1: 16\n",
            "task2: 16\n",
            "task3: 16\n",
            "task0: 17\n",
            "task1: 17\n",
            "task2: 17\n",
            "task3: 17\n",
            "task0: 18\n",
            "task1: 18\n",
            "task2: 18\n",
            "task3: 18\n",
            "task0: 19\n",
            "task1: 19\n",
            "task2: 19\n",
            "task3: 19\n",
            "task0: 20\n",
            "task1: 20\n",
            "task2: 20\n",
            "task3: 20\n",
            "task0: 21\n",
            "task1: 21\n",
            "task2: 21\n",
            "task3: 21\n",
            "task0: 22\n",
            "task1: 22\n",
            "task2: 22\n",
            "task3: 22\n",
            "task0: 23\n",
            "task1: 23\n",
            "task2: 23\n",
            "task3: 23\n",
            "task0: 24\n",
            "task1: 24\n",
            "task2: 24\n",
            "task3: 24\n",
            "task0: 25\n",
            "task1: 25\n",
            "task2: 25\n",
            "task3: 25\n",
            "task0: 26\n",
            "task1: 26\n",
            "task2: 26\n",
            "task3: 26\n",
            "task0: 27\n",
            "task1: 27\n",
            "task2: 27\n",
            "task3: 27\n",
            "task0: 28\n",
            "task1: 28\n",
            "task2: 28\n",
            "task3: 28\n",
            "task0: 29\n",
            "task1: 29\n",
            "task2: 29\n",
            "task3: 29\n",
            "task0: 30\n",
            "task1: 30\n",
            "task2: 30\n",
            "task3: 30\n",
            "task0: 31\n",
            "task1: 31\n",
            "task2: 31\n",
            "task3: 31\n",
            "task0: 32\n",
            "task1: 32\n",
            "task2: 32\n",
            "task3: 32\n",
            "task0: 33\n",
            "task1: 33\n",
            "task2: 33\n",
            "task3: 33\n",
            "task0: 34\n",
            "task1: 34\n",
            "task2: 34\n",
            "task3: 34\n",
            "task0: 35\n",
            "task1: 35\n",
            "task2: 35\n",
            "task3: 35\n",
            "task0: 36\n",
            "task1: 36\n",
            "task2: 36\n",
            "task3: 36\n",
            "task0: 37\n",
            "task1: 37\n",
            "task2: 37\n",
            "task3: 37\n",
            "task0: 38\n",
            "task1: 38\n",
            "task2: 38\n",
            "task3: 38\n",
            "task0: 39\n",
            "task1: 39\n",
            "task2: 39\n",
            "task3: 39\n",
            "task0: 40\n",
            "task1: 40\n",
            "task2: 40\n",
            "task3: 40\n",
            "task0: 41\n",
            "task1: 41\n",
            "task2: 41\n",
            "task3: 41\n",
            "task0: 42\n",
            "task1: 42\n",
            "task2: 42\n",
            "task3: 42\n",
            "task0: 43\n",
            "task1: 43\n",
            "task2: 43\n",
            "task3: 43\n",
            "task0: 44\n",
            "task1: 44\n",
            "task2: 44\n",
            "task3: 44\n",
            "task0: 45\n",
            "task1: 45\n",
            "task2: 45\n",
            "task3: 45\n",
            "task0: 46\n",
            "task1: 46\n",
            "task2: 46\n",
            "task3: 46\n",
            "task0: 47\n",
            "task1: 47\n",
            "task2: 47\n",
            "task3: 47\n",
            "task0: 48\n",
            "task1: 48\n",
            "task2: 48\n",
            "task3: 48\n",
            "task0: 49\n",
            "task1: 49\n",
            "task2: 49\n",
            "task3: 49\n",
            "task0: 50\n",
            "task1: 50\n",
            "task2: 50\n",
            "task3: 50\n",
            "task0: 51\n",
            "task1: 51\n",
            "task2: 51\n",
            "task3: 51\n",
            "task0: 52\n",
            "task1: 52\n",
            "task2: 52\n",
            "task3: 52\n",
            "task0: 53\n",
            "task1: 53\n",
            "task2: 53\n",
            "task3: 53\n",
            "task0: 54\n",
            "task1: 54\n",
            "task2: 54\n",
            "task3: 54\n",
            "task0: 55\n",
            "task1: 55\n",
            "task2: 55\n",
            "task3: 55\n",
            "task0: 56\n",
            "task1: 56\n",
            "task2: 56\n",
            "task3: 56\n",
            "task0: 57\n",
            "task1: 57\n",
            "task2: 57\n",
            "task3: 57\n",
            "task0: 58\n",
            "task1: 58\n",
            "task2: 58\n",
            "task3: 58\n",
            "task0: 59\n",
            "task1: 59\n",
            "task2: 59\n",
            "task3: 59\n",
            "task0: 60\n",
            "task1: 60\n",
            "task2: 60\n",
            "task3: 60\n",
            "task0: 61\n",
            "task1: 61\n",
            "task2: 61\n",
            "task3: 61\n",
            "task0: 62\n",
            "task1: 62\n",
            "task2: 62\n",
            "task3: 62\n",
            "task0: 63\n",
            "task1: 63\n",
            "task2: 63\n",
            "task3: 63\n",
            "task0: 64\n",
            "task1: 64\n",
            "task2: 64\n",
            "task3: 64\n",
            "task0: 65\n",
            "task1: 65\n",
            "task2: 65\n",
            "task3: 65\n",
            "task0: 66\n",
            "task1: 66\n",
            "task2: 66\n",
            "task3: 66\n",
            "task0: 67\n",
            "task1: 67\n",
            "task2: 67\n",
            "task3: 67\n",
            "task0: 68\n",
            "task1: 68\n",
            "task2: 68\n",
            "task3: 68\n",
            "task0: 69\n",
            "task1: 69\n",
            "task2: 69\n",
            "task3: 69\n",
            "task0: 70\n",
            "task1: 70\n",
            "task2: 70\n",
            "task3: 70\n",
            "task0: 71\n",
            "task1: 71\n",
            "task2: 71\n",
            "task3: 71\n",
            "task0: 72\n",
            "task1: 72\n",
            "task2: 72\n",
            "task3: 72\n",
            "task0: 73\n",
            "task1: 73\n",
            "task2: 73\n",
            "task3: 73\n",
            "task0: 74\n",
            "task1: 74\n",
            "task2: 74\n",
            "task3: 74\n",
            "task0: 75\n",
            "task1: 75\n",
            "task2: 75\n",
            "task3: 75\n",
            "task0: 76\n",
            "task1: 76\n",
            "task2: 76\n",
            "task3: 76\n",
            "task0: 77\n",
            "task1: 77\n",
            "task2: 77\n",
            "task3: 77\n",
            "task0: 78\n",
            "task1: 78\n",
            "task2: 78\n",
            "task3: 78\n",
            "task0: 79\n",
            "task1: 79\n",
            "task2: 79\n",
            "task3: 79\n",
            "task0: 80\n",
            "task1: 80\n",
            "task2: 80\n",
            "task3: 80\n",
            "task0: 81\n",
            "task1: 81\n",
            "task2: 81\n",
            "task3: 81\n",
            "task0: 82\n",
            "task1: 82\n",
            "task2: 82\n",
            "task3: 82\n",
            "task0: 83\n",
            "task1: 83\n",
            "task2: 83\n",
            "task3: 83\n",
            "task0: 84\n",
            "task1: 84\n",
            "task2: 84\n",
            "task3: 84\n",
            "task0: 85\n",
            "task1: 85\n",
            "task2: 85\n",
            "task3: 85\n",
            "task0: 86\n",
            "task1: 86\n",
            "task2: 86\n",
            "task3: 86\n",
            "task0: 87\n",
            "task1: 87\n",
            "task2: 87\n",
            "task3: 87\n",
            "task0: 88\n",
            "task1: 88\n",
            "task2: 88\n",
            "task3: 88\n",
            "task0: 89\n",
            "task1: 89\n",
            "task2: 89\n",
            "task3: 89\n",
            "task0: 90\n",
            "task1: 90\n",
            "task2: 90\n",
            "task3: 90\n",
            "task0: 91\n",
            "task1: 91\n",
            "task2: 91\n",
            "task3: 91\n",
            "task0: 92\n",
            "task1: 92\n",
            "task2: 92\n",
            "task3: 92\n",
            "task0: 93\n",
            "task1: 93\n",
            "task2: 93\n",
            "task3: 93\n",
            "task0: 94\n",
            "task1: 94\n",
            "task2: 94\n",
            "task3: 94\n",
            "task0: 95\n",
            "task1: 95\n",
            "task2: 95\n",
            "task3: 95\n",
            "task0: 96\n",
            "task1: 96\n",
            "task2: 96\n",
            "task3: 96\n",
            "task0: 97\n",
            "task1: 97\n",
            "task2: 97\n",
            "task3: 97\n",
            "task0: 98\n",
            "task1: 98\n",
            "task2: 98\n",
            "task3: 98\n",
            "task0: 99\n",
            "task1: 99\n",
            "task2: 99\n",
            "task3: 99\n",
            "task0 is Done\n",
            "task1 is Done\n",
            "task2 is Done\n",
            "task3 is Done\n"
          ]
        }
      ],
      "source": [
        "import time\n",
        "import urllib.request\n",
        "import asyncio\n",
        "import aiohttp\n",
        "\n",
        "async def fetch_async(pid):\n",
        "    print('Fetch async process {} started'.format(pid))\n",
        "    start = time.time()\n",
        "    response = await aiohttp.request('GET', URL)\n",
        "    datetime = response.headers.get('Date')\n",
        "\n",
        "    print('Process {}: {}, took: {:.2f} seconds'.format(\n",
        "        pid, datetime, time.time() - start))\n",
        "\n",
        "    response.close()\n",
        "    return datetime"
      ]
    },
    {
      "cell_type": "code",
      "execution_count": null,
      "metadata": {
        "id": "gmC-qgR5Vsve"
      },
      "outputs": [],
      "source": [
        "# all_usages.py\n",
        "import asyncio\n",
        "import cx_Oracle_async\n",
        "\n",
        "async def main():\n",
        "    loop = asyncio.get_running_loop()\n",
        "    oracle_pool = await cx_Oracle_async.create_pool(\n",
        "        host='localhost',\n",
        "        port='1521',\n",
        "        user='user',\n",
        "        password='password',\n",
        "        db='orcl',\n",
        "        loop=loop,\n",
        "        autocommit=False,  # this option has no use.\n",
        "        minsize = 2,\n",
        "        maxsize = 4,\n",
        "    )\n",
        "\n",
        "    async with oracle_pool.acquire() as connection:\n",
        "        async with connection.cursor() as cursor:\n",
        "            # single fetch\n",
        "            sql_1 = \"SELECT * FROM SCOTT.DEPT WHERE deptno = :a\"\n",
        "            await cursor.execute(sql_1 , (10 , ))\n",
        "            print(await cursor.fetchone())\n",
        "\n",
        "            # multiple inert\n",
        "            sql_2 = \"INSERT INTO SCOTT.DEPT(deptno , dname) VALUES (:a , :b)\"\n",
        "            sql_2_data = [\n",
        "                [60 , \"Hello\"],\n",
        "                [70 , \"World\"],\n",
        "            ]\n",
        "            await cursor.executemany(sql_2 , sql_2_data)\n",
        "            await connection.commit()\n",
        "\n",
        "            # multiple fetch\n",
        "            sql_3 = \"SELECT * FROM SCOTT.DEPT WHERE deptno >= :a\"\n",
        "            await cursor.execute(sql_3 , (60 , ))\n",
        "            print(await cursor.fetchall())\n",
        "\n",
        "if __name__ == '__main__':\n",
        "    asyncio.run(main())"
      ]
    },
    {
      "cell_type": "code",
      "execution_count": null,
      "metadata": {
        "id": "awfyHhH_Vsve"
      },
      "outputs": [],
      "source": [
        "#End"
      ]
    }
  ],
  "metadata": {
    "kernelspec": {
      "display_name": "Python 3 (ipykernel)",
      "language": "python",
      "name": "python3"
    },
    "language_info": {
      "codemirror_mode": {
        "name": "ipython",
        "version": 3
      },
      "file_extension": ".py",
      "mimetype": "text/x-python",
      "name": "python",
      "nbconvert_exporter": "python",
      "pygments_lexer": "ipython3",
      "version": "3.9.13"
    },
    "colab": {
      "provenance": [],
      "toc_visible": true,
      "include_colab_link": true
    }
  },
  "nbformat": 4,
  "nbformat_minor": 0
}