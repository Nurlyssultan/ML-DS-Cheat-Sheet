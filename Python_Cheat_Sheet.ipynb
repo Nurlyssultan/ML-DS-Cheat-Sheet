{
  "cells": [
    {
      "cell_type": "markdown",
      "metadata": {
        "id": "view-in-github",
        "colab_type": "text"
      },
      "source": [
        "<a href=\"https://colab.research.google.com/github/Nurlyssultan/ML-DS-Cheat-Sheet/blob/main/Python_Cheat_Sheet.ipynb\" target=\"_parent\"><img src=\"https://colab.research.google.com/assets/colab-badge.svg\" alt=\"Open In Colab\"/></a>"
      ]
    },
    {
      "cell_type": "markdown",
      "metadata": {
        "id": "lGNHy6kdVsu8"
      },
      "source": [
        "# Python Cheat Sheet\n",
        "### Python was named for the British comedy troupe Monty Python."
      ]
    },
    {
      "cell_type": "markdown",
      "source": [
        "[Another Python Cheat Sheet](https://github.com/gto76/python-cheatsheet)"
      ],
      "metadata": {
        "id": "8zA_5-6IxISJ"
      }
    },
    {
      "cell_type": "markdown",
      "source": [
        "# Installation Python in Apple Macbook\n",
        "## Installing Homebrew\n",
        "#### `/usr/bin/ruby -e \"$(curl -fsSL https://raw.githubusercontent.com/Homebrew/install/master/install)\"`\n",
        "\n",
        "##Install Python\n",
        "`brew install python`\n",
        "\n",
        "`brew install openssl readline sqlite3 xz zlib`\n",
        "\n",
        "`brew install pyenv`\n",
        "\n",
        "`python versions`\n",
        "\n",
        "#### `install latest`\n",
        "#### `pyenv install 3.11.1`\n",
        "#### `pyenv global 3.11.1`\n",
        "#### `pyenv versions`\n",
        "#### `close terminal`\n",
        "#### `python`\n",
        "#### `pipenv --python 3.11.1 install`"
      ],
      "metadata": {
        "id": "FqSA1nnAWpSM"
      }
    },
    {
      "cell_type": "markdown",
      "source": [
        "# Virtual environment\n",
        "\n",
        "## Installation virtual environment to pc (Macbook) -> `venv`\n",
        "\n",
        "`python3 -m pip install virtualenv`\n",
        "\n",
        "## Creation of venv and activation by Terminal\n",
        "\n",
        "### Choose a location for your virtual environment. This can be any directory on your computer.\n",
        "\n",
        "`mkdir new-python-project`\n",
        "`cd new-python-project`\n",
        "\n",
        "### Creating a python file\n",
        "`touch run.py`\n",
        "\n",
        "### Creating a venv in project directory\n",
        "`python3 -m venv my_venv`\n",
        "\n",
        "### Activate your virtual environment\n",
        "`source my_venv/bin/activate`\n",
        "\n",
        "### Deactivate your virtual environment\n",
        "`deactivate`\n",
        "\n",
        "### Checking the version of python and pip\n",
        "#### `which python`\n",
        "#### `which pip`\n",
        "\n",
        "### Running of a python file\n",
        "`python run.py`\n",
        "\n",
        "###  Copies all packages currently installed into the file\n",
        "#### `pip freeze > requirements.txt`\n",
        "#### `pip install -r requirements.txt`\n",
        "\n",
        "### Working with Git -> Python project\n",
        "#### `git clone https://github.com/username/your-awesome-code.git`\n",
        "#### `cd your-awesome-code`\n",
        "#### `source venv/bin/activate`\n",
        "#### `pip install -r requirements.txt`\n",
        "#### `python run.py`\n"
      ],
      "metadata": {
        "id": "PjakUGYeXm1L"
      }
    },
    {
      "cell_type": "markdown",
      "source": [
        "# Numbers\n",
        "## Python's main types for Numbers is int and float (or integers and floating point numbers)"
      ],
      "metadata": {
        "id": "HhGqpSVodAVK"
      }
    },
    {
      "cell_type": "markdown",
      "source": [
        "## Type"
      ],
      "metadata": {
        "id": "03uxlSVziqnp"
      }
    },
    {
      "cell_type": "code",
      "execution_count": 48,
      "metadata": {
        "colab": {
          "base_uri": "https://localhost:8080/"
        },
        "id": "M0caUiPfVsvE",
        "outputId": "e9e13698-2381-44ed-805b-7496117e5dcd"
      },
      "outputs": [
        {
          "output_type": "execute_result",
          "data": {
            "text/plain": [
              "float"
            ]
          },
          "metadata": {},
          "execution_count": 48
        }
      ],
      "source": [
        "type(None)# NoneType\n",
        "type(1)   # int\n",
        "type(-10) # int\n",
        "type(0)   # int\n",
        "type(0.0) # float\n",
        "type(2.2) # float\n",
        "type(4E2) # float - 4*10 to the power of 2"
      ]
    },
    {
      "cell_type": "markdown",
      "source": [
        "## Arithmetic"
      ],
      "metadata": {
        "id": "nCAJzw3fis9b"
      }
    },
    {
      "cell_type": "code",
      "execution_count": 2,
      "metadata": {
        "colab": {
          "base_uri": "https://localhost:8080/"
        },
        "id": "bpHHFmSSVsvF",
        "outputId": "c6c14cff-5e26-4404-a281-f9a3b200d1fd"
      },
      "outputs": [
        {
          "output_type": "execute_result",
          "data": {
            "text/plain": [
              "8"
            ]
          },
          "metadata": {},
          "execution_count": 2
        }
      ],
      "source": [
        "# Arithmetic\n",
        "10 + 3  # 13\n",
        "10 - 3  # 7\n",
        "10 * 3  # 30\n",
        "10 ** 3 # 1000\n",
        "10 / 3  # 3.3333333333333335\n",
        "10 // 3 # 3 --> floor division - no decimals and returns an int\n",
        "10 % 3  # 1 --> modulo operator - return the reminder. Good for deciding if number is even or odd\n",
        "2 ** 3  # 8 --> power"
      ]
    },
    {
      "cell_type": "markdown",
      "source": [
        "## Basic Functions"
      ],
      "metadata": {
        "id": "hWhtF4aoizMF"
      }
    },
    {
      "cell_type": "code",
      "execution_count": 3,
      "metadata": {
        "colab": {
          "base_uri": "https://localhost:8080/"
        },
        "id": "SpkZrekGVsvG",
        "outputId": "c514936d-e9af-4afe-c426-13c974eba250"
      },
      "outputs": [
        {
          "output_type": "execute_result",
          "data": {
            "text/plain": [
              "512"
            ]
          },
          "metadata": {},
          "execution_count": 3
        }
      ],
      "source": [
        "# Basic Functions\n",
        "pow(5, 2)      # 25 --> like doing 5**2\n",
        "abs(-50)       # 50\n",
        "round(5.46)    # 5\n",
        "round(5.468, 2)# 5.47 --> round to nth digit\n",
        "bin(512)       # '0b1000000000' -->  binary format\n",
        "hex(512)       # '0x200' --> hexadecimal format\n",
        "int(0x200)     # back to int format"
      ]
    },
    {
      "cell_type": "markdown",
      "source": [
        "## Converting Strings to Numbers"
      ],
      "metadata": {
        "id": "FkL5TBgni3w3"
      }
    },
    {
      "cell_type": "code",
      "execution_count": 49,
      "metadata": {
        "colab": {
          "base_uri": "https://localhost:8080/"
        },
        "id": "tHJV3qdKVsvG",
        "outputId": "3bf74413-b933-4e53-b7d8-a3c8b29be5e6"
      },
      "outputs": [
        {
          "name": "stdout",
          "output_type": "stream",
          "text": [
            "How old are you?78\n",
            "What is the value of pi?3.14\n"
          ]
        },
        {
          "output_type": "execute_result",
          "data": {
            "text/plain": [
              "3.14"
            ]
          },
          "metadata": {},
          "execution_count": 49
        }
      ],
      "source": [
        "# Converting Strings to Numbers\n",
        "age = input(\"How old are you?\")\n",
        "age = int(age)\n",
        "pi = input(\"What is the value of pi?\")\n",
        "pi = float(pi)\n",
        "pi"
      ]
    },
    {
      "cell_type": "code",
      "execution_count": 5,
      "metadata": {
        "id": "MSQw9hJ_VsvG"
      },
      "outputs": [],
      "source": [
        "ac, bc = 14, '24'\n",
        "ab = bb = '25'"
      ]
    },
    {
      "cell_type": "markdown",
      "metadata": {
        "id": "vJcsm3BMVsvH"
      },
      "source": [
        "# Strings\n",
        "\n",
        "### strings in python are stored as sequences of letters in memory"
      ]
    },
    {
      "cell_type": "code",
      "execution_count": 10,
      "metadata": {
        "colab": {
          "base_uri": "https://localhost:8080/",
          "height": 69
        },
        "id": "HCuDRdXyVsvH",
        "outputId": "0ba5cd03-b84b-46f9-816c-2ed77aa712c0"
      },
      "outputs": [
        {
          "output_type": "stream",
          "name": "stdout",
          "text": [
            "123456\n",
            "7890\n"
          ]
        },
        {
          "output_type": "execute_result",
          "data": {
            "text/plain": [
              "'**********'"
            ],
            "application/vnd.google.colaboratory.intrinsic+json": {
              "type": "string"
            }
          },
          "metadata": {},
          "execution_count": 10
        }
      ],
      "source": [
        "type('Hellloooooo') # str\n",
        "\n",
        "'I\\'m thirsty' # special character\n",
        "\"I'm thirsty\"\n",
        "\"\\n\" # new line\n",
        "\"\\t\" # adds a tab\n",
        "\n",
        "print('123456\\n7890')\n",
        "\n",
        "'Hey you!'[4] # y\n",
        "name = 'Nurlyssultan'\n",
        "name[4]     # y\n",
        "# Slicing creates a substring from extracting elements from string\n",
        "name[:]     # Nurlyssultan\n",
        "name[1:]    # urlyssultan\n",
        "name[:1]    # N\n",
        "name[-1]    # n\n",
        "name[::1]   # Nurlyssultan\n",
        "name[::-1]  # natlussylruN\n",
        "name[0:10:2]# Nrysl\n",
        "# : is called slicing and has the format [ start : end : step ]\n",
        "\n",
        "'Hi there ' + 'Timmy' # 'Hi there Timmy' --> This is called string concatenation\n",
        "'*'*10 # **********"
      ]
    },
    {
      "cell_type": "markdown",
      "source": [
        "## Basic Methods"
      ],
      "metadata": {
        "id": "4mVmLVNbjQbv"
      }
    },
    {
      "cell_type": "code",
      "execution_count": 50,
      "metadata": {
        "colab": {
          "base_uri": "https://localhost:8080/"
        },
        "id": "gASXZ0sCVsvI",
        "outputId": "3a3fd66a-e695-4685-d6a5-78e2f0845642"
      },
      "outputs": [
        {
          "output_type": "execute_result",
          "data": {
            "text/plain": [
              "True"
            ]
          },
          "metadata": {},
          "execution_count": 50
        }
      ],
      "source": [
        "# Basic Methods\n",
        "'  I am alone '.strip()               # 'I am alone' --> Strips all whitespace characters from both ends.\n",
        "'On an island'.strip('d')             # 'On an islan' --> # Strips all passed characters from both ends.\n",
        "'but life is good!'.split()           # ['but', 'life', 'is', 'good!']\n",
        "'Help me'.replace('me', 'you')        # 'Help you' --> Replaces first with second param\n",
        "'Need to make fire'.startswith('Need')# True\n",
        "'and cook rice'.endswith('rice')      # True\n",
        "'still there?'.upper()                # STILL THERE?\n",
        "'HELLO?!'.lower()                     # hello?!\n",
        "'ok, I am done.'.capitalize()         # 'Ok, I am done.'\n",
        "'oh hi there'.count('e')              # 2\n",
        "'bye bye'.index('e')                  # 2\n",
        "'oh hi there'.find('i')               # 4 --> returns the starting index position of the first occurrence\n",
        "'oh hi there'.find('a')               # -1\n",
        "'oh hi therea'.index('a')             # Raises ValueError\n",
        "'hello World'.upper()                 #'HELLO WORLD'\n",
        "\"123\".isdigit()                       # True  check str for all chars are digits\n",
        "'hello world'.capitalize()            #'Hello world'\n",
        "'abcd'.isalpha()                      #False  #check str for all chars are letters\n",
        "'a ' in 'Aa '                         # Condition statement use"
      ]
    },
    {
      "cell_type": "markdown",
      "source": [
        "## String Formatting"
      ],
      "metadata": {
        "id": "piHqA3TmjS4L"
      }
    },
    {
      "cell_type": "code",
      "execution_count": 52,
      "metadata": {
        "colab": {
          "base_uri": "https://localhost:8080/"
        },
        "id": "FEa27bzLVsvI",
        "outputId": "2288c652-aeae-43a1-f489-2385ffe3d583"
      },
      "outputs": [
        {
          "output_type": "stream",
          "name": "stdout",
          "text": [
            "Hello there Nurs and Sunny\n",
            "Hello there Nurs and Sunny\n",
            "Hello there Nurs and Sunny\n",
            "Hello World asd bsd\n",
            "The result is 10111.5650\n"
          ]
        }
      ],
      "source": [
        "# String Formatting\n",
        "name1 = 'Nurs'\n",
        "name2 = 'Sunny'\n",
        "print(f'Hello there {name1} and {name2}')       # Hello there Andrei and Sunny - Newer way to do things as of python 3.6\n",
        "print('Hello there {} and {}'.format(name1, name2))# Hello there Andrei and Sunny\n",
        "print('Hello there %s and %s' %(name1, name2))  # Hello there Andrei and Sunny --> you can also use %d, %f, %r for integers, floats, string representations of objects respectively\n",
        "print('Hello World {a} {b}'.format(a='asd',b='bsd'))\n",
        "result = 10111.564971751\n",
        "print('The result is {r:1.4f}'.format(r=result))"
      ]
    },
    {
      "cell_type": "markdown",
      "source": [
        "## Palindrome check"
      ],
      "metadata": {
        "id": "MGGf32ANjXKt"
      }
    },
    {
      "cell_type": "code",
      "execution_count": 53,
      "metadata": {
        "colab": {
          "base_uri": "https://localhost:8080/"
        },
        "id": "M9jsqgC7VsvI",
        "outputId": "632b08df-1633-47cf-fb63-87dcf9c3ce78"
      },
      "outputs": [
        {
          "output_type": "stream",
          "name": "stdout",
          "text": [
            "True\n"
          ]
        }
      ],
      "source": [
        "# Palindrome check\n",
        "word = 'reviver'\n",
        "p = bool(word.find(word[::-1]) + 1)\n",
        "print(p) # True"
      ]
    },
    {
      "cell_type": "markdown",
      "source": [
        "# Mutable vs immutable objects"
      ],
      "metadata": {
        "id": "S2RnDd1pe_9b"
      }
    },
    {
      "cell_type": "code",
      "execution_count": 16,
      "metadata": {
        "colab": {
          "base_uri": "https://localhost:8080/"
        },
        "id": "MDbLYoAXVsvJ",
        "outputId": "464b384e-83d7-483c-a524-21c892527e34"
      },
      "outputs": [
        {
          "output_type": "stream",
          "name": "stdout",
          "text": [
            "List vs Tuples\n",
            "(1, 2, 3)\n",
            "138035720286976\n",
            "138035719964544\n",
            "138036008754992\n",
            "138035719964544\n",
            "int\n",
            "138036149651056\n",
            "138036149651088\n",
            "String\n",
            "138036148457712\n",
            "138036148457712\n",
            "True\n",
            "138035736009712\n",
            "138036148457712\n",
            "False\n"
          ]
        }
      ],
      "source": [
        "# identity - id - never changes one it has been created, objects address in memory of RAM\n",
        "# the is operator compares the identity of two objects\n",
        "# mutable objects: list, dictionary, set and user-defined classes\n",
        "# immutable objects: int, float, decimal, bool,string,tuple and range\n",
        "# List vs Tuples\n",
        "print('List vs Tuples')\n",
        "t = (1,2,3) # t[0] = 0 won't work because it is ummutable\n",
        "s = [1,2,3]\n",
        "print(t)\n",
        "print(id(t))\n",
        "print(id(s))\n",
        "t += (4,5)\n",
        "s += [4,5]\n",
        "print(id(t)) # id is changed\n",
        "print(id(s)) # id won't change in that case\n",
        "# int\n",
        "print('int')\n",
        "i = 45\n",
        "print(id(i))\n",
        "i += 1\n",
        "print(id(i))\n",
        "# String\n",
        "print('String')\n",
        "text = 'abc'\n",
        "text2 = \"abc\"\n",
        "print(id(text))\n",
        "print(id(text2))\n",
        "print(text is text2)\n",
        "text += 'd'\n",
        "print(id(text))\n",
        "print(id(text2))\n",
        "print(text is text2)"
      ]
    },
    {
      "cell_type": "markdown",
      "metadata": {
        "id": "vM3ywF7nVsvJ"
      },
      "source": [
        "# Boolean\n",
        "### True or False. Used in a lot of comparison and logical operations in Python"
      ]
    },
    {
      "cell_type": "code",
      "source": [
        "bool(True)\n",
        "bool(False)"
      ],
      "metadata": {
        "colab": {
          "base_uri": "https://localhost:8080/"
        },
        "id": "fx-aOfh9jb_i",
        "outputId": "6f87c93e-3bce-4ad3-9b3e-9fa75b30c8e5"
      },
      "execution_count": 54,
      "outputs": [
        {
          "output_type": "execute_result",
          "data": {
            "text/plain": [
              "False"
            ]
          },
          "metadata": {},
          "execution_count": 54
        }
      ]
    },
    {
      "cell_type": "markdown",
      "source": [
        "##Falsy"
      ],
      "metadata": {
        "id": "FBcYqN9AjfSM"
      }
    },
    {
      "cell_type": "code",
      "execution_count": 55,
      "metadata": {
        "colab": {
          "base_uri": "https://localhost:8080/"
        },
        "id": "isYuHJ_ZVsvJ",
        "outputId": "4b7e56bb-f74d-4e64-94ea-eae74195a509"
      },
      "outputs": [
        {
          "output_type": "stream",
          "name": "stdout",
          "text": [
            "False\n",
            "False\n",
            "False\n",
            "False\n",
            "False\n",
            "False\n",
            "False\n",
            "False\n",
            "False\n",
            "False\n"
          ]
        }
      ],
      "source": [
        "#Falsy\n",
        "# all of the below evaluate to False. Everything else will evaluate to True in Python.\n",
        "print(bool(None))\n",
        "print(bool(False))\n",
        "print(bool(0))\n",
        "print(bool(0.0))\n",
        "print(bool([]))\n",
        "print(bool({}))\n",
        "print(bool(()))\n",
        "print(bool(''))\n",
        "print(bool(range(0)))\n",
        "print(bool(set()))\n",
        "\n",
        "# See Logical Operators and Comparison Operators section for more on booleans."
      ]
    },
    {
      "cell_type": "code",
      "execution_count": 56,
      "metadata": {
        "colab": {
          "base_uri": "https://localhost:8080/"
        },
        "id": "tR9lC7rOVsvK",
        "outputId": "596d3d77-3f9f-427c-ea1c-46472d041930"
      },
      "outputs": [
        {
          "output_type": "stream",
          "name": "stdout",
          "text": [
            "found\n",
            "1\n"
          ]
        }
      ],
      "source": [
        "### Checking the presence of the 'word' in string object\n",
        "x = 'Hello'\n",
        "if 'ell' in x:\n",
        "    print('found')\n",
        "print(x.find('ell'))"
      ]
    },
    {
      "cell_type": "markdown",
      "metadata": {
        "id": "Ang_GNeCVsvK"
      },
      "source": [
        "# Lists\n",
        "\n",
        "### Unlike strings, lists are mutable sequences in python"
      ]
    },
    {
      "cell_type": "code",
      "execution_count": 57,
      "metadata": {
        "colab": {
          "base_uri": "https://localhost:8080/"
        },
        "id": "voL_L_BMVsvK",
        "outputId": "0cf30258-6de4-4369-899b-b7620e85993f"
      },
      "outputs": [
        {
          "output_type": "execute_result",
          "data": {
            "text/plain": [
              "[1, '3']"
            ]
          },
          "metadata": {},
          "execution_count": 57
        }
      ],
      "source": [
        "my_list = [1, 2, '3', True]# We assume this list won't mutate for each example below\n",
        "len(my_list)               # 4\n",
        "my_list.index('3')         # 2\n",
        "my_list.count(2)           # 1 --> count how many times 2 appears\n",
        "\n",
        "# : is called slicing and has the format [ start : end : step ]\n",
        "\n",
        "my_list[3]                 # True\n",
        "my_list[1:]                # [2, '3', True]\n",
        "my_list[:1]                # [1]\n",
        "my_list[-1]                # True\n",
        "my_list[::1]               # [1, 2, '3', True]\n",
        "my_list[::-1]              # [True, '3', 2, 1]\n",
        "my_list[0:3:2]             # [1, '3']"
      ]
    },
    {
      "cell_type": "markdown",
      "source": [
        "## Add to List"
      ],
      "metadata": {
        "id": "zuf7E-y2jnPT"
      }
    },
    {
      "cell_type": "code",
      "execution_count": 60,
      "metadata": {
        "colab": {
          "base_uri": "https://localhost:8080/",
          "height": 35
        },
        "id": "pCj4cbj-VsvK",
        "outputId": "c568cef0-278e-4a91-f604-fa527a8295fd"
      },
      "outputs": [
        {
          "output_type": "execute_result",
          "data": {
            "text/plain": [
              "'Hello There G'"
            ],
            "application/vnd.google.colaboratory.intrinsic+json": {
              "type": "string"
            }
          },
          "metadata": {},
          "execution_count": 60
        }
      ],
      "source": [
        "# Add to List\n",
        "my_list * 2                # [1, 2, '3', True, 1, 2, '3', True]\n",
        "my_list + [100]            # [1, 2, '3', True, 100] --> doesn't mutate original list, creates new one\n",
        "my_list.append(100)        # None --> Mutates original list to [1, 2, '3', True, 100]          # Or: <list> += [<el>]\n",
        "my_list.extend([100, 200]) # None --> Mutates original list to [1, 2, '3', True, 100, 200]\n",
        "my_list.insert(2, '!!!')   # None -->  [1, 2, '!!!', '3', True] - Inserts item at index and moves the rest to the right.\n",
        "\n",
        "' '.join(['Hello','There','G'])# 'Hello There' --> Joins elements using string as separator."
      ]
    },
    {
      "cell_type": "markdown",
      "source": [
        "## Copy a List"
      ],
      "metadata": {
        "id": "M-X8b1FIjpDb"
      }
    },
    {
      "cell_type": "code",
      "execution_count": 59,
      "metadata": {
        "colab": {
          "base_uri": "https://localhost:8080/"
        },
        "id": "bL-Wc7iLVsvL",
        "outputId": "1264dadf-9720-4f15-8902-82a8806c92be"
      },
      "outputs": [
        {
          "output_type": "execute_result",
          "data": {
            "text/plain": [
              "['apples', 'pears', 'oranges']"
            ]
          },
          "metadata": {},
          "execution_count": 59
        }
      ],
      "source": [
        "# Copy a List\n",
        "basket = ['apples', 'pears', 'oranges']\n",
        "new_basket = basket.copy()\n",
        "new_basket2 = basket[:]\n",
        "new_basket2"
      ]
    },
    {
      "cell_type": "markdown",
      "source": [
        "## Remove from List"
      ],
      "metadata": {
        "id": "q-8y_9nljqpx"
      }
    },
    {
      "cell_type": "code",
      "execution_count": 61,
      "metadata": {
        "id": "4tfV_DzHVsvL"
      },
      "outputs": [],
      "source": [
        "# Remove from List\n",
        "[1,2,3].pop()    # 3 --> mutates original list, default index in the pop method is -1 (the last item)\n",
        "[1,2,3].pop(1)   # 2 --> mutates original list\n",
        "[1,2,3].remove(2)# None --> [1,3] Removes first occurrence of item or raises ValueError.\n",
        "[1,2,3].clear()  # None --> mutates original list and removes all items: []\n",
        "del [1,2,3][0]   # None --> removes item on index 0 or raises IndexError"
      ]
    },
    {
      "cell_type": "markdown",
      "source": [
        "## Ordering"
      ],
      "metadata": {
        "id": "6sY6r2iBjskh"
      }
    },
    {
      "cell_type": "code",
      "execution_count": 62,
      "metadata": {
        "colab": {
          "base_uri": "https://localhost:8080/"
        },
        "id": "QWFWbC0RVsvL",
        "outputId": "be92cc3d-9f54-4103-b8d8-a4308253b5b3"
      },
      "outputs": [
        {
          "output_type": "execute_result",
          "data": {
            "text/plain": [
              "[3, 5, 2, 1]"
            ]
          },
          "metadata": {},
          "execution_count": 62
        }
      ],
      "source": [
        "# Ordering\n",
        "[1,2,5,3].sort()         # None --> Mutates list to [1, 2, 3, 5]\n",
        "[1,2,5,3].sort(reverse=True) # None --> Mutates list to [5, 3, 2, 1]\n",
        "[1,2,5,3].reverse()      # None --> Mutates list to a reverse lsit with result [3, 5, 2, 1]\n",
        "sorted([1,2,5,3])        # [1, 2, 3, 5] --> new list created\n",
        "my_list = [(4,1),(2,4),(2,5),(1,6),(8,9)]\n",
        "sorted(my_list,key=lambda x: int(x[0])) # [(1, 6), (2, 4), (2, 5), (4, 1), (8, 9)] --> sort the list by 1st (0th index) value of the tuple\n",
        "list(reversed([1,2,5,3]))# [3, 5, 2, 1] --> reversed() returns an iterator"
      ]
    },
    {
      "cell_type": "markdown",
      "source": [
        "## Useful operations"
      ],
      "metadata": {
        "id": "zMVEMMLajvz5"
      }
    },
    {
      "cell_type": "code",
      "execution_count": 63,
      "metadata": {
        "colab": {
          "base_uri": "https://localhost:8080/"
        },
        "id": "tHiAPIkLVsvL",
        "outputId": "f4de4e5d-4f37-49b8-c534-247e134ced6c"
      },
      "outputs": [
        {
          "output_type": "execute_result",
          "data": {
            "text/plain": [
              "15"
            ]
          },
          "metadata": {},
          "execution_count": 63
        }
      ],
      "source": [
        "# Useful operations\n",
        "1 in [1,2,5,3]  # True\n",
        "min([1,2,3,4,5])# 1\n",
        "max([1,2,3,4,5])# 5\n",
        "sum([1,2,3,4,5])# 15"
      ]
    },
    {
      "cell_type": "code",
      "execution_count": 9,
      "metadata": {
        "colab": {
          "base_uri": "https://localhost:8080/"
        },
        "id": "ak65Ts2LVsvM",
        "outputId": "610de668-962a-480c-8c88-c2b750f06a8a"
      },
      "outputs": [
        {
          "output_type": "stream",
          "name": "stdout",
          "text": [
            "63\n",
            "10\n"
          ]
        }
      ],
      "source": [
        "# Get First and Last element of a list\n",
        "mList = [63, 21, 30, 14, 35, 26, 77, 18, 49, 10]\n",
        "first, *x, last = mList\n",
        "print(first) #63\n",
        "print(last) #10"
      ]
    },
    {
      "cell_type": "code",
      "execution_count": 10,
      "metadata": {
        "colab": {
          "base_uri": "https://localhost:8080/"
        },
        "id": "dstx06spVsvM",
        "outputId": "85f53414-cf52-4b6f-db73-0de66b33ed9a"
      },
      "outputs": [
        {
          "output_type": "stream",
          "name": "stdout",
          "text": [
            "1,2,3,4,5,"
          ]
        }
      ],
      "source": [
        "for i in [1,2,3,4,5]:\n",
        "    print(i, end=',')"
      ]
    },
    {
      "cell_type": "markdown",
      "source": [
        "## Matrix"
      ],
      "metadata": {
        "id": "t-ZgvsFGjzEN"
      }
    },
    {
      "cell_type": "code",
      "execution_count": 11,
      "metadata": {
        "colab": {
          "base_uri": "https://localhost:8080/"
        },
        "id": "QxcyrcdUVsvM",
        "outputId": "f733045d-9045-4390-fd77-fefa30386806"
      },
      "outputs": [
        {
          "output_type": "stream",
          "name": "stdout",
          "text": [
            "1\n",
            "2\n",
            "3\n",
            "4\n",
            "5\n",
            "6\n"
          ]
        },
        {
          "output_type": "execute_result",
          "data": {
            "text/plain": [
              "[(1, 4), (2, 5), (3, 6)]"
            ]
          },
          "metadata": {},
          "execution_count": 11
        }
      ],
      "source": [
        "# Matrix\n",
        "matrix = [[1,2,3], [4,5,6], [7,8,9]]\n",
        "matrix[2][0] # 7 --> Grab first first of the third item in the matrix object\n",
        "\n",
        "# Looping through a matrix by rows:\n",
        "mx = [[1,2,3],[4,5,6]]\n",
        "for row in range(len(mx)):\n",
        "\tfor col in range(len(mx[0])):\n",
        "\t\tprint(mx[row][col]) # 1 2 3 4 5 6\n",
        "\n",
        "# Transform into a list:\n",
        "[mx[row][col] for row in range(len(mx)) for col in range(len(mx[0]))] # [1,2,3,4,5,6]\n",
        "\n",
        "# Combine columns with zip and *:\n",
        "[x for x in zip(*mx)] # [(1, 3), (2, 4)]"
      ]
    },
    {
      "cell_type": "markdown",
      "source": [
        "## List Comprehensions"
      ],
      "metadata": {
        "id": "Gss8nRp3j2PL"
      }
    },
    {
      "cell_type": "code",
      "execution_count": 64,
      "metadata": {
        "colab": {
          "base_uri": "https://localhost:8080/"
        },
        "id": "hyNws0T1VsvM",
        "outputId": "e2ac27bb-716e-43cb-c71b-21b12008f26e"
      },
      "outputs": [
        {
          "output_type": "execute_result",
          "data": {
            "text/plain": [
              "[0, 'ODD', 2, 'ODD', 4, 'ODD', 6, 'ODD', 8, 'ODD']"
            ]
          },
          "metadata": {},
          "execution_count": 64
        }
      ],
      "source": [
        "# List Comprehensions\n",
        "# new_list[<action> for <item> in <iterator> if <some condition>]\n",
        "# <list> = [i+1 for i in range(10)]         # [1, 2, ..., 10]\n",
        "# <set>  = {i for i in range(10) if i > 5}  # {6, 7, 8, 9}\n",
        "# <iter> = (i+5 for i in range(10))         # (5, 6, ..., 14)\n",
        "# <dict> = {i: i*2 for i in range(10)}      # {0: 0, 1: 2, ..., 9: 18}\n",
        "a = [i for i in 'hello']                  # ['h', 'e', 'l', 'l', '0']\n",
        "b = [i*2 for i in [1,2,3]]                # [2, 4, 6]\n",
        "c = [i for i in range(0,10) if i % 2 == 0]# [0, 2, 4, 6, 8]\n",
        "# List Comprehension = a way to create a new list with less syntax can mimic certain lambda functions, easier to read\n",
        "listd = [0, 1, 2, 3, 4, 5]\n",
        "listr = [listElement for listElement in listd]\n",
        "listm = [charElement.upper() for charElement in 'word']\n",
        "listr = [num for num in range(0,10) if num % 2 == 0]\n",
        "listm = [ num if num % 2 == 0 else 'ODD' for num in range(0,10)]\n",
        "listm"
      ]
    },
    {
      "cell_type": "markdown",
      "source": [
        "## Advanced Functions"
      ],
      "metadata": {
        "id": "H8HhS42Wj4GO"
      }
    },
    {
      "cell_type": "code",
      "execution_count": 65,
      "metadata": {
        "id": "L3Nsho1CVsvN"
      },
      "outputs": [],
      "source": [
        "# Advanced Functions\n",
        "list_of_chars = list('Helloooo')                                   # ['H', 'e', 'l', 'l', 'o', 'o', 'o', 'o']\n",
        "sum_of_elements = sum([1,2,3,4,5])                                 # 15\n",
        "element_sum = [sum(pair) for pair in zip([1,2,3],[4,5,6])]         # [5, 7, 9]\n",
        "sorted_by_second = sorted(['hi','you','man'], key=lambda el: el[1])# ['man', 'hi', 'you']\n",
        "sorted_by_key = sorted([\n",
        "                       {'name': 'Bina', 'age': 30},\n",
        "                       {'name':'Andy', 'age': 18},\n",
        "                       {'name': 'Zoey', 'age': 55}],\n",
        "                       key=lambda el: (el['name']))# [{'name': 'Andy', 'age': 18}, {'name': 'Bina', 'age': 30}, {'name': 'Zoey', 'age': 55}]"
      ]
    },
    {
      "cell_type": "markdown",
      "metadata": {
        "id": "9mN6sKuxVsvN"
      },
      "source": [
        "# Dictionaries\n",
        "\n",
        "### Also known as mappings or hash tables. They are key value pairs that are guaranteed to retain order of insertion starting from Python 3.7"
      ]
    },
    {
      "cell_type": "code",
      "execution_count": 66,
      "metadata": {
        "id": "sATzidcOVsvN"
      },
      "outputs": [],
      "source": [
        "my_dict = {'name': 'Nurs', 'age': 30, 'magic_power': False}\n",
        "my_dict['name']                      # Nurs\n",
        "len(my_dict)                         # 3\n",
        "list(my_dict.keys())                 # ['name', 'age', 'magic_power']\n",
        "list(my_dict.values())               # ['Nurs', 30, False]\n",
        "list(my_dict.items())                # [('name', 'Nurs'), ('age', 30), ('magic_power', False)]\n",
        "my_dict['favourite_snack'] = 'Grapes'# {'name': 'Nurs', 'age': 30, 'magic_power': False, 'favourite_snack': 'Grapes'}\n",
        "my_dict.get('age')                   # 30 --> Returns None if key does not exist.\n",
        "my_dict.get('ages', 0)              # 0 --> Returns default (2nd param) if key is not found\n",
        "\n",
        "#Remove key\n",
        "del my_dict['name']\n",
        "my_dict.pop('name', None)"
      ]
    },
    {
      "cell_type": "code",
      "execution_count": 67,
      "metadata": {
        "id": "iqDR6N0dVsvO"
      },
      "outputs": [],
      "source": [
        "my_dict.update({'cool': True})                                         # {'name': 'Nurs', 'age': 30, 'magic_power': False, 'favourite_snack': 'Grapes', 'cool': True}\n",
        "{**my_dict, **{'cool': True} }                                         # {'name': 'Nurs', 'age': 30, 'magic_power': False, 'favourite_snack': 'Grapes', 'cool': True}\n",
        "new_dict = dict([['name','Nurs'],['age',30],['magic_power',False]])  # Creates a dict from collection of key-value pairs.\n",
        "new_dict = dict(zip(['name','age','magic_power'],['Nurs',30, False]))# Creates a dict from two collections.\n",
        "new_dict = my_dict.pop('favourite_snack')"
      ]
    },
    {
      "cell_type": "markdown",
      "source": [
        "## Dictionary Comprehension"
      ],
      "metadata": {
        "id": "Be1kqp-Nj7T1"
      }
    },
    {
      "cell_type": "code",
      "execution_count": 68,
      "metadata": {
        "colab": {
          "base_uri": "https://localhost:8080/"
        },
        "id": "Cc0whRUPVsvO",
        "outputId": "a59fe5a3-eaea-4db0-e431-b7839f83c2f9"
      },
      "outputs": [
        {
          "output_type": "execute_result",
          "data": {
            "text/plain": [
              "{'Taraz': 'sunny', 'Shymkent': 'sunny'}"
            ]
          },
          "metadata": {},
          "execution_count": 68
        }
      ],
      "source": [
        "# Dictionary Comprehension\n",
        "# create dictionaries using an expression\n",
        "# can replace for loop and certain lambda function\n",
        "#dictionaries = {key: expression for (key,value) in iterable}\n",
        "import math\n",
        "f = { 'N': 32, 'Y' : 56, 'Z':101}\n",
        "c =  {key + '!' : math.floor((value-32) * 5 / 9) for (key,value) in f.items()}\n",
        "c\n",
        "cities_weather = {'NY' : 'snowing', 'Astana': 'cloudy', 'Taraz' : 'sunny', 'Shymkent' : 'sunny'}\n",
        "sunny_cities = {key : value for (key,value) in cities_weather.items() if value == 'sunny'}\n",
        "sunny_cities"
      ]
    },
    {
      "cell_type": "markdown",
      "metadata": {
        "id": "EmcV9mHHVsvP"
      },
      "source": [
        "# Tuples\n",
        "\n",
        "### Like lists, but they are used for immutable thing (that don't change)"
      ]
    },
    {
      "cell_type": "code",
      "execution_count": 69,
      "metadata": {
        "colab": {
          "base_uri": "https://localhost:8080/",
          "height": 35
        },
        "id": "Q17ixwRxVsvP",
        "outputId": "762a9506-962a-4b11-cacc-aa43f1de4844"
      },
      "outputs": [
        {
          "output_type": "execute_result",
          "data": {
            "text/plain": [
              "'grapes'"
            ],
            "application/vnd.google.colaboratory.intrinsic+json": {
              "type": "string"
            }
          },
          "metadata": {},
          "execution_count": 69
        }
      ],
      "source": [
        "my_tuple = ('apple','grapes','mango', 'grapes')\n",
        "apple, grapes, mango, grapes = my_tuple# Tuple unpacking\n",
        "len(my_tuple)                          # 4\n",
        "my_tuple[2]                            # mango\n",
        "my_tuple[-1]                           # 'grapes'"
      ]
    },
    {
      "cell_type": "markdown",
      "source": [
        "## Immutability"
      ],
      "metadata": {
        "id": "jLLJmsb1j90I"
      }
    },
    {
      "cell_type": "code",
      "execution_count": 70,
      "metadata": {
        "colab": {
          "base_uri": "https://localhost:8080/",
          "height": 173
        },
        "id": "vq4RJrERVsvQ",
        "outputId": "6c93abb7-7113-4076-ca98-77a887e71991"
      },
      "outputs": [
        {
          "output_type": "error",
          "ename": "TypeError",
          "evalue": "'tuple' object does not support item assignment",
          "traceback": [
            "\u001b[0;31m---------------------------------------------------------------------------\u001b[0m",
            "\u001b[0;31mTypeError\u001b[0m                                 Traceback (most recent call last)",
            "\u001b[0;32m<ipython-input-70-6b720860a5aa>\u001b[0m in \u001b[0;36m<cell line: 2>\u001b[0;34m()\u001b[0m\n\u001b[1;32m      1\u001b[0m \u001b[0;31m# Immutability\u001b[0m\u001b[0;34m\u001b[0m\u001b[0;34m\u001b[0m\u001b[0m\n\u001b[0;32m----> 2\u001b[0;31m \u001b[0mmy_tuple\u001b[0m\u001b[0;34m[\u001b[0m\u001b[0;36m1\u001b[0m\u001b[0;34m]\u001b[0m \u001b[0;34m=\u001b[0m \u001b[0;34m'donuts'\u001b[0m  \u001b[0;31m# TypeError\u001b[0m\u001b[0;34m\u001b[0m\u001b[0;34m\u001b[0m\u001b[0m\n\u001b[0m\u001b[1;32m      3\u001b[0m \u001b[0mmy_tuple\u001b[0m\u001b[0;34m.\u001b[0m\u001b[0mappend\u001b[0m\u001b[0;34m(\u001b[0m\u001b[0;34m'candy'\u001b[0m\u001b[0;34m)\u001b[0m\u001b[0;31m# AttributeError\u001b[0m\u001b[0;34m\u001b[0m\u001b[0;34m\u001b[0m\u001b[0m\n",
            "\u001b[0;31mTypeError\u001b[0m: 'tuple' object does not support item assignment"
          ]
        }
      ],
      "source": [
        "# Immutability\n",
        "my_tuple[1] = 'donuts'  # TypeError\n",
        "my_tuple.append('candy')# AttributeError"
      ]
    },
    {
      "cell_type": "markdown",
      "source": [
        "# Methods"
      ],
      "metadata": {
        "id": "fP7cs-7ukAdp"
      }
    },
    {
      "cell_type": "code",
      "execution_count": 71,
      "metadata": {
        "colab": {
          "base_uri": "https://localhost:8080/"
        },
        "id": "x6YXkEAUVsvQ",
        "outputId": "ef80f326-6b83-4f05-832f-c4da20f1c67d"
      },
      "outputs": [
        {
          "output_type": "execute_result",
          "data": {
            "text/plain": [
              "2"
            ]
          },
          "metadata": {},
          "execution_count": 71
        }
      ],
      "source": [
        "# Methods\n",
        "my_tuple.index('grapes') # 1\n",
        "my_tuple.count('grapes') # 2"
      ]
    },
    {
      "cell_type": "markdown",
      "source": [
        "## Zip"
      ],
      "metadata": {
        "id": "SSILqCzRkFtR"
      }
    },
    {
      "cell_type": "code",
      "execution_count": 20,
      "metadata": {
        "colab": {
          "base_uri": "https://localhost:8080/"
        },
        "id": "FHppVEZ5VsvR",
        "outputId": "e44cab4f-d881-4bdc-ca02-968081bf7f57"
      },
      "outputs": [
        {
          "output_type": "execute_result",
          "data": {
            "text/plain": [
              "[(1, 4), (2, 5), (3, 6)]"
            ]
          },
          "metadata": {},
          "execution_count": 20
        }
      ],
      "source": [
        "# Zip\n",
        "list(zip([1,2,3], [4,5,6])) # [(1, 4), (2, 5), (3, 6)]"
      ]
    },
    {
      "cell_type": "markdown",
      "source": [
        "### unzip"
      ],
      "metadata": {
        "id": "iZherXbgkHXS"
      }
    },
    {
      "cell_type": "code",
      "execution_count": 21,
      "metadata": {
        "colab": {
          "base_uri": "https://localhost:8080/"
        },
        "id": "DR49RrbWVsvR",
        "outputId": "208f07b1-48d6-45fb-d8a7-55e85697a964"
      },
      "outputs": [
        {
          "output_type": "execute_result",
          "data": {
            "text/plain": [
              "[(1, 3, 5, 7), (2, 4, 6, 8)]"
            ]
          },
          "metadata": {},
          "execution_count": 21
        }
      ],
      "source": [
        "# unzip\n",
        "z = [(1, 2), (3, 4), (5, 6), (7, 8)] # Some output of zip() function\n",
        "unzip = lambda z: list(zip(*z))\n",
        "unzip(z)"
      ]
    },
    {
      "cell_type": "markdown",
      "source": [
        "## Map"
      ],
      "metadata": {
        "id": "y9-E1DkXkJwp"
      }
    },
    {
      "cell_type": "code",
      "source": [
        "# Map\n",
        "res = list(map(lambda x: x+3, [1,2,3,4,5]))\n",
        "res"
      ],
      "metadata": {
        "colab": {
          "base_uri": "https://localhost:8080/"
        },
        "id": "LyIH6E9Mftfb",
        "outputId": "01b80e67-85ff-4153-9ac7-a6a5c0f0e162"
      },
      "execution_count": 72,
      "outputs": [
        {
          "output_type": "execute_result",
          "data": {
            "text/plain": [
              "[4, 5, 6, 7, 8]"
            ]
          },
          "metadata": {},
          "execution_count": 72
        }
      ]
    },
    {
      "cell_type": "markdown",
      "source": [
        "## Filter"
      ],
      "metadata": {
        "id": "rmZNUQmHkMb_"
      }
    },
    {
      "cell_type": "code",
      "source": [
        "# Filter\n",
        "\n",
        "numbers = [1, 2, 3, 4, 5, 6, 7, 8, 9, 10]\n",
        "\n",
        "def is_even(number):\n",
        "  return number % 2 == 0\n",
        "\n",
        "even_numbers = list(filter(is_even, numbers))\n",
        "\n",
        "print(even_numbers)  # Output: [2, 4, 6, 8, 10]"
      ],
      "metadata": {
        "colab": {
          "base_uri": "https://localhost:8080/"
        },
        "id": "Z8ZmqpyJgLaB",
        "outputId": "91bf3e18-7846-41a0-9049-a1e78069b145"
      },
      "execution_count": 73,
      "outputs": [
        {
          "output_type": "stream",
          "name": "stdout",
          "text": [
            "[2, 4, 6, 8, 10]\n"
          ]
        }
      ]
    },
    {
      "cell_type": "markdown",
      "source": [
        "## Reduce"
      ],
      "metadata": {
        "id": "GHU4QxOkkQtr"
      }
    },
    {
      "cell_type": "code",
      "source": [
        "# Reduce\n",
        "\n",
        "from functools import reduce\n",
        "\n",
        "numbers = [1, 2, 3, 4, 5]\n",
        "\n",
        "sum_of_numbers = reduce(lambda x, y: x + y, numbers)\n",
        "\n",
        "print(sum_of_numbers)  # Output: 15"
      ],
      "metadata": {
        "colab": {
          "base_uri": "https://localhost:8080/"
        },
        "id": "e3-XcUu5gSns",
        "outputId": "c9075303-0cc8-42ed-c485-d667d3582e6f"
      },
      "execution_count": 74,
      "outputs": [
        {
          "output_type": "stream",
          "name": "stdout",
          "text": [
            "15\n"
          ]
        }
      ]
    },
    {
      "cell_type": "markdown",
      "metadata": {
        "id": "MSjLFU5cVsvS"
      },
      "source": [
        "# Sets\n",
        "\n",
        "### Unordered collection of unique elements."
      ]
    },
    {
      "cell_type": "code",
      "execution_count": 75,
      "metadata": {
        "id": "rDN30IgfVsvS"
      },
      "outputs": [],
      "source": [
        "my_set = set()\n",
        "my_set.add(1)  # {1}\n",
        "my_set.add(100)# {1, 100}\n",
        "my_set.add(100)# {1, 100} --> no duplicates!"
      ]
    },
    {
      "cell_type": "code",
      "execution_count": 76,
      "metadata": {
        "id": "zvdh0LRcVsvS"
      },
      "outputs": [],
      "source": [
        "new_list = [1,2,3,3,3,4,4,5,6,1]\n",
        "set(new_list)           # {1, 2, 3, 4, 5, 6}\n",
        "\n",
        "my_set.remove(100)      # {1} --> Raises KeyError if element not found\n",
        "my_set.discard(100)     # {1} --> Doesn't raise an error if element not found\n",
        "my_set.clear()          # {}\n",
        "new_set = {1,2,3}.copy()# {1,2,3}"
      ]
    },
    {
      "cell_type": "code",
      "execution_count": 77,
      "metadata": {
        "colab": {
          "base_uri": "https://localhost:8080/"
        },
        "id": "gxiMUi4OVsvS",
        "outputId": "5a7c2ad6-d268-4820-bb79-d626ddf21987"
      },
      "outputs": [
        {
          "output_type": "execute_result",
          "data": {
            "text/plain": [
              "False"
            ]
          },
          "metadata": {},
          "execution_count": 77
        }
      ],
      "source": [
        "set1 = {1,2,3}\n",
        "set2 = {3,4,5}\n",
        "set3 = set1.union(set2)               # {1,2,3,4,5}\n",
        "set4 = set1.intersection(set2)        # {3}\n",
        "set5 = set1.difference(set2)          # {1, 2}\n",
        "set6 = set1.symmetric_difference(set2)# {1, 2, 4, 5}\n",
        "set1.issubset(set2)                   # False\n",
        "set1.issuperset(set2)                 # False\n",
        "set1.isdisjoint(set2)                 # False --> return True if two sets have a null intersection."
      ]
    },
    {
      "cell_type": "markdown",
      "source": [
        "# Loops"
      ],
      "metadata": {
        "id": "yLAu0TRBgwoi"
      }
    },
    {
      "cell_type": "code",
      "execution_count": 78,
      "metadata": {
        "colab": {
          "base_uri": "https://localhost:8080/"
        },
        "id": "aNHisLs7VsvT",
        "outputId": "374a87e6-2013-4141-e133-032ac0804e66"
      },
      "outputs": [
        {
          "output_type": "stream",
          "name": "stdout",
          "text": [
            "1\n",
            "2\n",
            "3\n",
            "1\n",
            "2\n",
            "3\n",
            "(1, 2)\n",
            "(3, 4)\n",
            "(5, 6)\n",
            "1\n",
            "2\n",
            "3\n",
            "0\n",
            "1\n",
            "1\n",
            "2\n",
            "2\n",
            "3\n",
            "a\n",
            "1\n",
            "b\n",
            "2\n",
            "c\n",
            "3\n",
            "0\n",
            "1\n",
            "2\n",
            "3\n",
            "4\n"
          ]
        }
      ],
      "source": [
        "# Loops\n",
        "my_list = [1,2,3]\n",
        "my_tuple = (1,2,3)\n",
        "my_list2 = [(1,2), (3,4), (5,6)]\n",
        "my_dict = {'a': 1, 'b': 2, 'c': 3}\n",
        "\n",
        "for num in my_list:\n",
        "    print(num) # 1, 2, 3\n",
        "\n",
        "for num in my_tuple:\n",
        "    print(num) # 1, 2, 3\n",
        "\n",
        "for num in my_list2:\n",
        "    print(num) # (1,2), (3,4), (5,6)\n",
        "\n",
        "for num in '123':\n",
        "    print(num) # 1, 2, 3\n",
        "\n",
        "for idx,value in enumerate(my_list):\n",
        "    print(idx) # get the index of the item\n",
        "    print(value) # get the value\n",
        "\n",
        "for k,v in my_dict.items(): # Dictionary Unpacking\n",
        "    print(k) # 'a', 'b', 'c'\n",
        "    print(v) # 1, 2, 3\n",
        "\n",
        "i = 0\n",
        "while i < 5:\n",
        "    print(i)\n",
        "    i = i + 1\n",
        "\n",
        "# while <condition that evaluates to boolean>:\n",
        "  # action\n",
        "  # if <condition that evaluates to boolean>:\n",
        "    # break # break out of while loop\n",
        "  # if <condition that evaluates to boolean>:\n",
        "    # continue # continue to the next line in the block"
      ]
    },
    {
      "cell_type": "markdown",
      "source": [
        "# Walrus"
      ],
      "metadata": {
        "id": "w1nZAFoMg44J"
      }
    },
    {
      "cell_type": "code",
      "execution_count": 79,
      "metadata": {
        "colab": {
          "base_uri": "https://localhost:8080/"
        },
        "id": "1Ms1-IkdVsvT",
        "outputId": "278f9352-b42e-4cf3-978a-4d4c94bad037"
      },
      "outputs": [
        {
          "name": "stdout",
          "output_type": "stream",
          "text": [
            "What should I do?\n",
            "True\n",
            "What should I do?\n",
            "True\n",
            "What should I do?quit\n"
          ]
        }
      ],
      "source": [
        "# waiting until user quits with walrus\n",
        "msg = ''\n",
        "while msg := input('What should I do?') != 'quit':\n",
        "    print(msg)"
      ]
    },
    {
      "cell_type": "markdown",
      "source": [
        "# Range"
      ],
      "metadata": {
        "id": "Gua9YobHhUXu"
      }
    },
    {
      "cell_type": "code",
      "execution_count": 80,
      "metadata": {
        "colab": {
          "base_uri": "https://localhost:8080/"
        },
        "id": "TsEW42IvVsvT",
        "outputId": "fe9b3b84-4df5-469d-8311-c7bcf90f7f04"
      },
      "outputs": [
        {
          "output_type": "execute_result",
          "data": {
            "text/plain": [
              "[0, 2, 4, 6, 8]"
            ]
          },
          "metadata": {},
          "execution_count": 80
        }
      ],
      "source": [
        "#Range\n",
        "range(10)          # range(0, 10) --> 0 to 9\n",
        "range(1,10)        # range(1, 10)\n",
        "list(range(0,10,2))# [0, 2, 4, 6, 8]"
      ]
    },
    {
      "cell_type": "markdown",
      "source": [
        "# Counter"
      ],
      "metadata": {
        "id": "jnh4fZn3haI0"
      }
    },
    {
      "cell_type": "code",
      "execution_count": 81,
      "metadata": {
        "colab": {
          "base_uri": "https://localhost:8080/"
        },
        "id": "26FWfEsCVsvU",
        "outputId": "12683175-a8ef-41b0-e934-95611a6dea76"
      },
      "outputs": [
        {
          "output_type": "execute_result",
          "data": {
            "text/plain": [
              "('blue', 3)"
            ]
          },
          "metadata": {},
          "execution_count": 81
        }
      ],
      "source": [
        "#Counter\n",
        "from collections import Counter\n",
        "colors = ['red', 'blue', 'yellow', 'blue', 'red', 'blue']\n",
        "counter = Counter(colors)# Counter({'blue': 3, 'red': 2, 'yellow': 1})\n",
        "counter.most_common()[0] # ('blue', 3)"
      ]
    },
    {
      "cell_type": "markdown",
      "metadata": {
        "id": "lgjDafygVsvU"
      },
      "source": [
        "# Named Tuple\n",
        "\n",
        "### * Tuple is an immutable and hashable list.\n",
        "### * Named tuple is its subclass with named elements."
      ]
    },
    {
      "cell_type": "code",
      "execution_count": 82,
      "metadata": {
        "colab": {
          "base_uri": "https://localhost:8080/"
        },
        "id": "uSO_IiWDVsvU",
        "outputId": "0721fdfe-1dac-4dc2-af40-52fd1c3dcada"
      },
      "outputs": [
        {
          "output_type": "execute_result",
          "data": {
            "text/plain": [
              "('x', 'y')"
            ]
          },
          "metadata": {},
          "execution_count": 82
        }
      ],
      "source": [
        "from collections import namedtuple\n",
        "Point = namedtuple('Point', 'x y')\n",
        "p = Point(1, y=2)# Point(x=1, y=2)\n",
        "p[0]             # 1\n",
        "p.x              # 1\n",
        "getattr(p, 'y')  # 2\n",
        "p._fields        # Or: Point._fields #('x', 'y')"
      ]
    },
    {
      "cell_type": "code",
      "execution_count": 83,
      "metadata": {
        "colab": {
          "base_uri": "https://localhost:8080/",
          "height": 35
        },
        "id": "gPLyJEILVsvV",
        "outputId": "b8c3163b-efcd-4a6a-a271-c215acc9e511"
      },
      "outputs": [
        {
          "output_type": "execute_result",
          "data": {
            "text/plain": [
              "'187'"
            ],
            "application/vnd.google.colaboratory.intrinsic+json": {
              "type": "string"
            }
          },
          "metadata": {},
          "execution_count": 83
        }
      ],
      "source": [
        "from collections import namedtuple\n",
        "Person = namedtuple('Person', 'name height')\n",
        "person = Person('Jean-Luc', 187)\n",
        "f'{person.height}'           # '187'\n",
        "'{p.height}'.format(p=person)# '187'"
      ]
    },
    {
      "cell_type": "markdown",
      "source": [
        "# Ordered Dictionary"
      ],
      "metadata": {
        "id": "AGUTz1M4hf1n"
      }
    },
    {
      "cell_type": "code",
      "execution_count": 84,
      "metadata": {
        "colab": {
          "base_uri": "https://localhost:8080/"
        },
        "id": "jUsNd1YhVsvV",
        "outputId": "3e9632d7-36a9-4463-fddc-20673866a428"
      },
      "outputs": [
        {
          "output_type": "stream",
          "name": "stdout",
          "text": [
            "Tim-->\n",
            "\tpython\n",
            "\tjavascript\n",
            "Sarah-->\n",
            "\tC++\n",
            "Bia-->\n",
            "\tRuby\n",
            "\tPython\n",
            "\tGo\n"
          ]
        }
      ],
      "source": [
        "#OrderedDict\n",
        "\n",
        "#Maintains order of insertion\n",
        "from collections import OrderedDict\n",
        "# Store each person's languages, keeping # track of who responded first.\n",
        "programmers = OrderedDict()\n",
        "programmers['Tim'] = ['python', 'javascript']\n",
        "programmers['Sarah'] = ['C++']\n",
        "programmers['Bia'] = ['Ruby', 'Python', 'Go']\n",
        "\n",
        "for name, langs in programmers.items():\n",
        "    print(name + '-->')\n",
        "    for lang in langs:\n",
        "        print('\\t' + lang)"
      ]
    },
    {
      "cell_type": "markdown",
      "metadata": {
        "id": "HJd7o_RCVsvV"
      },
      "source": [
        "# Functions\n",
        "\n",
        "### *args and **kwargs\n",
        "\n",
        "### Splat (*) expands a collection into positional arguments, while splatty-splat (**) expands a dictionary into keyword arguments."
      ]
    },
    {
      "cell_type": "code",
      "execution_count": 85,
      "metadata": {
        "colab": {
          "base_uri": "https://localhost:8080/"
        },
        "id": "CE333056VsvV",
        "outputId": "261a842f-5b7f-4a35-9d37-5b8305881af1"
      },
      "outputs": [
        {
          "output_type": "execute_result",
          "data": {
            "text/plain": [
              "6"
            ]
          },
          "metadata": {},
          "execution_count": 85
        }
      ],
      "source": [
        "args   = (1, 2)\n",
        "kwargs = {'x': 3, 'y': 4, 'z': 5}\n",
        "#some_func(*args, **kwargs) # same as some_func(1, 2, x=3, y=4, z=5)\n",
        "def add(*a):\n",
        "    return sum(a)\n",
        "\n",
        "add(1, 2, 3) # 6"
      ]
    },
    {
      "cell_type": "code",
      "execution_count": 86,
      "metadata": {
        "colab": {
          "base_uri": "https://localhost:8080/"
        },
        "id": "8Hq3tjSbVsvV",
        "outputId": "94f63ebf-16b5-4744-e258-66ede180659b"
      },
      "outputs": [
        {
          "output_type": "stream",
          "name": "stdout",
          "text": [
            "I need a kwargs for myself 1 and eggs\n",
            "(1, 2, 3, 4)\n",
            "{'food': 'eggs', 'fruit': 'apple'}\n"
          ]
        }
      ],
      "source": [
        "def myfunc1(*args, **kwargs):\n",
        "    print('I need a kwargs for myself {a} and {b}'.format(a=args[0],b=kwargs['food']))\n",
        "    print(args)\n",
        "    print(kwargs)\n",
        "myfunc1(1,2,3,4,food='eggs',fruit='apple')"
      ]
    },
    {
      "cell_type": "markdown",
      "source": [
        "# Ternary Condition"
      ],
      "metadata": {
        "id": "ydNN-0yViChR"
      }
    },
    {
      "cell_type": "code",
      "execution_count": 87,
      "metadata": {
        "colab": {
          "base_uri": "https://localhost:8080/"
        },
        "id": "UjqDHts3VsvW",
        "outputId": "1d6c5229-0d20-4ce3-9469-969e35897acb"
      },
      "outputs": [
        {
          "output_type": "execute_result",
          "data": {
            "text/plain": [
              "['zero', 1, 'zero', 3]"
            ]
          },
          "metadata": {},
          "execution_count": 87
        }
      ],
      "source": [
        "#Ternary Condition\n",
        "\n",
        "# <expression_if_true> if <condition> else <expression_if_false>\n",
        "\n",
        "[a if a else 'zero' for a in [0, 1, 0, 3]] # ['zero', 1, 'zero', 3]"
      ]
    },
    {
      "cell_type": "markdown",
      "source": [
        "# Lambda"
      ],
      "metadata": {
        "id": "cdNCR274iHLM"
      }
    },
    {
      "cell_type": "code",
      "execution_count": 88,
      "metadata": {
        "colab": {
          "base_uri": "https://localhost:8080/"
        },
        "id": "XIT9mtA7VsvW",
        "outputId": "e88c6ab9-aaef-44e6-c58a-83952e6621d9"
      },
      "outputs": [
        {
          "output_type": "stream",
          "name": "stdout",
          "text": [
            "55\n",
            "6\n"
          ]
        }
      ],
      "source": [
        "#lambda = function written in 1 line of code\n",
        "# lambda parameters: expression\n",
        "# Fibonacci\n",
        "fib = lambda n : n if n <= 1 else fib(n-1) + fib(n-2)\n",
        "result = fib(10)\n",
        "print(result) #55\n",
        "\n",
        "# Factorial\n",
        "from functools import reduce\n",
        "\n",
        "n = 3\n",
        "factorial = reduce(lambda x, y: x*y, range(1, n+1))\n",
        "print(factorial) #6"
      ]
    },
    {
      "cell_type": "markdown",
      "source": [
        "# Error Handling"
      ],
      "metadata": {
        "id": "jrgpVH3giO3J"
      }
    },
    {
      "cell_type": "code",
      "execution_count": 89,
      "metadata": {
        "colab": {
          "base_uri": "https://localhost:8080/"
        },
        "id": "BSncX4hAVsvW",
        "outputId": "15ed582f-491e-4aa4-a0b8-ec8b388a75cb"
      },
      "outputs": [
        {
          "output_type": "stream",
          "name": "stdout",
          "text": [
            "You did something wrong\n",
            "Wow wow\n",
            "No division by zero!\n",
            "Enter your age: rt\n",
            "Oops!  That was no valid number.  Try again...\n",
            "oops\n",
            "All done!\n"
          ]
        }
      ],
      "source": [
        "# Error Handling\n",
        "#Exceptions\n",
        "try:\n",
        "    print(1/0)\n",
        "except ZeroDivisionError:\n",
        "    print('You did something wrong')\n",
        "except Exception as e:\n",
        "    raise e\n",
        "\n",
        "try:\n",
        "    print(asdasd)\n",
        "except NameError:\n",
        "    print('Wow wow')\n",
        "try:\n",
        "    a = 5/0\n",
        "except ZeroDivisionError:\n",
        "    print(\"No division by zero!\")\n",
        "while True:\n",
        "    try:\n",
        "        x = int(input('Enter your age: '))\n",
        "    except ValueError:\n",
        "        print('Oops!  That was no valid number.  Try again...')\n",
        "    else: # code that depends on the try block running successfully should be placed in the else block.\n",
        "        print('Carry on!')\n",
        "    break\n",
        "try:\n",
        "    raise KeyboardInterrupt\n",
        "except:\n",
        "    print('oops')\n",
        "finally:\n",
        "    print('All done!')"
      ]
    },
    {
      "cell_type": "markdown",
      "source": [
        "# Closures"
      ],
      "metadata": {
        "id": "prpbL4ZQkpeR"
      }
    },
    {
      "cell_type": "code",
      "execution_count": 91,
      "metadata": {
        "colab": {
          "base_uri": "https://localhost:8080/"
        },
        "id": "cqDV0bijVsvW",
        "outputId": "52d4cc31-0d42-4d9e-a15a-e53664350d48"
      },
      "outputs": [
        {
          "output_type": "execute_result",
          "data": {
            "text/plain": [
              "30"
            ]
          },
          "metadata": {},
          "execution_count": 91
        }
      ],
      "source": [
        "#Closures\n",
        "\n",
        "#We have a closure in Python when:\n",
        "#A nested function references a value of its enclosing function and then\n",
        "#the enclosing function returns the nested function.\n",
        "def get_multiplier(a):\n",
        "    def out(b):\n",
        "        return a * b\n",
        "    return out\n",
        "multiply_by_3 = get_multiplier(3)\n",
        "multiply_by_3(10)\n",
        "\n",
        "#If multiple nested functions within enclosing function reference the same value, that value gets shared.\n",
        "#To dynamically access function's first free variable use '<function>.__closure__[0].cell_contents'."
      ]
    },
    {
      "cell_type": "markdown",
      "source": [
        "#Scope"
      ],
      "metadata": {
        "id": "yrxJfQnOk0tf"
      }
    },
    {
      "cell_type": "code",
      "execution_count": 92,
      "metadata": {
        "colab": {
          "base_uri": "https://localhost:8080/"
        },
        "id": "V6fnyPqiVsvW",
        "outputId": "4662a7e4-bc1e-452e-aebc-80b7588eb7c9"
      },
      "outputs": [
        {
          "output_type": "execute_result",
          "data": {
            "text/plain": [
              "(1, 2, 3)"
            ]
          },
          "metadata": {},
          "execution_count": 92
        }
      ],
      "source": [
        "#Scope\n",
        "\n",
        "#If variable is being assigned to anywhere in the scope, it is regarded as a local variable, unless it is declared as a 'global' or a 'nonlocal'.\n",
        "\n",
        "def get_counter():\n",
        "    i = 0\n",
        "    def out():\n",
        "        nonlocal i\n",
        "        i += 1\n",
        "        return i\n",
        "    return out\n",
        "counter = get_counter()\n",
        "counter(), counter(), counter()"
      ]
    },
    {
      "cell_type": "markdown",
      "source": [
        "# Modules"
      ],
      "metadata": {
        "id": "4f-0hCDZk49p"
      }
    },
    {
      "cell_type": "code",
      "execution_count": 93,
      "metadata": {
        "colab": {
          "base_uri": "https://localhost:8080/"
        },
        "id": "EBVdchDDVsvX",
        "outputId": "4600e24a-c601-4fa6-d007-84bbbfd04d74"
      },
      "outputs": [
        {
          "output_type": "stream",
          "name": "stdout",
          "text": [
            "ASD\n"
          ]
        }
      ],
      "source": [
        "#Modules\n",
        "def main():\n",
        "    print('ASD')\n",
        "if __name__ == '__main__': # Runs main() if file wasn't imported.\n",
        "    main()"
      ]
    },
    {
      "cell_type": "markdown",
      "source": [
        "#Generators"
      ],
      "metadata": {
        "id": "XWJs8pLRk9G-"
      }
    },
    {
      "cell_type": "code",
      "execution_count": 94,
      "metadata": {
        "colab": {
          "base_uri": "https://localhost:8080/"
        },
        "id": "W1_3MXFMVsvX",
        "outputId": "17f00878-6fb9-4fb7-a451-a666cb4b8d72"
      },
      "outputs": [
        {
          "output_type": "execute_result",
          "data": {
            "text/plain": [
              "(10, 12, 14)"
            ]
          },
          "metadata": {},
          "execution_count": 94
        }
      ],
      "source": [
        "#Generators\n",
        "\n",
        "#Convenient way to implement the iterator protocol.\n",
        "\n",
        "def count(start, step):\n",
        "    while True:\n",
        "        yield start\n",
        "        start += step\n",
        "\n",
        "counter = count(10, 2)\n",
        "next(counter), next(counter), next(counter)"
      ]
    },
    {
      "cell_type": "code",
      "execution_count": 95,
      "metadata": {
        "colab": {
          "base_uri": "https://localhost:8080/"
        },
        "id": "ubd2WKZLVsvX",
        "outputId": "337a3771-5bfb-4321-9dd2-38289b517fea"
      },
      "outputs": [
        {
          "output_type": "stream",
          "name": "stdout",
          "text": [
            "Not Found\n",
            "Not Found\n",
            "Not Found\n",
            "Not Found\n",
            "Not Found\n",
            "Not Found\n",
            "Not Found\n",
            "Not Found\n",
            "Found\n"
          ]
        }
      ],
      "source": [
        "# Generator by Myself\n",
        "\n",
        "def listCheckGenerator(num):\n",
        "    listCheck = [4,4324,235,23,4,32,23,5,234,25,3,235,23,52,3234,523,21,34,23,52,35]\n",
        "    for i in listCheck:\n",
        "        yield i == num\n",
        "\n",
        "listCheck = listCheckGenerator(234)\n",
        "while True:\n",
        "    if next(listCheck):\n",
        "        print('Found')\n",
        "        break\n",
        "    else:\n",
        "        print('Not Found')"
      ]
    },
    {
      "cell_type": "markdown",
      "source": [
        "## Fibonacci numbers in generators"
      ],
      "metadata": {
        "id": "Jq5-SJTBlMWQ"
      }
    },
    {
      "cell_type": "code",
      "execution_count": 96,
      "metadata": {
        "colab": {
          "base_uri": "https://localhost:8080/"
        },
        "id": "bhpMIAe5VsvX",
        "outputId": "9ed7b456-8361-43f0-9e69-59d8a77ca50a"
      },
      "outputs": [
        {
          "output_type": "stream",
          "name": "stdout",
          "text": [
            "0\n",
            "1\n",
            "1\n",
            "2\n"
          ]
        }
      ],
      "source": [
        "# Fibonacci numbers in generators\n",
        "# lets create generator for fibonacci\n",
        "\n",
        "def fibonacci():\n",
        "    i = 0\n",
        "    n = 1\n",
        "    while True:\n",
        "        yield i\n",
        "        m = n\n",
        "        n = n + i\n",
        "        i = m\n",
        "\n",
        "fib = fibonacci()\n",
        "print(next(fib))\n",
        "print(next(fib))\n",
        "print(next(fib))\n",
        "print(next(fib))"
      ]
    },
    {
      "cell_type": "markdown",
      "source": [
        "#Decorators\n"
      ],
      "metadata": {
        "id": "sLjtwjfylQEH"
      }
    },
    {
      "cell_type": "code",
      "execution_count": 106,
      "metadata": {
        "colab": {
          "base_uri": "https://localhost:8080/"
        },
        "id": "RQINjxCyVsvX",
        "outputId": "7f62e0cc-e0e0-4c59-da55-8540399e2ffe"
      },
      "outputs": [
        {
          "output_type": "stream",
          "name": "stdout",
          "text": [
            "333333283333335000000\n",
            "Took: 1.6431183815002441 ms\n"
          ]
        }
      ],
      "source": [
        "#Decorators\n",
        "\n",
        "#A decorator takes a function, adds some functionality and returns it.\n",
        "\n",
        "#def function_that_gets_passed_to_decorator():\n",
        "#    pass\n",
        "#Example Decorator: timing performance using a decorator.\n",
        "\n",
        "#The functools decorator @functools.wraps is used to maintain function naming and documentation of the function within the decorator.\n",
        "from time import time\n",
        "import functools\n",
        "\n",
        "def performance(func):\n",
        "    def wrapper(*args, **kwargs):\n",
        "        t1 = time()\n",
        "        result = func(*args, **kwargs)\n",
        "        t2 = time()\n",
        "        print(f\"Took: {t2 - t1} ms\")\n",
        "        return result\n",
        "    return wrapper\n",
        "\n",
        "# calling a function with the decorator\n",
        "@performance\n",
        "def long_time():\n",
        "    print(sum(i*i for i in range(10000000)))\n",
        "\n",
        "long_time()"
      ]
    },
    {
      "cell_type": "code",
      "execution_count": 107,
      "metadata": {
        "colab": {
          "base_uri": "https://localhost:8080/"
        },
        "id": "xTfPYd8NVsvX",
        "outputId": "201d4207-1e9f-4f79-91df-00630d07fdfa"
      },
      "outputs": [
        {
          "output_type": "execute_result",
          "data": {
            "text/plain": [
              "True"
            ]
          },
          "metadata": {},
          "execution_count": 107
        }
      ],
      "source": [
        "user1 = {\n",
        "    'name': 'Sorna',\n",
        "    'valid': True #changing this will either run or not run the message_friends function.\n",
        "}\n",
        "user1.get('name')\n",
        "user1.get('valid')"
      ]
    },
    {
      "cell_type": "code",
      "execution_count": 108,
      "metadata": {
        "colab": {
          "base_uri": "https://localhost:8080/"
        },
        "id": "vXTKWjwYVsvY",
        "outputId": "0a8da612-eac1-4198-dff8-e862ff1fc186"
      },
      "outputs": [
        {
          "output_type": "stream",
          "name": "stdout",
          "text": [
            "Start checking in user list\n",
            "No pass by Auth for Sorna\n"
          ]
        }
      ],
      "source": [
        "# Create an @authenticated decorator that only allows the function to run is user1 has 'valid' set to True:\n",
        "user1 = {\n",
        "    'name': 'Sorna',\n",
        "    'valid': False #changing this will either run or not run the message_friends function.\n",
        "}\n",
        "\n",
        "def authenticated(fn):\n",
        "    def check_user(*args,**kwargs):\n",
        "        print('Start checking in user list')\n",
        "        if args[0].get('valid'):\n",
        "            print('Auth pass')\n",
        "            return fn(*args,**kwargs)\n",
        "        else:\n",
        "          print('No pass by Auth for {}'.format(args[0].get('name')))\n",
        "    return check_user\n",
        "\n",
        "@authenticated\n",
        "def message_friends(user):\n",
        "    print('message has been sent')\n",
        "\n",
        "message_friends(user1)"
      ]
    },
    {
      "cell_type": "markdown",
      "source": [
        "# Regular Expressions"
      ],
      "metadata": {
        "id": "K4oyiPNKl8o8"
      }
    },
    {
      "cell_type": "code",
      "execution_count": 109,
      "metadata": {
        "colab": {
          "base_uri": "https://localhost:8080/"
        },
        "id": "EqaEdo6SVsvY",
        "outputId": "0a8d38a5-07ef-4e2c-83bb-b745e67319f2"
      },
      "outputs": [
        {
          "output_type": "stream",
          "name": "stdout",
          "text": [
            "[]\n",
            "Spain\n"
          ]
        },
        {
          "output_type": "execute_result",
          "data": {
            "text/plain": [
              "<re.Match object; span=(0, 17), match='hello@192.168.0.1'>"
            ]
          },
          "metadata": {},
          "execution_count": 109
        }
      ],
      "source": [
        "# Regular Expressions\n",
        "# regex101.com\n",
        "import re\n",
        "search = re.compile(r\"[A-Z]\")\n",
        "\n",
        "import re\n",
        "\n",
        "txt = \"The rain in Spain\"\n",
        "x = re.findall(\"Portugal\", txt)\n",
        "print(x)\n",
        "\n",
        "txt = \"The rain in Spain\"\n",
        "x = re.search(r\"\\bS\\w+\", txt)\n",
        "print(x.group())\n",
        "\n",
        "pattern = r\"^[a-z0-9!#$%&'*+/=?^_`{|}~-]+(?:\\.[a-z0-9!#$%&'*+/=?^_`{|}~-]+)*@(?:[a-z0-9](?:[a-z0-9-]*[a-z0-9])?\\.)+[a-z0-9](?:[a-z0-9-]*[a-z0-9])?$\"\n",
        "re.search(pattern, 'hello@uibakery.io.') # Returns None\n",
        "re.search(pattern, 'hello@192.168.0.1') # Returns <re.Match object; span=(0, 17), match='hello@192.168.0.1'>"
      ]
    },
    {
      "cell_type": "markdown",
      "source": [
        "# Unit testing"
      ],
      "metadata": {
        "id": "mnilzjmOl_kB"
      }
    },
    {
      "cell_type": "code",
      "execution_count": 112,
      "metadata": {
        "colab": {
          "base_uri": "https://localhost:8080/",
          "height": 312
        },
        "id": "q8ppovovVsvY",
        "outputId": "8bf09153-1e07-44ea-8a8e-dab18be8f9bc"
      },
      "outputs": [
        {
          "output_type": "stream",
          "name": "stderr",
          "text": [
            "E\n",
            "======================================================================\n",
            "ERROR: /root/ (unittest.loader._FailedTest)\n",
            "----------------------------------------------------------------------\n",
            "AttributeError: module '__main__' has no attribute '/root/'\n",
            "\n",
            "----------------------------------------------------------------------\n",
            "Ran 1 test in 0.005s\n",
            "\n",
            "FAILED (errors=1)\n"
          ]
        },
        {
          "output_type": "error",
          "ename": "SystemExit",
          "evalue": "True",
          "traceback": [
            "An exception has occurred, use %tb to see the full traceback.\n",
            "\u001b[0;31mSystemExit\u001b[0m\u001b[0;31m:\u001b[0m True\n"
          ]
        },
        {
          "output_type": "stream",
          "name": "stderr",
          "text": [
            "/usr/local/lib/python3.10/dist-packages/IPython/core/interactiveshell.py:3561: UserWarning: To exit: use 'exit', 'quit', or Ctrl-D.\n",
            "  warn(\"To exit: use 'exit', 'quit', or Ctrl-D.\", stacklevel=1)\n"
          ]
        }
      ],
      "source": [
        "# Unit testing\n",
        "# for becoming a senior developer\n",
        "import unittest\n",
        "\n",
        "class TestMain(unittest.TestCase):\n",
        "    def setUp(self):\n",
        "        print('ASDASD ASD ASD ASRSDFSD')\n",
        "    def test_to_do(self):\n",
        "        test_param = 10\n",
        "        result = main.add5(test_param)\n",
        "        self.assertEqual(result,15)\n",
        "    def test_to_do2(self):\n",
        "        test_param = 'asdasd'\n",
        "        result = main.add5(test_param)\n",
        "        self.assertIsInstance(result,ValueError)\n",
        "    def test_to_do3(self):\n",
        "        test_param = None\n",
        "        result = main.add5(test_param)\n",
        "        self.assertEqual(result,'please enter the number')\n",
        "    def test_to_do4(self):\n",
        "        test_param = ''\n",
        "        result = main.add5(test_param)\n",
        "        self.assertEqual(result,'please enter the number')\n",
        "if __name__ == '__main__':\n",
        "    unittest.main()\n",
        "#python -m unittest"
      ]
    },
    {
      "cell_type": "markdown",
      "source": [
        "#Debugger"
      ],
      "metadata": {
        "id": "kQDzLEiTmZ24"
      }
    },
    {
      "cell_type": "code",
      "execution_count": 113,
      "metadata": {
        "id": "dqwfzAVZVsvY"
      },
      "outputs": [],
      "source": [
        "#Debugger Example\n",
        "\n",
        "#Decorator that prints function's name every time it gets called.\n",
        "\n",
        "from functools import wraps\n",
        "\n",
        "def debug(func):\n",
        "    @wraps(func)\n",
        "    def out(*args, **kwargs):\n",
        "        print(func.__name__)\n",
        "        return func(*args, **kwargs)\n",
        "    return out\n",
        "\n",
        "@debug\n",
        "def add(x, y):\n",
        "    return x + y\n",
        "#Wraps is a helper decorator that copies metadata of function add() to function out().\n",
        "#Without it 'add.__name__' would return 'out'."
      ]
    },
    {
      "cell_type": "markdown",
      "source": [
        "# File usage"
      ],
      "metadata": {
        "id": "y01P4f9hmf8Z"
      }
    },
    {
      "cell_type": "code",
      "execution_count": 115,
      "metadata": {
        "colab": {
          "base_uri": "https://localhost:8080/"
        },
        "id": "uCQHnPT3VsvY",
        "outputId": "ea0a85be-aba7-4648-f01c-51cd7fe7d049"
      },
      "outputs": [
        {
          "output_type": "stream",
          "name": "stdout",
          "text": [
            "Overwriting myfile.txt\n"
          ]
        }
      ],
      "source": [
        "%%writefile myfile.txt\n",
        "Hello this is a text file\n",
        "THis is the next line\n",
        "asd asdlmfdskfm dfljgsdg sdg\n"
      ]
    },
    {
      "cell_type": "code",
      "execution_count": 116,
      "metadata": {
        "colab": {
          "base_uri": "https://localhost:8080/",
          "height": 35
        },
        "id": "nN0KmeoDVsvY",
        "outputId": "bb5ac326-f4cb-4d7c-8856-9be4ea79dfb4"
      },
      "outputs": [
        {
          "output_type": "execute_result",
          "data": {
            "text/plain": [
              "'Hello this is a text file\\nTHis is the next line \\nasd asdlmfdskfm dfljgsdg sdg\\n'"
            ],
            "application/vnd.google.colaboratory.intrinsic+json": {
              "type": "string"
            }
          },
          "metadata": {},
          "execution_count": 116
        }
      ],
      "source": [
        "myfile = open('myfile.txt')\n",
        "with open('myfile.txt','r',encoding='utf-8') as myfile:\n",
        "    read_file = myfile.read()\n",
        "read_file"
      ]
    },
    {
      "cell_type": "code",
      "execution_count": 117,
      "metadata": {
        "id": "Y8Fquh8BVsvZ"
      },
      "outputs": [],
      "source": [
        "with open('myfile.txt', mode='a',encoding='utf-8') as f:\n",
        "    f.write('Malikanakrarerere\\n')"
      ]
    },
    {
      "cell_type": "code",
      "execution_count": 118,
      "metadata": {
        "id": "N7eeqG_rVsvZ"
      },
      "outputs": [],
      "source": [
        "#CSV\n",
        "\n",
        "import csv\n",
        "#Read Rows from CSV File\n",
        "\n",
        "def read_csv_file(filename):\n",
        "    with open(filename, encoding='utf-8') as file:\n",
        "        return csv.reader(file, delimiter=';')\n",
        "#Write Rows to CSV File\n",
        "\n",
        "def write_to_csv_file(filename, rows):\n",
        "    with open(filename, 'w', encoding='utf-8') as file:\n",
        "        writer = csv.writer(file, delimiter=';')\n",
        "        writer.writerows(rows)"
      ]
    },
    {
      "cell_type": "code",
      "execution_count": 119,
      "metadata": {
        "id": "59p_PpGPVsvZ"
      },
      "outputs": [],
      "source": [
        "#Pickle\n",
        "\n",
        "import pickle\n",
        "#<bytes>  = pickle.dumps(<object>)\n",
        "#<object> = pickle.loads(<bytes>)\n",
        "#Read Object from File\n",
        "\n",
        "def read_pickle_file(filename):\n",
        "    with open(filename, 'rb') as file:\n",
        "        return pickle.load(file)\n",
        "#Write Object to File\n",
        "\n",
        "def write_to_pickle_file(filename, an_object):\n",
        "    with open(filename, 'wb') as file:\n",
        "        pickle.dump(an_object, file)"
      ]
    },
    {
      "cell_type": "markdown",
      "source": [
        "# OOP"
      ],
      "metadata": {
        "id": "nqm4EBLnms1k"
      }
    },
    {
      "cell_type": "code",
      "execution_count": null,
      "metadata": {
        "id": "gzAkElqcVsvZ",
        "outputId": "a570e3a0-2687-4b3e-ca9f-ab2943b80b31"
      },
      "outputs": [
        {
          "name": "stdout",
          "output_type": "stream",
          "text": [
            "Book: Book 1, Quantity: 12, Author: Author 1, Price: 120\n",
            "Book: Book 2, Quantity: 18, Author: Author 2, Price: 220\n",
            "Book: Book 3, Quantity: 28, Author: Author 3, Price: 320\n"
          ]
        }
      ],
      "source": [
        "#OOP\n",
        "class Book:\n",
        "    def __init__(self, title, quantity, author, price):\n",
        "        self.title = title\n",
        "        self.quantity = quantity\n",
        "        self.author = author\n",
        "        self.price = price\n",
        "\n",
        "    def __repr__(self):\n",
        "        return f\"Book: {self.title}, Quantity: {self.quantity}, Author: {self.author}, Price: {self.price}\"\n",
        "\n",
        "\n",
        "book1 = Book('Book 1', 12, 'Author 1', 120)\n",
        "book2 = Book('Book 2', 18, 'Author 2', 220)\n",
        "book3 = Book('Book 3', 28, 'Author 3', 320)\n",
        "\n",
        "print(book1)\n",
        "print(book2)\n",
        "print(book3)"
      ]
    },
    {
      "cell_type": "code",
      "execution_count": 120,
      "metadata": {
        "colab": {
          "base_uri": "https://localhost:8080/"
        },
        "id": "C9Arc5QcVsvY",
        "outputId": "4a5f3a17-b7f6-4622-bdac-35073c449348"
      },
      "outputs": [
        {
          "output_type": "stream",
          "name": "stdout",
          "text": [
            "run\n",
            "Name:Anas, age:45\n",
            "10227.0\n",
            "Name:Tom Brady, age:45\n"
          ]
        }
      ],
      "source": [
        "import os\n",
        "import sys\n",
        "\n",
        "\n",
        "def comeAndGetIt():\n",
        "    print('False god')\n",
        "\n",
        "\n",
        "class Player:\n",
        "    def __init__(self, name, age) -> None:\n",
        "        self.name = name\n",
        "        self.age = age\n",
        "\n",
        "    def attack(self):  # Instance Methods\n",
        "        print('run')\n",
        "\n",
        "    def __repr__(self) -> str:  # Dunder or Magic Methods\n",
        "        return 'Name:' + self.name + ', age:' + str(self.age)\n",
        "\n",
        "    @staticmethod\n",
        "    def ageInDAys(num1) -> int: # static method -> called by Player.ageInDAys\n",
        "        return num1 * 365.25\n",
        "\n",
        "    @staticmethod\n",
        "    def example_function():\n",
        "        print('I\\'m a static method!')\n",
        "\n",
        "    @classmethod\n",
        "    # Class Methods: Can access limited methods in the class. Can modify class specific details.\n",
        "    def killIt(cls) -> object:\n",
        "        return cls('Tom Brady', 45)\n",
        "\n",
        "\n",
        "if __name__ == '__main__':\n",
        "    player1 = Player('Deni', 32)\n",
        "    player2 = Player('Anas', 45)\n",
        "    player1.attack()\n",
        "    print(player2)\n",
        "    print(Player.ageInDAys(28))\n",
        "    player3 = Player.killIt()\n",
        "    print(player3)"
      ]
    },
    {
      "cell_type": "code",
      "execution_count": 121,
      "metadata": {
        "colab": {
          "base_uri": "https://localhost:8080/"
        },
        "id": "EBwPiTKcVsvZ",
        "outputId": "d26589c5-e0d6-43f2-9aa5-ae3ce5b6bd8e"
      },
      "outputs": [
        {
          "output_type": "execute_result",
          "data": {
            "text/plain": [
              "1234"
            ]
          },
          "metadata": {},
          "execution_count": 121
        }
      ],
      "source": [
        "class Cat():\n",
        "    number0 = 1234\n",
        "    def __init__(self,number1,number2,number3):\n",
        "        self.number1 = number1\n",
        "        self.number2 = number2\n",
        "        self.number3 = number3\n",
        "    def meow(self):\n",
        "        print(f\"Meow! My name is {self.number2}\")\n",
        "    def meow1(self,number):\n",
        "        print(f\"Moew! my name is {self.number2} {number}\")\n",
        "    def get(self):\n",
        "        return self.number0\n",
        "\n",
        "a = Cat(number1=\"1\",number2=\"PHN\",number3=1996)\n",
        "a.get()"
      ]
    },
    {
      "cell_type": "code",
      "execution_count": 122,
      "metadata": {
        "colab": {
          "base_uri": "https://localhost:8080/"
        },
        "id": "NsL42DQPVsvZ",
        "outputId": "04db8bbf-a720-4e0e-9fdc-43440c853b5a"
      },
      "outputs": [
        {
          "output_type": "stream",
          "name": "stdout",
          "text": [
            "Meow! My name is PHN\n"
          ]
        }
      ],
      "source": [
        "a.meow()"
      ]
    },
    {
      "cell_type": "code",
      "execution_count": 123,
      "metadata": {
        "colab": {
          "base_uri": "https://localhost:8080/"
        },
        "id": "ip0NgDuGVsvZ",
        "outputId": "d4072b0d-15e7-4ec0-f292-20fba5b78414"
      },
      "outputs": [
        {
          "output_type": "stream",
          "name": "stdout",
          "text": [
            "Moew! my name is PHN 123\n"
          ]
        }
      ],
      "source": [
        "a.meow1(123)"
      ]
    },
    {
      "cell_type": "code",
      "execution_count": 124,
      "metadata": {
        "colab": {
          "base_uri": "https://localhost:8080/"
        },
        "id": "6OElPHoVVsvZ",
        "outputId": "e57ac8fe-3926-4fe5-d304-3c23dde65d3e"
      },
      "outputs": [
        {
          "output_type": "execute_result",
          "data": {
            "text/plain": [
              "6.28"
            ]
          },
          "metadata": {},
          "execution_count": 124
        }
      ],
      "source": [
        "class Circle():\n",
        "    pi = 3.14\n",
        "    def __init__(self,radius = 1):\n",
        "        self.radius = radius\n",
        "        self.area = radius * radius * Circle.pi\n",
        "    def getCircumference(self):\n",
        "        return self.radius * Circle.pi *2\n",
        "a = Circle()\n",
        "a.getCircumference()"
      ]
    },
    {
      "cell_type": "markdown",
      "source": [
        "## Encapsulation"
      ],
      "metadata": {
        "id": "ppEwfz37oEV7"
      }
    },
    {
      "cell_type": "code",
      "execution_count": 126,
      "metadata": {
        "colab": {
          "base_uri": "https://localhost:8080/"
        },
        "id": "Xa639PZbVsva",
        "outputId": "9af09f46-a3be-429a-d106-4226cff746d1"
      },
      "outputs": [
        {
          "output_type": "stream",
          "name": "stdout",
          "text": [
            "200\n",
            "160.0\n",
            "Book: Two States, Quantity: 1, Author: Chetan Bhagat, Price: 200\n",
            "Book: Two States, Quantity: 25, Author: Chetan Bhagat, Price: 160.0\n",
            "4\n",
            "True\n"
          ]
        }
      ],
      "source": [
        "# Encapsulation is the process of preventing clients from accessing certain properties,\n",
        "# which can only be accessed through specific methods.\n",
        "#Let's introduce a private attribute called __discount in the Book class\n",
        "\n",
        "class Book:\n",
        "    def __init__(self, title, quantity, author, price):\n",
        "        self.title = title\n",
        "        self.quantity = quantity\n",
        "        self.author = author\n",
        "        self.__price = price\n",
        "        self.__discount = None\n",
        "\n",
        "    def set_discount(self, discount):\n",
        "        self.__discount = discount\n",
        "\n",
        "    def get_price(self):\n",
        "        if self.__discount:\n",
        "            return self.__price * (1-self.__discount)\n",
        "        return self.__price\n",
        "\n",
        "    def __get(self):\n",
        "        return 1\n",
        "\n",
        "    def get(self):\n",
        "        return self.__get() + 3\n",
        "\n",
        "    def __repr__(self):\n",
        "        return f\"Book: {self.title}, Quantity: {self.quantity}, Author: {self.author}, Price: {self.get_price()}\"\n",
        "\n",
        "\n",
        "single_book = Book('Two States', 1, 'Chetan Bhagat', 200)\n",
        "\n",
        "bulk_books = Book('Two States', 25, 'Chetan Bhagat', 200)\n",
        "bulk_books.set_discount(0.20)\n",
        "\n",
        "print(single_book.get_price())\n",
        "print(bulk_books.get_price())\n",
        "print(single_book)\n",
        "print(bulk_books)\n",
        "print(single_book.get())\n",
        "print(isinstance(single_book,Book))"
      ]
    },
    {
      "cell_type": "markdown",
      "source": [
        "## Inheritance"
      ],
      "metadata": {
        "id": "1h3MM8zdpRBO"
      }
    },
    {
      "cell_type": "code",
      "execution_count": 127,
      "metadata": {
        "colab": {
          "base_uri": "https://localhost:8080/"
        },
        "id": "jl8goH0QVsva",
        "outputId": "e4af010e-c183-4ea4-e716-d7b2cceb6245"
      },
      "outputs": [
        {
          "output_type": "stream",
          "name": "stdout",
          "text": [
            "You've made me a human\n",
            "I love hurting someone\n",
            "You've made me a human\n",
            "You've made me a Kipchak.\n",
            "You've made me a Kazakh.\n",
            "I love hurting someone\n",
            "I speak some languages\n",
            "Playing Dombra\n",
            "Saying Kipchak\n",
            "(<class '__main__.Kazakh'>, <class '__main__.Human'>, <class '__main__.Kipchak'>, <class 'object'>)\n"
          ]
        }
      ],
      "source": [
        "#Inheritance is regarded as the most significant characteristics of OOP.\n",
        "#A class's ability to inherit methods and/or characteristics from another class is known as inheritance.\n",
        "#The subclass or child class is the class that inherits.\n",
        "#The superclass or parent class is the class from which methods and/or attributes are inherited.\n",
        "class Human():\n",
        "    def __init__(self):\n",
        "        print(\"You've made me a human\")\n",
        "    def hurtSomeone(self):\n",
        "        print(\"I love hurting someone\")\n",
        "    def speak(self):\n",
        "        print(\"I speak some languages\")\n",
        "    def feelSorry(self):\n",
        "        print(\"I feel so sorry, my boy!\")\n",
        "a = Human()\n",
        "a.hurtSomeone()\n",
        "\n",
        "# Inheritence\n",
        "class Kipchak():\n",
        "    def __init__(self):\n",
        "        super().__init__()\n",
        "        print(\"You've made me a Kipchak.\")\n",
        "    def sayKipchak(self):\n",
        "        print('Saying Kipchak')\n",
        "\n",
        "\n",
        "# Inheritence\n",
        "class Kazakh(Human,Kipchak):\n",
        "    def __init__(self):\n",
        "        Human.__init__(self)\n",
        "        Kipchak.__init__(self)\n",
        "        print(\"You've made me a Kazakh.\")\n",
        "    def playDombra(self):\n",
        "        print('Playing Dombra')\n",
        "\n",
        "k = Kazakh()\n",
        "k.hurtSomeone()\n",
        "k.speak()\n",
        "k.playDombra()\n",
        "k.sayKipchak()\n",
        "print(Kazakh.__mro__)\n",
        "\n",
        "import math\n",
        "class Shape:\n",
        "    def __init__(self, color):\n",
        "        self.__color = color\n",
        "    def get_color(self):\n",
        "        return self.__color\n",
        "    def set_color(self, color):\n",
        "        self.__color = color\n",
        "\n",
        "class Rectangle(Shape):\n",
        "    def __init__(self, color, length):\n",
        "        super().__init__(color)\n",
        "        self.__length = length\n",
        "    def get_length(self):\n",
        "        return self.__length\n",
        "    def set_length(self, length):\n",
        "        self.__length = length\n",
        ""
      ]
    },
    {
      "cell_type": "markdown",
      "source": [
        "## Polymorphism"
      ],
      "metadata": {
        "id": "Z651aXWtpj28"
      }
    },
    {
      "cell_type": "code",
      "execution_count": 130,
      "metadata": {
        "colab": {
          "base_uri": "https://localhost:8080/"
        },
        "id": "JOTPEaofVsva",
        "outputId": "18a11968-3d6c-4ba2-dad7-7da724f7c526"
      },
      "outputs": [
        {
          "output_type": "stream",
          "name": "stdout",
          "text": [
            "Mike Bark!Bark!\n",
            "Run!\n",
            "India Meow!Meow!\n",
            "Run!\n"
          ]
        }
      ],
      "source": [
        "# Polymorphism\n",
        "\n",
        "#The term 'polymorphism' comes from the Greek language and means 'something that takes on multiple forms.'\n",
        "#Polymorphism refers to a subclass's ability to adapt a method that already exists\n",
        "#in its superclass to meet its needs.\n",
        "#To put it another way, a subclass can use a method from its superclass as is or modify it as needed.\n",
        "class Animal():\n",
        "    def __init__(self,name):\n",
        "        self.name = name\n",
        "    def run(self):\n",
        "      print('Run!')\n",
        "    def speak(self):\n",
        "        raise NotImplementedError(\"You have to add it!\")\n",
        "\n",
        "class Dog(Animal):\n",
        "    def speak(self):\n",
        "        print(self.name + \" Bark!Bark!\")\n",
        "\n",
        "class Cat(Animal):\n",
        "    def speak(self):\n",
        "        print(self.name + \" Meow!Meow!\")\n",
        "\n",
        "a = Dog(\"Mike\")\n",
        "a.speak()\n",
        "a.run()\n",
        "a = Cat(\"India\")\n",
        "a.speak()\n",
        "a.run()\n",
        "\n"
      ]
    },
    {
      "cell_type": "markdown",
      "source": [
        "##Abstraction"
      ],
      "metadata": {
        "id": "y4bfX1vBp4XK"
      }
    },
    {
      "cell_type": "code",
      "execution_count": null,
      "metadata": {
        "tags": [],
        "id": "tqRQvyoUVsva",
        "outputId": "3b70cbea-ca15-4f0f-903e-5e2141678d19"
      },
      "outputs": [
        {
          "name": "stdout",
          "output_type": "stream",
          "text": [
            "Novel Book Name : To kill a mockingbird\n"
          ]
        }
      ],
      "source": [
        "#Abstraction isn't supported directly in Python.\n",
        "#Calling a magic method, on the other hand, allows for abstraction.\n",
        "#If an abstract method is declared in a superclass, subclasses that inherit from the superclass\n",
        "#must have their own implementation of the method.\n",
        "\n",
        "from abc import ABC, abstractmethod\n",
        "\n",
        "class Book(ABC):\n",
        "    def __init__(self, title):\n",
        "        self.title = title\n",
        "\n",
        "    @abstractmethod\n",
        "    def __repr__(self):\n",
        "        pass\n",
        "\n",
        "\n",
        "class Novel(Book):\n",
        "    def __init__(self, title):\n",
        "        super().__init__(title)\n",
        "        self.isNovel = True\n",
        "    def __repr__(self):\n",
        "        return f'Novel Book Name : {self.title}'\n",
        "\n",
        "a = Novel('To kill a mockingbird')\n",
        "print(a)"
      ]
    },
    {
      "cell_type": "code",
      "execution_count": 132,
      "metadata": {
        "colab": {
          "base_uri": "https://localhost:8080/"
        },
        "id": "V9RMj49zVsva",
        "outputId": "e0347d4d-01a0-4c33-947d-598cff9814d4"
      },
      "outputs": [
        {
          "output_type": "stream",
          "name": "stdout",
          "text": [
            "I am parent class\n",
            "I am parent class\n",
            "I am child class\n"
          ]
        }
      ],
      "source": [
        "#Method Overriding\n",
        "#When a method with the same name and arguments is used in both\n",
        "#a derived class and a base or super class, we say that the derived class method \"overrides\"\n",
        "#the method provided in the base class\n",
        "\n",
        "class ParentClass:\n",
        "    def call_me(self):\n",
        "        print(\"I am parent class\")\n",
        "\n",
        "\n",
        "class ChildClass(ParentClass):\n",
        "    def call_me(self):\n",
        "        super().call_me()\n",
        "        print(\"I am child class\")\n",
        "\n",
        "pobj = ParentClass()\n",
        "pobj.call_me()\n",
        "\n",
        "cobj = ChildClass()\n",
        "cobj.call_me()"
      ]
    },
    {
      "cell_type": "markdown",
      "source": [
        "## Magic or Dunder Methods"
      ],
      "metadata": {
        "id": "Src4daPhqo3y"
      }
    },
    {
      "cell_type": "code",
      "execution_count": 135,
      "metadata": {
        "colab": {
          "base_uri": "https://localhost:8080/"
        },
        "id": "vQCH2PubVsva",
        "outputId": "7f3bc38d-0e02-4e6e-c689-eaf3d4214b9c"
      },
      "outputs": [
        {
          "output_type": "stream",
          "name": "stdout",
          "text": [
            "Nurlyssultan. His weight is 94,180.\n",
            "This is a del.\n"
          ]
        }
      ],
      "source": [
        "class Sample():\n",
        "    def __init__(self,name,length,weight):\n",
        "        self.name = name\n",
        "        self.length = length\n",
        "        self.weight = weight\n",
        "    def __str__(self):\n",
        "        return \"{}. His weight is {},{}.\".format(self.name,self.weight,self.length)\n",
        "    def __repr__(self):\n",
        "        return \"Sample({},{},{})\".format(self.name,self.length,self.weight)\n",
        "    def __len__(self):\n",
        "        return self.length\n",
        "    def __del__(self):\n",
        "        return print(\"This is a del.\")\n",
        "a = Sample(\"Nurlyssultan\",180,94)\n",
        "print(a)"
      ]
    },
    {
      "cell_type": "markdown",
      "source": [
        "# Math"
      ],
      "metadata": {
        "id": "dfJSmeqWt0uX"
      }
    },
    {
      "cell_type": "code",
      "execution_count": 136,
      "metadata": {
        "colab": {
          "base_uri": "https://localhost:8080/"
        },
        "id": "6fK0YragVsvb",
        "outputId": "37cb1ac3-51d9-49b0-c99f-fd3b9f5480eb"
      },
      "outputs": [
        {
          "output_type": "stream",
          "name": "stdout",
          "text": [
            "3.141592653589793\n",
            "3\n",
            "4\n",
            "3\n",
            "11.090536506409418\n",
            "4\n",
            "9.869604401089358\n",
            "56\n"
          ]
        }
      ],
      "source": [
        "import math\n",
        "pi = math.pi\n",
        "print(pi)\n",
        "print(round(pi))\n",
        "print(math.ceil(pi))\n",
        "print(math.floor(pi))\n",
        "print(math.sqrt(123))\n",
        "print(abs(-4))\n",
        "print(pow(pi,2))\n",
        "print(max([1,2,3,4,56]))"
      ]
    },
    {
      "cell_type": "code",
      "execution_count": null,
      "metadata": {
        "id": "AWwvipTXVsvc",
        "outputId": "740d4469-2d15-40cf-d0e0-17d00a895f3b"
      },
      "outputs": [
        {
          "name": "stdout",
          "output_type": "stream",
          "text": [
            "5\n",
            "25\n"
          ]
        }
      ],
      "source": [
        "\n",
        "def mult_by_five(x):\n",
        "    return 5 * x\n",
        "\n",
        "def call(fn, arg):\n",
        "    \"\"\"Call fn on arg\"\"\"\n",
        "    return fn(arg)\n",
        "\n",
        "def squared_call(fn, arg):\n",
        "    \"\"\"Call fn on the result of calling fn on arg\"\"\"\n",
        "    return fn(fn(arg))\n",
        "\n",
        "print(\n",
        "    call(mult_by_five, 1),\n",
        "    squared_call(mult_by_five, 1),\n",
        "    sep='\\n', # '\\n' is the newline character - it starts a new line\n",
        ")"
      ]
    },
    {
      "cell_type": "code",
      "execution_count": null,
      "metadata": {
        "id": "4hx9Efm0Vsvc",
        "outputId": "ed759dd6-ae09-4bb7-f016-2f55f2d82659"
      },
      "outputs": [
        {
          "name": "stdout",
          "output_type": "stream",
          "text": [
            "__main__\n"
          ]
        }
      ],
      "source": [
        "# __name__ == '__main__'\n",
        "# python interpreter sets \"special variables\", one of which is __name__\n",
        "# python will assign the __name__ variable a value of '__main__' if it's the initial module being run\n",
        "\n",
        "#if __name__ == '__main__':\n",
        "\n",
        "#The global variable, __name__, in the module that is the entry point to your program, is '__main__'.\n",
        "#Otherwise, it's the name you import the module by.\n",
        "#So, code under the if block will only run if the module is the entry point to your program.\n",
        "#It allows the code in the module to be importable by other modules, without executing the code block beneath on import.\n",
        "print(__name__)"
      ]
    }
  ],
  "metadata": {
    "kernelspec": {
      "display_name": "Python 3 (ipykernel)",
      "language": "python",
      "name": "python3"
    },
    "language_info": {
      "codemirror_mode": {
        "name": "ipython",
        "version": 3
      },
      "file_extension": ".py",
      "mimetype": "text/x-python",
      "name": "python",
      "nbconvert_exporter": "python",
      "pygments_lexer": "ipython3",
      "version": "3.9.13"
    },
    "colab": {
      "provenance": [],
      "toc_visible": true,
      "include_colab_link": true
    }
  },
  "nbformat": 4,
  "nbformat_minor": 0
}