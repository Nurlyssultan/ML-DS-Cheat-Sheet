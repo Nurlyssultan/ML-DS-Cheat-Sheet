{
  "nbformat": 4,
  "nbformat_minor": 0,
  "metadata": {
    "colab": {
      "provenance": [],
      "authorship_tag": "ABX9TyPxlRU7cRkWIUp0t7ZpG0+S",
      "include_colab_link": true
    },
    "kernelspec": {
      "name": "python3",
      "display_name": "Python 3"
    },
    "language_info": {
      "name": "python"
    }
  },
  "cells": [
    {
      "cell_type": "markdown",
      "metadata": {
        "id": "view-in-github",
        "colab_type": "text"
      },
      "source": [
        "<a href=\"https://colab.research.google.com/github/Nurlyssultan/ML-DS-Cheat-Sheet/blob/main/Practical_Statistics_with_Python.ipynb\" target=\"_parent\"><img src=\"https://colab.research.google.com/assets/colab-badge.svg\" alt=\"Open In Colab\"/></a>"
      ]
    },
    {
      "cell_type": "markdown",
      "source": [
        "# Practical statistics with Python throughout many courses and books\n"
      ],
      "metadata": {
        "id": "OzmWUtPH3XVQ"
      }
    },
    {
      "cell_type": "markdown",
      "source": [
        "## The elements of Data Types\n"
      ],
      "metadata": {
        "id": "Qfzufi-DDikV"
      }
    },
    {
      "cell_type": "markdown",
      "source": [
        "#### Numeric Data Type\n",
        "*   Continuous (live show data, wind speed, time duration)  \n",
        "*   Discrete (number of players, counts of action)\n",
        "\n",
        "#### Categorical Data Type\n",
        "*   Binary (1/0, True/False, yes/no)\n",
        "*   Ordinal (numeric rating like [1,2,3,4,5])\n",
        "\n",
        "\n",
        "\n",
        "\n"
      ],
      "metadata": {
        "id": "ZseFXqq4DoSc"
      }
    },
    {
      "cell_type": "markdown",
      "source": [],
      "metadata": {
        "id": "MrivAXYRHuOz"
      }
    }
  ]
}